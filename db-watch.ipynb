{
 "cells": [
  {
   "cell_type": "markdown",
   "id": "66c0df0e",
   "metadata": {},
   "source": [
    "### **APIs with Python: Google Sheets Monitoring - Cocaine Seizures**\n",
    "#### InSight Crime’s MAD Unit - (June, 2025)\n",
    "\n",
    "##### Luis Felipe Villota Macías\n",
    "\n",
    "---------------------\n",
    "\n"
   ]
  },
  {
   "cell_type": "markdown",
   "id": "c506f4d0",
   "metadata": {},
   "source": [
    "### 1. Goals"
   ]
  },
  {
   "cell_type": "markdown",
   "id": "0817cb81",
   "metadata": {},
   "source": [
    "* Monitor and validate data in a shared Google Sheet using automated checks to ensure accuracy, consistency, and data quality.\n",
    "\n",
    "* Highlight invalid or suspicious entries directly in the sheet and optionally generate weekly reports to support governance and oversight.\n",
    "\n",
    "* Automate the process with Google Apps Script or Python, running validations on a schedule (e.g. every Friday) with minimal manual effort.\n",
    "\n",
    "\n",
    "\n",
    "\n",
    "________________"
   ]
  },
  {
   "cell_type": "markdown",
   "id": "80d6e936",
   "metadata": {},
   "source": [
    "### 2. Project Setup"
   ]
  },
  {
   "cell_type": "markdown",
   "id": "ac164b48",
   "metadata": {},
   "source": [
    "#### 2.1 Version Control"
   ]
  },
  {
   "cell_type": "markdown",
   "id": "db7255ac",
   "metadata": {},
   "source": [
    "I decided to create a single GitHub repository ([FelipeVillota/db-check-cocaine-seizures](https://github.com/FelipeVillota/db-check-cocaine-seizures)). I keep the repository `private` with the possibility to give access to the online repo at any time. "
   ]
  },
  {
   "cell_type": "markdown",
   "id": "ad16f5b0",
   "metadata": {},
   "source": [
    "#### 2.2 Reproducible Environment"
   ]
  },
  {
   "cell_type": "code",
   "execution_count": null,
   "id": "a1112678",
   "metadata": {},
   "outputs": [],
   "source": [
    "# IMPORTANT\n",
    "# To create venv\n",
    "# python -m venv venv-db-watch\n",
    "\n",
    "# To activate environment, run in Terminal:\n",
    "# # (optional, temporary auth) \n",
    "# Set-ExecutionPolicy -Scope Process -ExecutionPolicy Bypass \n",
    "# venv-db-watch\\Scripts\\activate\n",
    "\n",
    "# Then select respective kernel --> also install ipykernel package to connect to kernel\n",
    "\n",
    "# Update list master list\n",
    "# pip freeze > requirements.txt"
   ]
  },
  {
   "cell_type": "code",
   "execution_count": 1,
   "id": "898046a7",
   "metadata": {},
   "outputs": [
    {
     "name": "stdout",
     "output_type": "stream",
     "text": [
      "c:\\Users\\USER\\Desktop\\ic\\db-check-cocaine-seizures\\venv-db-watch\\Scripts\\python.exe\n"
     ]
    }
   ],
   "source": [
    "# Checking venv-db-watch works\n",
    "import sys\n",
    "print(sys.executable)"
   ]
  },
  {
   "cell_type": "markdown",
   "id": "802dc17a",
   "metadata": {},
   "source": [
    "#### 2.3 Loading Libraries"
   ]
  },
  {
   "cell_type": "code",
   "execution_count": null,
   "id": "793fd425",
   "metadata": {},
   "outputs": [],
   "source": [
    "# pip install --upgrade google-api-python-client google-auth-httplib2 google-auth-oauthlib pandas"
   ]
  },
  {
   "cell_type": "code",
   "execution_count": null,
   "id": "735fe917",
   "metadata": {},
   "outputs": [],
   "source": [
    "import os\n",
    "import re\n",
    "import requests\n",
    "import pandas as pd\n",
    "from datetime import datetime\n",
    "from google.oauth2 import service_account\n",
    "from googleapiclient.discovery import build\n",
    "# pip freeze > requirements.txt"
   ]
  },
  {
   "cell_type": "markdown",
   "id": "d76b22df",
   "metadata": {},
   "source": [
    "----------------------"
   ]
  },
  {
   "cell_type": "markdown",
   "id": "92d515b3",
   "metadata": {},
   "source": [
    "### 3.  Approach"
   ]
  },
  {
   "cell_type": "markdown",
   "id": "7c6ab109",
   "metadata": {},
   "source": [
    "As general background and scheme, \n",
    "\n",
    "* I conceive an API as a portal that communicates data between different software systems, so it is key to know how to make `requests` (queries) to different `endpoints` (particular URLs as gateways of the API) to extract data and to know the level of `authentication` (permissions) required to access instances (Goodwin, 2024). Additionally, one has to consider the `status` (success or not) of the eventual `response` and the `data format` of the output (to be processed later) (Goodwin, 2024; IBM Technology, 2020).\n",
    "\n",
    "* To interact with any API effectively, I try to get familiar with the developer's documentation (in this case also dataset codebooks). This is the guide to how the API works and how I can use its functionalities -it explains the protocols for accessing different software applications, making calls and receiving responses.\n",
    "\n",
    "* In this case, the UCDP API is `openly available` and has a `REStful architecture` (Representational State Transfer, a client-server dynamic). This is a standard design and it means it uses `HTTP` (Hypertext Transfer Protocol) communication methods (IBM Technology, 2020). So, the `requests` (queries or petitions to the source) are made via operations under the CRUD logic (create, read, update, delete) (ibid).\n"
   ]
  },
  {
   "cell_type": "markdown",
   "id": "d787c08b",
   "metadata": {},
   "source": [
    "\n",
    "* I identify that the UCDP API basics are : \n",
    "\n",
    "    Base URL: `https://ucdpapi.pcr.uu.se/api/`\n",
    "\n",
    "    Endpoint structure (RESTful format): `https://ucdpapi.pcr.uu.se/api/<resource>/<version>?<pagesize=x>&<page=x>`\n",
    "\n",
    "    Where the parameters are: \n",
    "\n",
    "    Target dataset: `<resource>` to be replaced with `gedevents` for the UCDP Georeferenced Event Dataset - GED\n",
    "\n",
    "    Dataset version: `<version>` to be replaced with `24.1` which is the latest and yearly release is `24.01.24.12`\n",
    "\n",
    "    Pagination parameters: `<pagesize=x>&<page=x>` \n",
    "\n",
    "    Format of requested data: `JSON` an array of objects (common notation in APIs, representing GED events)\n",
    "\n",
    "\n",
    "* And, regarding rate limits (focusing on `gedevents`):\n",
    "\n",
    "    `Requires paging:  1 to 1,000 rows per page`\n",
    "\n",
    "    `Allows 5,000 requests/day`\n",
    "\n",
    "    `Counters reset at midnight (UTC)`\n",
    "\n"
   ]
  },
  {
   "cell_type": "markdown",
   "id": "b5904545",
   "metadata": {},
   "source": [
    "My general idea is to create a modular client (frontend) call that extracts just the subset of data required from the API server (backend); -and, make it easily reusable for future queries.\n",
    "\n",
    "\n",
    "____________________"
   ]
  },
  {
   "cell_type": "markdown",
   "id": "4b99eeee",
   "metadata": {},
   "source": [
    "### 4. Execution"
   ]
  },
  {
   "cell_type": "markdown",
   "id": "db308e65",
   "metadata": {},
   "source": [
    "#### 4.1 Accessing the API"
   ]
  },
  {
   "cell_type": "code",
   "execution_count": null,
   "id": "85d79640",
   "metadata": {},
   "outputs": [],
   "source": [
    "# Path to your downloaded JSON credentials\n",
    "SERVICE_ACCOUNT_FILE = 'path/to/credentials.json'\n",
    "\n",
    "# ID of your Google Sheet (from the URL)\n",
    "SPREADSHEET_ID = 'your-spreadsheet-id'\n",
    "\n",
    "# Range to read from your sheet (e.g. 'Sheet1!A1:Z1000')\n",
    "RANGE_NAME = 'Sheet1!A1:Z1000'\n",
    "\n",
    "# Define scopes for Google Sheets and Drive API\n",
    "SCOPES = ['https://www.googleapis.com/auth/spreadsheets', 'https://www.googleapis.com/auth/drive']\n",
    "\n",
    "# Authenticate and build the service\n",
    "creds = service_account.Credentials.from_service_account_file(\n",
    "    SERVICE_ACCOUNT_FILE, scopes=SCOPES)\n",
    "service = build('sheets', 'v4', credentials=creds)\n",
    "\n",
    "# Call the Sheets API to read data\n",
    "sheet = service.spreadsheets()\n",
    "result = sheet.values().get(spreadsheetId=SPREADSHEET_ID, range=RANGE_NAME).execute()\n",
    "values = result.get('values', [])\n",
    "\n",
    "# Convert to DataFrame for easier manipulation\n",
    "df = pd.DataFrame(values[1:], columns=values[0])\n",
    "print(df.head()) "
   ]
  },
  {
   "cell_type": "markdown",
   "id": "d4b73750",
   "metadata": {},
   "source": [
    "#### 4.2 Data Analysis"
   ]
  },
  {
   "cell_type": "code",
   "execution_count": null,
   "id": "2984923f",
   "metadata": {},
   "outputs": [
    {
     "data": {
      "text/plain": [
       "adm_2\n",
       "Pokrovsk raion                     17849\n",
       "Deir al-Balah governorate           3929\n",
       "Bakhmut raion                       3603\n",
       "Gaza governorate                    3386\n",
       "Gaza ash Shamaliyah governorate     2851\n",
       "Name: best, dtype: int64"
      ]
     },
     "metadata": {},
     "output_type": "display_data"
    }
   ],
   "source": [
    "# 1. What are the five deadliest municipalities (adm_2) overall in 2024?\n",
    "\n",
    "# Focus on variable:\n",
    "# best (integer): \"The best (most likely) estimate of total fatalities resulting from an event.\" (Högbladh, 2024; Sundberg et. al, 2013) \n",
    "\n",
    "full_2024.groupby('adm_2')['best'].sum().nlargest(5)"
   ]
  },
  {
   "cell_type": "code",
   "execution_count": null,
   "id": "c175a316",
   "metadata": {},
   "outputs": [
    {
     "data": {
      "text/plain": [
       "adm_2\n",
       "Deir al-Balah governorate          1801\n",
       "Gaza governorate                   1234\n",
       "Gaza ash Shamaliyah governorate     871\n",
       "El Fasher district                  797\n",
       "Rafah governorate                   729\n",
       "Name: deaths_civilians, dtype: int64"
      ]
     },
     "metadata": {},
     "output_type": "display_data"
    }
   ],
   "source": [
    "# 2. What are the five deadliest municipalities (adm_2) just for civilians in 2024?\n",
    "\n",
    "# Focus on variable:\n",
    "# deaths_civilians (integer):\"The best estimate of dead civilians in the event.  For non-state or state-based events, this is the number of collateral damage resulting in fighting between side a and side integer b. For one-sided violence, it is the number of civilians killed by side a.\" (Högbladh, 2024; Sundberg et. al, 2013) \n",
    "\n",
    "full_2024.groupby('adm_2')['deaths_civilians'].sum().nlargest(5)"
   ]
  },
  {
   "cell_type": "code",
   "execution_count": null,
   "id": "e6e8dea8",
   "metadata": {},
   "outputs": [
    {
     "name": "stdout",
     "output_type": "stream",
     "text": [
      "OPTION 1: The province with the largest increase in overall violence (in number of unique events) since December 2023 is:\n",
      "adm_1\n",
      "Gaza Strip    65\n",
      "Name: id, dtype: int64\n",
      "OPTION 1: The province with the largest decrease in overall violence (in number of unique events) since December 2023 is:\n"
     ]
    },
    {
     "data": {
      "text/plain": [
       "adm_1\n",
       "Adamawa state    1\n",
       "Name: id, dtype: int64"
      ]
     },
     "metadata": {},
     "output_type": "display_data"
    }
   ],
   "source": [
    "# For Q3 & Q4: Given the instructions and the datasets consulted, I interpret different possibilities to answer them,\n",
    "\n",
    "\n",
    "# Option 1 -> I can only find the highest and lowest count of unique events in DEC 2023 (strictly using just the official latest dataset and the defined date filter)\n",
    "\n",
    "# 3. Which province (adm_1) has seen the largest increase in overall violence since December 2023?\n",
    "# id (integer) = \"A unique numeric ID identifying each event.\" (Högbladh, 2024; Sundberg et. al, 2013) \n",
    "print(\"OPTION 1: The province with the largest increase in overall violence (in number of unique events) since December 2023 is:\")\n",
    "print(since_dec_2023.groupby('adm_1')['id'].count().nlargest(1))\n",
    "\n",
    "#4. Which province (adm_1) has seen the largest decrease in overall violence since December 2023?\n",
    "print(\"OPTION 1: The province with the largest decrease in overall violence (in number of unique events) since December 2023 is:\")\n",
    "since_dec_2023.groupby('adm_1')['id'].count().nsmallest(1) # Of course, there must be at least 1 event (lowest count), several have just 1 event \n"
   ]
  },
  {
   "cell_type": "code",
   "execution_count": null,
   "id": "29c35cde",
   "metadata": {},
   "outputs": [
    {
     "name": "stdout",
     "output_type": "stream",
     "text": [
      "OPTION 2: Largest increase since DEC 2023 (province level): Kursk oblast (498 more events)\n",
      "OPTION 2: Largest decrease since DEC 2023 (province level): Rif Dimashq governorate (-17401 fewer events)\n"
     ]
    }
   ],
   "source": [
    "# Option 2 -> using merged df and comparing\n",
    "\n",
    "combined_dfs['date_end'] = pd.to_datetime(combined_dfs['date_end']) # just to confirm the data type\n",
    "\n",
    "# Date splits\n",
    "before = combined_dfs[combined_dfs['date_end'] < '2023-12-01'] # since DEC 2023\n",
    "after = combined_dfs[combined_dfs['date_end'] >= '2023-12-01'] # onwards\n",
    "\n",
    "change = (\n",
    "    after['adm_1'].value_counts() - \n",
    "    before['adm_1'].value_counts()).fillna(0) # comparing province series of unique events, gives positive and negative changes\n",
    "\n",
    "print(f\"OPTION 2: Largest increase since DEC 2023 (province level): {change.idxmax()} ({int(change.max())} more events)\") # printing index label for largest value (province) and actual count (largest)\n",
    "print(f\"OPTION 2: Largest decrease since DEC 2023 (province level): {change.idxmin()} ({int(change.min())} fewer events)\") # printing index label for lowest value (province) and actual count (min)"
   ]
  },
  {
   "cell_type": "markdown",
   "id": "00c5073c",
   "metadata": {},
   "source": [
    "### References"
   ]
  },
  {
   "cell_type": "markdown",
   "id": "c38abb83",
   "metadata": {},
   "source": [
    "Davies, Shawn, Garoun Engström, Therese Pettersson & Magnus Öberg (2024). Organized violence 1989-2023, and the prevalence of organized crime groups. Journal of Peace Research 61(4).\n",
    "\n",
    "Goodwin, M. (2024, April 9). What Is an API (Application Programming Interface)? IBM. https://www.ibm.com/think/topics/api\n",
    "\n",
    "Högbladh, Stina. (2024). “UCDP GED Codebook version 24.1”, Department of Peace and Conflict Research, Uppsala University\n",
    "\n",
    "IBM Technology (Director). (2020, October 23). What is a REST API? [Video recording]. https://www.youtube.com/watch?v=lsMQRaeKNDk\n",
    "\n",
    "JSON. (n.d.). Retrieved April 7, 2025, from https://www.json.org/json-en.html\n",
    "\n",
    "Sundberg, Ralph and Erik Melander (2013) Introducing the UCDP Georeferenced Event Dataset. Journal of Peace Research 50(4). 523-532\n",
    "\n",
    "UCDP Application Programming Interface (API). (n.d.). Retrieved April 7, 2025, from https://ucdp.uu.se/apidocs/\n"
   ]
  },
  {
   "cell_type": "markdown",
   "id": "1af11c62",
   "metadata": {},
   "source": [
    "________________"
   ]
  }
 ],
 "metadata": {
  "kernelspec": {
   "display_name": "venv-db-watch",
   "language": "python",
   "name": "python3"
  },
  "language_info": {
   "codemirror_mode": {
    "name": "ipython",
    "version": 3
   },
   "file_extension": ".py",
   "mimetype": "text/x-python",
   "name": "python",
   "nbconvert_exporter": "python",
   "pygments_lexer": "ipython3",
   "version": "3.12.10"
  }
 },
 "nbformat": 4,
 "nbformat_minor": 5
}
