{
 "cells": [
  {
   "cell_type": "markdown",
   "id": "66c0df0e",
   "metadata": {},
   "source": [
    "### **Database Monitoring - Cocaine Seizures 2025 (Google Sheets)**\n",
    "#### InSight Crime - MAD Unit \n",
    "June, 2025\n",
    "\n",
    "##### Luis Felipe Villota Macías\n",
    "\n",
    "---------------------\n",
    "\n"
   ]
  },
  {
   "cell_type": "markdown",
   "id": "09006c2d",
   "metadata": {},
   "source": [
    "### Goals"
   ]
  },
  {
   "cell_type": "markdown",
   "id": "4114163b",
   "metadata": {},
   "source": [
    "- Data Health Metrics (completeness, consistency)\n",
    "\n",
    "- Key Performance Indicators (KPIs) (total seizures, trends)\n",
    "\n",
    "- Alerts (missing data, inconsistencies)\n",
    "\n",
    "- Quick Filters (by country, drug type, time period)\n",
    "\n",
    "- Visualizations"
   ]
  },
  {
   "cell_type": "markdown",
   "id": "80d6e936",
   "metadata": {},
   "source": [
    "### Project Setup"
   ]
  },
  {
   "cell_type": "markdown",
   "id": "ac164b48",
   "metadata": {},
   "source": [
    "#### Version Control"
   ]
  },
  {
   "cell_type": "markdown",
   "id": "db7255ac",
   "metadata": {},
   "source": [
    "I decided to create a single GitHub repository ([FelipeVillota/db-check-cocaine-seizures](https://github.com/FelipeVillota/db-check-cocaine-seizures)). I keep the repository `private` with the possibility to give access to the online repo at any time. "
   ]
  },
  {
   "cell_type": "markdown",
   "id": "ad16f5b0",
   "metadata": {},
   "source": [
    "#### Reproducible Environment"
   ]
  },
  {
   "cell_type": "code",
   "execution_count": 28,
   "id": "a1112678",
   "metadata": {},
   "outputs": [],
   "source": [
    "# IMPORTANT\n",
    "# To create venv\n",
    "# python -m venv venv-db-watch\n",
    "\n",
    "# To activate environment, run in Terminal:\n",
    "# # (optional, temporary auth) \n",
    "# Set-ExecutionPolicy -Scope Process -ExecutionPolicy Bypass \n",
    "# venv-db-watch\\Scripts\\activate\n",
    "\n",
    "# Then select respective kernel --> also install ipykernel package to connect to kernel\n",
    "\n",
    "# Update list master list\n",
    "# pip freeze > requirements.txt"
   ]
  },
  {
   "cell_type": "code",
   "execution_count": 29,
   "id": "898046a7",
   "metadata": {},
   "outputs": [
    {
     "name": "stdout",
     "output_type": "stream",
     "text": [
      "c:\\Users\\USER\\Desktop\\ic\\db-check-cocaine-seizures\\venv-db-watch\\Scripts\\python.exe\n"
     ]
    }
   ],
   "source": [
    "# Checking venv-db-watch works\n",
    "import sys\n",
    "print(sys.executable)"
   ]
  },
  {
   "cell_type": "markdown",
   "id": "802dc17a",
   "metadata": {},
   "source": [
    "#### Loading Libraries"
   ]
  },
  {
   "cell_type": "code",
   "execution_count": 30,
   "id": "793fd425",
   "metadata": {},
   "outputs": [],
   "source": [
    "# pip install --upgrade google-api-python-client google-auth-httplib2 google-auth-oauthlib pandas"
   ]
  },
  {
   "cell_type": "code",
   "execution_count": 87,
   "id": "735fe917",
   "metadata": {},
   "outputs": [],
   "source": [
    "import os\n",
    "import re\n",
    "import requests\n",
    "import pandas as pd\n",
    "from datetime import datetime\n",
    "from google.oauth2 import service_account\n",
    "from googleapiclient.discovery import build\n",
    "import gspread\n",
    "from google.oauth2.service_account import Credentials\n",
    "from gspread_formatting import format_cell_ranges, CellFormat, Color\n",
    "import matplotlib.pyplot as plt\n",
    "import seaborn as sns\n",
    "import missingno as msno\n",
    "\n",
    "# pip freeze > requirements.txt"
   ]
  },
  {
   "cell_type": "markdown",
   "id": "92d515b3",
   "metadata": {},
   "source": [
    "### Approach"
   ]
  },
  {
   "cell_type": "markdown",
   "id": "b5904545",
   "metadata": {},
   "source": [
    "The general idea is to create a modular client (frontend) call that is able to extract the desired subset of data from the API server (backend); -and, make it easily reusable for future queries.\n"
   ]
  },
  {
   "cell_type": "markdown",
   "id": "4b99eeee",
   "metadata": {},
   "source": [
    "### Execution"
   ]
  },
  {
   "cell_type": "markdown",
   "id": "db308e65",
   "metadata": {},
   "source": [
    "#### Accessing the API"
   ]
  },
  {
   "cell_type": "code",
   "execution_count": 32,
   "id": "6dc27914",
   "metadata": {},
   "outputs": [],
   "source": [
    "# Path to downloaded JSON credentials\n",
    "SERVICE_ACCOUNT_FILE = 'C:/Users/USER/Desktop/ic/llavero/summer-sector-439022-v6-2eafffbbfb90.json'"
   ]
  },
  {
   "cell_type": "code",
   "execution_count": 33,
   "id": "3ef67d81",
   "metadata": {},
   "outputs": [
    {
     "data": {
      "text/plain": [
       "'18hdnhuqvH4vdXuL16CBI7BpaMCu8K81T2NThbK6OJzk'"
      ]
     },
     "execution_count": 33,
     "metadata": {},
     "output_type": "execute_result"
    }
   ],
   "source": [
    "# ID of the Google Sheet (from the URL)\n",
    "\n",
    "original_id = '1t61MafCmnRe2QN082Bk1V0IxBSIW8UUqH1g5mULgb2o'\n",
    "test_id = '18hdnhuqvH4vdXuL16CBI7BpaMCu8K81T2NThbK6OJzk'\n",
    "\n",
    "SPREADSHEET_ID = test_id\n",
    "SPREADSHEET_ID"
   ]
  },
  {
   "cell_type": "code",
   "execution_count": 60,
   "id": "f908e9ca",
   "metadata": {},
   "outputs": [],
   "source": [
    "\n",
    "# Range to read from your sheet \n",
    "# RANGE_NAME = '2025!A1:Z10000'  # Adjust the range as needed\n",
    "RANGE_NAME = '2025'"
   ]
  },
  {
   "cell_type": "code",
   "execution_count": 61,
   "id": "27d1704e",
   "metadata": {},
   "outputs": [],
   "source": [
    "\n",
    "# Define scopes for Google Sheets and Drive API\n",
    "SCOPES = ['https://www.googleapis.com/auth/spreadsheets', 'https://www.googleapis.com/auth/drive']"
   ]
  },
  {
   "cell_type": "code",
   "execution_count": 62,
   "id": "63ff5acb",
   "metadata": {},
   "outputs": [
    {
     "name": "stdout",
     "output_type": "stream",
     "text": [
      "      Type   Time unit        Date Date 2  Year Month Day Duration  \\\n",
      "0  Seizure  Individual  2025-03-24         2025     3  24            \n",
      "1  Seizure  Individual  2025-03-23         2025     3  23            \n",
      "2  Seizure  Individual  2025-03-22         2025     3  22            \n",
      "3  Seizure  Individual  2025-03-22         2025     3  22            \n",
      "4  Seizure  Individual  2025-03-19         2025     3  19            \n",
      "\n",
      "                       Type Drugs Quantity  ... Destition - department.state  \\\n",
      "0                         Cocaine       10  ...                                \n",
      "1                         Cocaine      2.5  ...                                \n",
      "2                         Cocaine     2619  ...                                \n",
      "3  Other (explain in Description)     1240  ...                                \n",
      "4                         Cocaine    16.05  ...                                \n",
      "\n",
      "  Destition - Municipality/Port Destition 2 - Country  \\\n",
      "0                                                       \n",
      "1                        Madrid                         \n",
      "2                                                       \n",
      "3                                                       \n",
      "4                                                       \n",
      "\n",
      "  Destition 2 - Municipality/Port  \\\n",
      "0                                   \n",
      "1                                   \n",
      "2                                   \n",
      "3                                   \n",
      "4                                   \n",
      "\n",
      "                                         Description Criminal group #1  \\\n",
      "0  Spanish citizen, coming from Lisbon , was stop...                     \n",
      "1  Dominican-Spanish flying to Madrid and was arr...                     \n",
      "2  2,619 kilos was found buried on a small island...                     \n",
      "3  1,240 kilos of liquid cocaine hidden in roofin...                     \n",
      "4  16 packages totaling 35.4 pounds (16.05 kg) of...                     \n",
      "\n",
      "  Criminal group #2 Criminal group #3  \\\n",
      "0                                       \n",
      "1                                       \n",
      "2                                       \n",
      "3                                       \n",
      "4                                       \n",
      "\n",
      "                                         Source link Project interested  \n",
      "0  https://www.lanazione.it/firenze/cronaca/cocai...               None  \n",
      "1  https://rccnoticias.com.do/operativo-en-el-ail...               None  \n",
      "2  https://rci.fm/deuxiles/infos/Faits-divers/Ven...               None  \n",
      "3  https://rci.fm/deuxiles/infos/Faits-divers/Ven...               None  \n",
      "4  https://eldiariony.com/2025/03/23/cbp-incauta-...               None  \n",
      "\n",
      "[5 rows x 41 columns]\n"
     ]
    }
   ],
   "source": [
    "#Authenticate and build the service\n",
    "creds = service_account.Credentials.from_service_account_file(\n",
    "    SERVICE_ACCOUNT_FILE, scopes=SCOPES)\n",
    "service = build('sheets', 'v4', credentials=creds)\n",
    "\n",
    "# Call the Sheets API to read data\n",
    "sheet = service.spreadsheets()\n",
    "result = sheet.values().get(spreadsheetId=SPREADSHEET_ID, range=RANGE_NAME).execute()\n",
    "values = result.get('values', [])\n",
    "\n",
    "# Convert to DataFrame for easier manipulation\n",
    "df = pd.DataFrame(values[1:], columns=values[0])\n",
    "print(df.head()) "
   ]
  },
  {
   "cell_type": "markdown",
   "id": "d4b73750",
   "metadata": {},
   "source": [
    "#### Monitoring"
   ]
  },
  {
   "cell_type": "markdown",
   "id": "345434a4",
   "metadata": {},
   "source": [
    "##### Dimensions"
   ]
  },
  {
   "cell_type": "code",
   "execution_count": 63,
   "id": "bcb0a087",
   "metadata": {},
   "outputs": [
    {
     "name": "stdout",
     "output_type": "stream",
     "text": [
      "<class 'pandas.core.frame.DataFrame'>\n",
      "RangeIndex: 378 entries, 0 to 377\n",
      "Data columns (total 41 columns):\n",
      " #   Column                           Non-Null Count  Dtype \n",
      "---  ------                           --------------  ----- \n",
      " 0   Type                             378 non-null    object\n",
      " 1   Time unit                        378 non-null    object\n",
      " 2   Date                             378 non-null    object\n",
      " 3   Date 2                           378 non-null    object\n",
      " 4   Year                             378 non-null    object\n",
      " 5   Month                            378 non-null    object\n",
      " 6   Day                              378 non-null    object\n",
      " 7   Duration                         378 non-null    object\n",
      " 8   Type Drugs                       378 non-null    object\n",
      " 9   Quantity                         378 non-null    object\n",
      " 10  Weight unit                      378 non-null    object\n",
      " 11  seizure_kgs                      378 non-null    object\n",
      " 12  Modus Operandi/place of seizure  378 non-null    object\n",
      " 13  Sub MO                           378 non-null    object\n",
      " 14  Region                           378 non-null    object\n",
      " 15  Country                          378 non-null    object\n",
      " 16  Department/State                 378 non-null    object\n",
      " 17  Municipality/Port                378 non-null    object\n",
      " 18  Origin country                   378 non-null    object\n",
      " 19  Origin Area                      378 non-null    object\n",
      " 20  Origin municipality              378 non-null    object\n",
      " 21  Transit 1/Region                 378 non-null    object\n",
      " 22  Transit 1/country                378 non-null    object\n",
      " 23  Transit 1/Department             378 non-null    object\n",
      " 24  Transit 1/Municipality           378 non-null    object\n",
      " 25  Transit 2/ region                378 non-null    object\n",
      " 26  Transit 2/ country               378 non-null    object\n",
      " 27  Transit 2/Department             378 non-null    object\n",
      " 28  Transit 2/municipality/port      378 non-null    object\n",
      " 29  Destition - Region               378 non-null    object\n",
      " 30  Destition - Country              378 non-null    object\n",
      " 31  Destition - department.state     378 non-null    object\n",
      " 32  Destition - Municipality/Port    378 non-null    object\n",
      " 33  Destition 2 - Country            378 non-null    object\n",
      " 34  Destition 2 - Municipality/Port  378 non-null    object\n",
      " 35  Description                      378 non-null    object\n",
      " 36  Criminal group #1                378 non-null    object\n",
      " 37  Criminal group #2                378 non-null    object\n",
      " 38  Criminal group #3                378 non-null    object\n",
      " 39  Source link                      378 non-null    object\n",
      " 40  Project interested               75 non-null     object\n",
      "dtypes: object(41)\n",
      "memory usage: 121.2+ KB\n",
      "None\n"
     ]
    }
   ],
   "source": [
    "# Info about the variables in the DataFrame\n",
    "print(df.info())"
   ]
  },
  {
   "cell_type": "markdown",
   "id": "1fbd3a90",
   "metadata": {},
   "source": [
    "##### Completeness"
   ]
  },
  {
   "cell_type": "code",
   "execution_count": null,
   "id": "3ced22bd",
   "metadata": {},
   "outputs": [],
   "source": [
    "# Convert empty strings and whitespace to proper NaN values\n",
    "df = df.replace('', pd.NA)  # Empty strings\n",
    "df = df.replace(r'^\\s*$', pd.NA, regex=True)  # Whitespace-only cells"
   ]
  },
  {
   "cell_type": "code",
   "execution_count": null,
   "id": "77f6e872",
   "metadata": {},
   "outputs": [],
   "source": [
    "# Missing Data Analysis\n",
    "missing_values = df.isnull().sum()\n",
    "print(f\"Missing values per column:\\n{missing_values}\")\n",
    "\n",
    "# Visualization 1: Bars\n",
    "plt.figure(figsize=(12, 5))\n",
    "ax = missing_values.plot(kind='bar', color=\"#000000\", width=0.6)\n",
    "ax.grid(False) \n",
    "\n",
    "# Numbers on top of bars\n",
    "for i in ax.patches:\n",
    "    ax.text(i.get_x() + i.get_width()/2, i.get_height()+1, \n",
    "            f'{int(i.get_height())}', \n",
    "            ha='center', fontsize=10)\n",
    "\n",
    "plt.xticks(rotation=45, ha='right')\n",
    "sns.despine()\n",
    "plt.title(\"Missing Values per Column\")\n",
    "plt.tight_layout()\n",
    "\n",
    "# Visualization 2: Heatmap (More Detailed)\n",
    "msno.matrix(\n",
    "    df,\n",
    "    figsize=(20, 8),\n",
    "    color=(0.1, 0.1, 0.1),\n",
    "    sparkline=False,\n",
    "    fontsize=12,\n",
    "    labels=True\n",
    ")\n",
    "plt.title(\"Missing Value Patterns\", fontsize=16, pad=20)\n",
    "plt.show()"
   ]
  },
  {
   "cell_type": "markdown",
   "id": "999965f4",
   "metadata": {},
   "source": [
    "##### Uniqueness"
   ]
  },
  {
   "cell_type": "code",
   "execution_count": 64,
   "id": "afc926f2",
   "metadata": {},
   "outputs": [
    {
     "data": {
      "application/vnd.microsoft.datawrangler.viewer.v0+json": {
       "columns": [
        {
         "name": "index",
         "rawType": "object",
         "type": "string"
        },
        {
         "name": "Cantidad de valores únicos",
         "rawType": "int64",
         "type": "integer"
        },
        {
         "name": "Valores únicos",
         "rawType": "object",
         "type": "unknown"
        }
       ],
       "ref": "953b2d34-bb9c-4351-a40f-db84efd5ed8c",
       "rows": [
        [
         "Country",
         "50",
         "['Italy' 'Dominican Republic' 'Venezuela' 'United States' 'Spain'\n 'Portugal' 'Canada' 'Colombia' 'Puerto Rico' 'Ireland' 'Bulgaria'\n 'El Salvador' 'Algeria' 'Ecuador' 'Peru' 'Chile' 'Argentina' 'Costa Rica'\n 'Brazil' 'Honduras' 'Mexico' 'Panama' 'Jamaica' 'Martinique' 'Greece'\n 'United Kingdom' 'South Korea' 'Bolivia' 'France' 'Trinidad and Tobago'\n 'Senegal' 'Netherlands' 'Guadeloupe' 'Switzerland' 'Guinea' '' 'Cameroon'\n 'Ghana' 'Paraguay' 'Sweden' 'Thailand' 'Mali' 'Morocco' 'Croatia'\n 'Australia' 'Russia' 'Indonesia' 'Belgium' 'Uruguay' 'Sri Lanka']"
        ],
        [
         "Criminal group #1",
         "13",
         "['' 'AGC' 'Autodefensas Conquistadoras de la Sierra'\n 'Ex-FARC Rafael Aguilera' 'Segunda Marquetalia - Oliver Sinisterra'\n 'Ex-FARC ' 'ELN' 'Pachenca'\n 'Seizure is linked to drug trafficking network led by Serbian national Nikola Boros and/or Antun Mrdeza, wanted by Interpol'\n 'Primeiro Comando da Capital' 'FARC Dissidents'\n 'Estructura Alfonso Cano del grupo armado organizado residual (GAO-r)'\n 'estructura criminal de alias Freider']"
        ],
        [
         "Criminal group #2",
         "2",
         "['' 'AGC']"
        ],
        [
         "Criminal group #3",
         "1",
         "['']"
        ],
        [
         "Date",
         "86",
         "['2025-03-24' '2025-03-23' '2025-03-22' '2025-03-19' '2025-03-25'\n '2025-03-26' '2025-03-27' '2025-03-20' '2025-03-10' '2025-03-21'\n '2025-03-30' '2025-03-29' '2025-01-01' '2025-03-28' '2025-03-31'\n '2025-04-01' '2025-04-02' '2025-04-03' '2025-04-04' '2025-04-07'\n '2025-04-08' '2025-04-09' '2025-04-06' '2025-04-05' '2025-04-13'\n '2025-04-12' '2025-04-14' '2025-04-10' '2025-02-02' '2025-04-15'\n '2025-04' '2025-04-16' '2025-04-17' '2025-04-11' '2025-04-18'\n '2025-04-21' '2025-04-20' '2025-04-22' '2025-04-19' '2025-04-23'\n '2025-04-24' '2025-04-25' '2025-02-01' '2025-04-26' '2025-02-13'\n '2025-04-29' '2025-04-30' '2025-05-03' '2025-05-05' '2025-05-06'\n '2025-05-07' '2025-05-02' '2025-05-09' '2025-04-28' '2025-05-08'\n '2025-05-04' '' '2025-05-11' '2025-05-12' '2025-05-13' '2025-05-10'\n '2025-05-15' '2025-05-14' '2025-05-17' '2025-04-27' '2025-05-18'\n '2025-05-19' '2025-05-16' '2025-05-20' '2025-05-21' '2025-05-22'\n '2025-05-23' '2025-05-25' '2025-05-24' '2025-05-26' '2025-05-27'\n '2025-05-28' '2025-05-29' '2025-05-30' '2025-05-31' '2025-06-02'\n '2025-06-01' '2025-06-03' '2025-06-04' '2025-06-05' '2025-06-06']"
        ],
        [
         "Date 2",
         "9",
         "['' '2025-03-20' '2025-03-31' '2025-04-01' '2025-04-03' '2025-04-24'\n '2025-05-12' '2025-05-17' '2025-04-30']"
        ],
        [
         "Day",
         "32",
         "['24' '23' '22' '19' '25' '26' '27' '20' '10' '21' '30' '29' '1' '28' '31'\n '2' '3' '4' '7' '8' '9' '6' '5' '13' '12' '14' '15' '' '16' '17' '11'\n '18']"
        ],
        [
         "Department/State",
         "205",
         "['' 'Zulia' 'Texas' 'Cáceres' 'Azores' 'Québec' 'Florida' 'Antioquia'\n 'San Juan' 'Dublin' 'Burgas port'\n '920 nautical miles southwest of la Bocana El Cordoncillo' 'Atlantico'\n 'Bolivar' 'Ghardaïa' 'Guyas' 'Basque Country' 'Michigan' 'Narino' 'Arica'\n 'Jujuy' 'Puntarenas' 'Tarapacá' 'Colón' 'Guerrero' 'Altagracia' 'Colon '\n 'Jiménez' 'Bolívar' 'Valle del Cauca' 'Salta' 'Rio Grande do Norte'\n 'Hillsborough' 'Los Santos' 'Paraná' 'Mato Grosso do Sul' 'Chiapas'\n 'Michoacán' 'Buenos Aires' 'Sao Paulo' 'Coahuila' 'Magdalena' 'Cauca'\n 'Casanare' 'Chocó, Nariño' 'Guajira' 'Guayas' 'Ica' 'Cochabamba'\n 'Antartica chilena' 'La Guajira' 'Espirito Santo' 'São Paulo' 'Goiás'\n 'Toscana' 'Quintana Roo' 'Seine-Maritime ' 'Cortés'\n 'Comunidad Valenciana' 'Gangwon' 'Santa Fe' 'Tucumán' 'Punta Arenas'\n 'Pará' 'Rhode Island' 'Normandy' 'Port of Spain' 'Pernambuco'\n 'Antofagasta' 'Atlántico' 'Mato Grosso' 'Santo Domingo' 'Amazonas'\n 'Baja California/Chihuaha' 'Íle de France' 'Catalonia' 'Canary Islands'\n 'Aragon' 'Utrecht' 'Limón' 'Chimborazo' 'Goias' 'Cundinamarca'\n 'Norte de Santander' 'South Holland' 'Minas Gerais' 'Reggio Calabria'\n 'Padua' 'Parma' 'Pontevedra' 'Olancho' 'Formosa' 'Valparaiso' 'Oran'\n 'Santiago' 'Colon' 'Grande Terre' 'Ticino' 'Conakry' 'Quimper' 'Catalan'\n 'Littoral' 'Greater Accra Region' 'La Altagracia' 'Naples' 'Cassino'\n 'Lisbon' 'Armenia' 'Guna Yala' 'Santo Domingo Este' 'Luque' 'Lambare'\n 'Boqueron' 'Límon' 'Putumayo' 'Galapagos Island' 'Andalucia' 'Bankok'\n 'Bamako' 'Salerno' 'Tanger-Tetouan-Al Hoceima' 'Paris' 'Rijeka' 'Apulia'\n 'Lombardy' 'International waters' 'San Jose' 'Panamá Oeste' 'Galapagos'\n 'Cordoba' 'Landes' 'Galicia' 'Napoli' 'Las Perlas' 'Orinoquía' 'Asuncion'\n 'Busan' 'New South Wales' 'Navarra' 'Santa Cruz' 'Madrid' 'Bucaramanga'\n 'Essonne' 'Córdoba - Rosario Highway' 'Concordia' 'Essex'\n 'Alpes-Maritimes' 'Ile de France' 'Taumalipas' 'Rio de Janeiro' 'Manabí'\n 'Bahía' 'Misiones' 'Aysen' 'Mato Grosso del Sur' 'Ain' 'Occitanie'\n 'Laghouat' 'Tamaulipas' 'Sicilia' 'Lacio' 'Cerdeña' 'Mexico' 'Esmeraldas'\n 'Nariño' 'Oaxaca' 'Moselle' 'Bali' 'Algiers' 'Alicante' 'Biscay' 'Bogota'\n 'Tulcán' 'Sonora' 'Jalisco' 'Mariscal Ramón Castilla' 'Colima' 'Acapulco'\n 'Ceará' 'Espírito Santo' 'Maipu' 'Chiriqui' 'New Calcedonia'\n 'Alpes-Maritimes ' 'Madrid & Barcelona' 'Chaco' ' Seine-Saint-Denis'\n 'Cartagena' 'Rome' 'Colombo' 'Catania' 'Alsacia' 'Marseille' 'Macapa'\n 'Parana' 'Mato Grosso do sul' 'Yoro' 'Santa Elena' 'Valladolid' 'Bahia'\n 'Quindio' 'Loreto' 'Paraiba' 'Brasilia' 'Chubut']"
        ],
        [
         "Description",
         "376",
         "['Spanish citizen, coming from Lisbon , was stopped with 10 kilos of liquid cocaine hidden in shampoo bottles'\n 'Dominican-Spanish flying to Madrid and was arrested with 2.5 kg of cocaine in suitcase'\n '2,619 kilos was found buried on a small island in Lake Maracaibo, cocaine was \"manufactured in Colombia\" and transported in \"rudimentary\" boats and submersibles to Lake Maracaibo'\n '1,240 kilos of liquid cocaine hidden in roofing sheets, cocaine was \"manufactured in Colombia\" and transported in \"rudimentary\" boats and submersibles to Lake Maracaibo'\n '16 packages totaling 35.4 pounds (16.05 kg) of suspected cocaine, which were concealed in the trailer. '\n '450 liters of cocaine base dissolved in liquid, 7,000 liters of precursors, 65 kilos of cocaine hydrochloride, 40 kilos of cocaine base found in the lab.  Eleven people arrested, including cooks from Colombia'\n 'In the middle of the Atlantic Ocean, around 500 nautical miles (more than 900 kilometres)\" south of Portugal\\'s Azores archipelago'\n 'The drugs were hidden in a car containing new vehicles, bricks of cocaine were hidden under the carpets of the cars. In total, law enforcement discovered 119 packages containing 142 kg of cocaine. '\n 'The cocaine was found in nine suitcases on the boat.'\n 'Colombian Army troops seized 2,050 kilograms of cocaine hydrochloride that apparently belonged to the armed group Clan del Golfo. '\n '23 kilos of cocaine seized on the ferry en route from Santo Domingo to San Juan, Puerto Rico '\n 'The cocaine was seized, as part of an intelligence-led-operation at Dublin Airport, when Revenue officers searched three passengers and their baggage after they disembarked a flight from Paris, France. '\n '40 kilograms of cocaine hidden in a shipment of bananas from Ecuador'\n 'six Guatemalans and three Ecuadorians—were detained on three boats transporting the load of cocaine'\n \"police officers found 247 kilograms of cocaine hydrochloride alegedly belonging to the Gulf Clan inside a vehicle, with it's final desitination as europe\"\n 'Seized 898 kilos of cocaine hydrochloride inside a container originating in Antioquia and bound for Antwerp, Belgium with ground coffee'\n ' on the N1 national road linking Ghardaïa to Laghouat, authorities apprehended a drug trafficker and seized 121.40 kilograms of cocaine loaded on board his vehicle'\n 'Police seized 2.5 tons of cocaine at the port of Guayaquil, in the Posorja parish, in four containers containing sacks of compost intended to send to Germany'\n '26 kilos of cocaine, 27 kilos of amphetamine, approximately 140 kilos of 35 liters of amphetamine oil, 29 kilos of MDMA, 23 kilos of hashish, 6 kilos of marijuana, and 250 grams of pink cocaine were seized. '\n 'The United States Postal Inspector Service reported that it intercepted and seized 577 pounds of cocaine , 14 pounds of fentanyl , and three firearms , as part of a joint operation '\n 'CBP discovered three garbage bags hidden behind piles of wood, containing a total of 52.62 kilograms of cocaine in a commercial truck attempting to leave the country heading to Canada via the Ambassador Bridge , which connects Detroit to Windsor , Ontario.'\n '107 kg of cocaine seized and two arrested in Tingo María. The shipment was to be transported to Lima for shipment to Europe. '\n 'A criminal organization was dismantled resulting in 16 people arrests, including the three leaders of the organization, two of whom were arrested in Madrid and Barcelona. They operated from Madrid and Marbella, smuggling cocaine from Colombia and Ecuador through various European ports. Thirty-seven searches were carried out—three in Spain (Madrid, Marbella, and Barcelona)—in which 300 kilos of cocaine, '\n 'Authorities destroye a clandestine cocaine processing complex in \\u200b\\u200bProvidencia, which produced approximately 2,000 kilograms of the alkaloid per month, and dezied  500 kilos of liquid cocaine, 300 kilos of caustic soda, 70 liters of sulfuric acid'\n 'Authorities seized 146 tons of chemical precursors sodium carbonate and acetate ethyl used in drug production, coming from China and Panama, destined for Bolivia'\n 'Autoridades argentinas decomisaron 64 kilos de cocaína en una zona minera fronteriza con Argentina. La cocaína provenía de Perú. Entró por Bolivia y se dirigía a Buenos Aires, donde sería enviada a Europa.'\n 'Las autoridades costarricenses, en apoyo de Estados Unidos, incerceptaron una embarcación en el Pacífico sur del país que transportaba 1200 kilos de cocaína. En el proceso fueron capturados 3 nicaraguenses'\n 'Una mujer con 1.5 kilos de cocaína adheridos a su cuerpo fue capturada en el aeropuerto de Galeão. La mujer se dirigía a Lisboa.'\n 'Un bus con 26,4 kilos de cocaína que cubría la ruta Santa Cruz (Bolivia) a Iquique (Chile) fue detenido por las autoridades chilenas en Tarapacá. Los tripulantes del bus, de nacionalidad boliviana, huyeron. El decomiso se realizó gracias a un camión escaner.'\n '22300 arbustos de coca fueron hallados por las autoridades hondureñas en la provincia de Colón. En el lugar también funcionaba un narcolaboratorio.'\n 'En una operación conjunta de varias instituciones mexicanas, se detuvo una embarcación que transportaba 1.800 kilos de aparente cocaína cerca a las costas de Acapulco, Guerrero. 5 personas fueron detenidas.'\n 'Durante los primeros tres meses del año se han detectado en Panamá 16000 kilos de droga. No se especifica qué droga es pero por las características se intuye que es cocaína.'\n 'Autoridades de República Dominicana encontraron una lancha pesquera abandonada con 25 kilos de cocaína en aguas de la provincia de Altagracia.'\n '1000 libras de cocaína fueron decomisadas en un contenedor en el Puerto de Kingston. La droga estaba camuflada como miel de Cuba.'\n 'Un perro antodrogas localizó 44 kilos de cocaína en dos vehículos que se movilizaban por la provincia de Jujuy en Argentina. A las personas que se movilizaban en los carros les decomisaron dinero boliviano.'\n 'Las autoridades francesas incautaron 1.200 kilos de cocaína en un buque de bandera brasilera que transitaba por Martinique.'\n 'En dos revisiones a contenedores en el puerto de Piraeus, las autoridades griegas incautaron 131 kilos de cocaína provenientes en envíos de bananos de Ecuador.'\n 'Capturado un viajero con unos 40 kilos de cocaína distribuidos en dos maletas. El hecho se dio en el aeropuerto de Barajas.'\n 'Las autoridades panameñas detuvieron a un hombre con 62 paquetes de droga, posiblemente cocaína, en el área urbana de Ciudad de Panamá'\n 'Las autoridades panameñas apresaron 357 paquetes de droga, posiblemente cocaína, dirigida hacia los Países Bajos.'\n 'Las autoridades italianas incautaron 1170 kilos de cocaína en el puerto de Gioia Tauro, provenientes de un puerto del sur de Brasil. La carga hizo tránsito en España. Estaba oculta en bolsas de material combustible para no ser detectada.'\n 'Autoridades argentinas decomisaron 14 kilos de pasta base de coca que habían sido escondidas en una encomienda. La droga era transportada en un bus intermunicipal que venía de la provincia fronteriza de Salta. '\n 'Autoridades argentinas detuvieron un camión en la ruta 34 que movilizaba 150 kilos de cocaína escondidos en cargamentos de bananos. El cargamento se dirigía hacia las provincias de Santiago del Estero, Córdoba y Buenos Aires.'\n '26 kilos de cocaína fueron descubiertos por las autoridades españolas en el aeropuerto El Prat, de Barcelona. La cocaína estaba camuflada con el material de relleno de sillas de montar caballos, lo que dificultaba su identificación. La droga sería posteriormente extraída por los criminales. La carga provenía de Medellín, Colombia. Ya habían identificado esta dinámica en el pasado y le estaban haciendo seguimiento.'\n 'Las autoridades colombianas incautaron 1146 kilos de cocaína ocultos en un contenedor en el puerto de Cartagena, el cual tenía como destino Alemania. El contenedor provenía del departamento de Valle del Cauca, cerca a las principales zonas cocaleras de Colombia. La cocaína estaba oculta en una carga electromagnética.'\n 'En el puerto de Buenaventura fueron decomisados 600 kilos de cocaína dirigidos hacia China. El buque provenía de Ecuador e hizo escala en Buenaventura.'\n 'En una operación realizada durante cinco días, las autoridades panameñas encontraron una embarcación abandonada con 875 kilos de droga, posiblemente cocaína, en aguas del Pacífico panameño en la región de Darién.'\n 'Autoridades argentinas decomisaron 41 kilos de cocaína en Rosario de la Frontera, Salta. En este operativo se decomisaron, además, dos vehículos y seis personas fueron capturadas.'\n '53 kilos de cocaína eran movilizados en un vehículo por una pareja en el estado de Rio Grande do Norte. Las autoridades detuvieron el vehículo y encontraron la carga escondida en dobles fondos. El operativo se realizó el 31 de marzo de 2025.'\n '12 kilos de cocaína fueron descubiertos en el aeropuerto de Manchester, Reino Unido. La droga estaba oculta en una silla de ruedas que transportaba un hombre proveniente de Barbados.'\n 'Los primeros tres meses del año las fuerzas de seguridad colombianas incautaron 135 toneladas de cocaína en el país.'\n 'Las autoridades panameñas encontraron 1237 paquetes de droga, posiblemente cocaína, en Punta Mala, provincia de Los Santos.'\n 'Las autoridades brasileras decomisaron una carga de 673 kilos de cocaína que era movilizada en un camión que llevaba soya. La carga salió de Mato Grosso do Sul y era dirigida al puerto de Paranagua, en Paraná, el mayor puerto de despacho de granos de América Latina, y utilizado para la salida de la droga hacia Europa.'\n '452 kilos de cocaína eran transportados por una vía de Mato Grosso do sul en un camión que transportaba hierro. La cocaína fue recogida en la ciudad de Corumbá, fronteriza con Bolivia y estaba dirigida a Campo Grande.'\n 'Autoridades mexicanas hallaron 320 kilos de cocaína abandonados en un carro de Frontera Hidalgo, Chiapas, estado fronterizo con Guatemala.'\n '2 toneladas de cocaína fueron decomisadas en Corea del sur. La carga salió de México y pasó por Ecuador, Panamá y china antes de llegar a Corea. Todavía se busca identificar dónde se dio la contaminación de la carga.'\n 'Autoridades argentinas apresaron 95 kilogramos de cocaína que fueron lanzados de un carro en un barrio de Aguaray, Salta, zona fronteriza con Bolivia. Las autotirades no descartan que tenga que ver con tráfico internacional de la droga.'\n 'Dos hombres transportando 465 kilos de pasta base fueron detenidos por las autoridades de Mato Grosso de sul. No revelaron el origen ni el destino de la sustancia.'\n 'Una persona fue detenida en un vehículo mientras transitaba con 5,4 kilos de cocaína ocultos. Según la persona, obtuvo la droga en Dourados, y tenía como destino Tres Lagoas, también en Mato Grosso do sul'\n 'Un vehículo que transportana 11.4 kilos de pasta base de coca y cocaína fue detenido en el estado de Mato Grosso de Sul. La persona no reveló el origen o el destino de la droga.'\n 'Ocultos en la carrocería de un vehículo hallaron las autoridades 161 kilos de cocaína en una via de Mato Grosso de Sul. No se especificó el origen o el destino de la droga.'\n 'las autoridades mexicanas aseguraron 300 kilos de cocaína en un contenedor que arribó al puerto de Lázaro Cárdenas.'\n 'En un buque de bandera italiana que transitaba por el río Paraná fue encontrado un kilogramo de cocaína oculto en el caño de agua. El buque venía de Uruguay.'\n 'Una mujer fue detenida en el aeropuerto de Campinas viajando hacia Francia con 100 capsulas de cocaína dentro de su cuerpo.'\n 'Una mujer mexicana fue detenida en un paso fronterizo entre Coahuila y Texas intentando ingresar 16 kilos de cocaína a EEUU.'\n 'Con el desmantelamiento de una red que contaminaba cargas hacia Europa con cocaína, en el puerto de Santa Marta, las autoridades decomisaron más de 500 kilos de cocaína dirigidos a Alemania y Bélgica'\n 'La armada colombiana destruyó siete laboratorios para la producción de cocaína en Nariño. En ellos encontraron 415 galones de base de coca procesada.'\n 'Autoridades colombianas hallaron una caleta del Clan del Golfo con 530 kilos de cocaína en Casanare.'\n 'Durante operativos de la policía colombiana fueron destruidos varios laboratorios para la producción de coca en Nariño y Chocó. Se hallaron más de 178000 kilos de pasta base.'\n '1000 kilogramos de cocaína eran transportados en una lancha tipo go fast a 90 millas nauticas de Cartagena. La embarcación era tripulada por 4 colombianos y 1 hondureño'\n 'Un poco más de 6 toneladas de cocaína fueron incautadas en el lago Maracaibo, en el estado de Zulia, en el marco de la Operación Relámpago. '\n 'Autoridades colombianas detuvieron una lancha tipo go fast que transportaba 500 kilos de cocaína en aguas del departamento de La Guajira. La droga aparentemente iba destinada a EEUU'\n 'Las autoridades colombianas incautaron 400 kilos de cocaína en Piendamó, Nariño ocultos en un camión que transportaba vultos de papas. Esta cocaína iría para un destino internacional'\n '3500 kilos de cocaína fueron incautados en el puerto de Posorja, Guayaquil, dirigidos a Bélgica ocultos en sacos de avena.'\n 'El ministro del interior de Ecuador anunció que en lo corrido del año, Ecuador ha decomisado 41,5 toneladas de cocaína'\n '2,3 toneladas de cocaína fueron encontradas en un contenedor a la entrada de Guayaquil antes de que saliera a aguas internacionales. '\n 'Las autoridades peruanas detuvieron a un hombre que se movilizaba en transporte público con 3 kilos de cocaína. La ruta que cubría era Lima-Arequipa'\n '8 paquetes de cocaína fueron encontrados en un bus que salió desde Cochabamba hacia Chile. El dueño de la carga no abordó el vehículo por lo que no pudieron capturarlo. '\n '30 paquetes de cocaína fueron encontrados en un paso ilegal entre Bolivia y Argentina.'\n 'En el paso fronterizo de San Sebastián, entre Argentina y chile, fueron decomisados 13 kilos de cocaína que eran transportados en un camión. El destino era Argentina.'\n '198 kilos de cocaína que eran transportados en una camioneta particular fueron incautados por la policía en el departamento del norte de Colombia, La Guajira.'\n 'Una tonelada de cocaína fue descubierta en la mrina de un barrio de Guarapari en bolsas ajustadas con asas, probablemente para ajustarlas a los cascos de los barcos con destino internacional.'\n 'Tres personas fueron detenidas y 700 kilos de cocaína y otros 140 kilos de crack fueron incautados este lunes (7) en el condominio ranchero denominado Vale Verde, en Mineiros do Tietê (SP)'\n 'La Policía Federal de Carreteras incautó aproximadamente 3 kg de pasta base de cocaína durante una inspección en el km 198 de la BR-364, en el municipio de Jataí, región suroeste de Goiás.'\n 'Autoridades italianas incautaron más de 2.000 kilos de cocaína pura, salidos de guayaquil y divididos en 1.800 paquetes, en el puerto de Livorno. La droga, en un portacontenedores, pasó por Colón (Panamá), Cartagena (Colombia), Vigo (España), Málaga y Valencia (España), Génova y Livorno (Italia)'\n 'Elementos de la Guardia Nacional y Aduanas aseguraron 13 kilos de cocaína en 13 paquetes, tras realizar una inspección a una aeronave en Benito Juárez'\n 'Al menos cinco personas fueron arrestadas en Francia tras el decomiso en el mar de 630 kg de cocaína proveniente de Brasil, anunció el lunes la fiscalía de Rennes.\\nEl barco carguero \"Omicron Eagle\", de bandera liberiana, salió del puerto de Paranaguá, en Brasil'\n 'El cargamento se encontraba en estado de abandona dentro de las coordenadas del sector La Cañonera, municipio Miranda (Los Puertos de Altagracia (Zulia), territorio que servía de centro de acopio a los alijos provenientes de Colombia con destino a Estados Unidos, según lo expuesto en anteriores ruedas de prensa del ministro de Interiores, Justicia y Paz, Diosdado Cabello.'\n 'En un operativo realizado en las últimas horas, la Policía Nacional de Colombia, a través de su Dirección de Antinarcóticos, logró la incautación de 42 kilogramos de cocaína que tenían como destino final Europa.'\n 'Las autoridades de Panamá decomisaron este lunes 3.589 kilos (3,5 toneladas, aproximadamente) dentro de un contenedor, ubicado en un puerto del Pacífico, que tenía como destino la India, haciendo «transbordo» en Bélgica.'\n 'En el puerto de Buenaventura fueron incautados 602 kilos de cocaína que se encontraban mezclados con abono mineral y químico nitrogenado. Este cargamento tenía como destino el mercado europeo, específicamente Bélgica.'\n 'En Cartagena, durante una inspección a un contenedor marítimo, se decomisaron 554 kilos de la sustancia ilícita. El contenedor estaba programado para ser enviado a Izmir, Turquía, una de las rutas emergentes del narcotráfico hacia Medio Oriente.'\n 'Las autoridades de Honduras decomisaron este domingo al menos 786 kilos de cocaína ocultos en un camión durante una operación en el norte del país, en la que detuvieron a dos hondureños, informó el ministro de Seguridad, Gustavo Sánchez.'\n 'La Policía Nacional ha asestado un duro golpe al crimen organizado tras desmantelar una red internacional dedicada al tráfico de cocaína que operaba a través del Puerto de Valencia donde se han incautado 1.000 kilos.'\n 'Autoridades de Corea del Sur informaron que encontraron dos toneladas de cocaína en un buque que, afirman, salió de México. De acuerdo con elementos de la guardia costera surcoreana el barco, que tenía una bandera noruega, zarpó de tierras aztecas, pero realizó escalas en Ecuador, Panamá y China.'\n 'El Ejército de Colombia incautó en el departamento de La Guajira, en el norte del país, 90 kilos de cocaína que supuestamente la guerrilla del Ejército de Liberación Nacional (ELN) pretendía enviar a Centroamérica, informaron este sábado fuentes castrenses.'\n 'Un hombre fue detenido este viernes (11) tras ingerir más de 40 cápsulas de cocaína, en Assis (SP) . Según la Policía de Carreteras, el incidente se registró cuando equipos abordaron un autobús turístico proveniente de Corumbá (MS) con destino a São Paulo (SP) en el km 445 de la carretera Raposo Tavares (SP-270).'\n 'La Policía Federal, en el Aeropuerto Internacional de São Paulo/Guarulhos, detuvo entre el 12 y el 13 de abril a dos pasajeros que intentaban embarcar en un vuelo a Europa con drogas. En acciones separadas, agentes de la policía federal que trabajan inspeccionando pasajeros y equipaje en las puertas de inmigración entrevistaron a dos pasajeros que se dirigían a París, Francia. Durante el acercamiento, ambos confesaron voluntariamente haber ingerido cápsulas que contenían cocaína. Dado el alto riesgo para sus vidas, las mujeres fueron llevadas inmediatamente al Hospital General de Guarulhos, donde permanecerán bajo custodia hospitalaria de la Policía Penal del Estado de São Paulo hasta que reciban el alta.'\n 'Más de un kilo de cocaína y 12 personas aprehendidas fue el saldo de múltiples allanamientos llevados adelante por la Policía de Investigaciones (PDI) en Rosario, Villa Constitución y Totoras. En uno de los procedimientos en la última ciudad mencionda, los efectivos secuestraron un ladrillo de más de un kilo de cocaína.'\n 'Una serie de allanamientos realizados por la Policía de Investigaciones (PDI) entre la noche del viernes y la madrugada de este sábado en la ciudad de Santa Fe terminó con el arresto de siete personas y el secuestro de drogas y armas de fuego.'\n 'Un cargamento de cocaína de 21 kilos fue incautado durante un control vehicular en la Ruta Nacional 9, a la altura de Benjamín Paz. La droga era transportada en un camión que se dirigía hacia Tucumán.'\n 'Personal de la Prefectura Naval Argentina llevó a cabo un importante operativo en el marco de una causa por narcotráfico, que incluyó ocho allanamientos en domicilios ubicados en la Ciudad Autónoma de Buenos Aires y se detuvo a cinco personas. Como resultado de los procedimientos, se secuestraron 924 gramos de cocaína y una importante suma de dinero en efectivo: más de 812 mil pesos argentinos, 215 dólares y 100 euros.'\n 'Oficiales de la Brigada de Delitos Sexuales (Brisex) Punta Arenas de la PDI detuvieron a tres sujetos por el delito de violación de mayor de 14 años y tráfico de drogas, en el marco de un operativo realizado la noche del viernes. En la revisión de los domicilios de los sospechosos se encontró cocaína y especies que tendrían vínculo con el suceso investigado.'\n 'El conductor viajaba con una pasajera, las dos se presentaron como hermanas. La policía sospechó de la información proporcionada sobre el viaje y realizó una inspección del vehículo. En el tanque de combustible del vehículo fueron hallados 24,7 kilogramos de cocaína. La pasajera dijo que llevaría la droga desde Ponta Porã a São Paulo. La conductora dijo que desconocía la existencia de la droga. '\n 'Gabriel Batista Santos y Edisan Souza dos Santos salieron de Santarém , en el oeste de Pará, con aproximadamente 30 kg de droga. Fueron detenidos en Vitória do Xingu. Según la Policía Civil, el cargamento de crack había sido monitoreado durante al menos 15 días, cuando los equipos fueron informados del material narcótico que salía de la frontera entre Brasil y Perú y tenía como destino el municipio de Altamira. La droga entró al estado de Amazonas y luego fue llevada a Santarém, desde donde continuaría vía terrestre hasta Altamira.'\n 'El pasado viernes, sobre la Ruta Nacional Nº 9/34, allí los efectivos individualizaron un camión que llevaba 84 kilos 367 gramos del estupefaciente ocultos en un doble piso. Además, constataron que el mismo viajaba junto a una camioneta desde la localidad de Embarcación (Salta) con destino final Córdoba. El 01 de abril, en el Puesto de Control “El Naranjo”, los funcionarios habían interceptado el primer camión con dos camionetas (que actuaba como “puntero”) de la organización criminal. Tras el registro del rodado de cargas generales, se halló 41 kilos 805 gramos de la droga acondicionados en un doble fondo en el mismo sector. Los uniformados incautaron 126 kilos 172 gramos de cocaína, cinco rodados, celulares, 1.000.000 de pesos argentinos, 800 dólares, una pistola, 15 municiones y nueve hombres quedaron detenidos.'\n 'Eluid Rosa-Escudero, de 35 años, está detenido bajo custodia federal acusado mediante una denuncia penal de conspiración para poseer con la intención de distribuir 500 gramos o más de cocaína.  Se alega en los documentos de acusación que una investigación multiagencia de tres meses sobre las actividades de narcotráfico de Rosa-Escudero culminó el 10 de abril de 2025, con la ejecución de un registro autorizado por el tribunal en su residencia de Providence y la incautación de dos kilogramos de cocaína, $ 10,000 en efectivo y otros artículos asociados con el tráfico de narcóticos.'\n 'Según el acuerdo de culpabilidad, el 17 de octubre de 2022, la Administración para el Control de Drogas (DEA) recibió información de que los conspiradores James Mirabal y Jonathan Beharry estaban organizando una entrega de 20 kilogramos de cocaína, cada uno de los cuales Beharry planeaba vender por $20,000. Agentes de la DEA vigilaron a Beharry cuando se reunió con un individuo en un estacionamiento que conducía una camioneta con matrícula de Texas, conducida por Trevino con Ibarra en el asiento del copiloto. Trevino le entregó una maleta a Beharry que contenía cocaína por valor de $400,000. '\n 'Una operación internacional a gran escala ha resultado en la incautación de 630 kg de cocaína en la costa norte de Francia. La droga fue trasladada por mar mediante el método de \"entrega\", con la participación de un carguero brasileño y embarcaciones menores operadas por ciudadanos franceses.'\n 'El domingo, los agentes acordonaron la calle Dorata, donde una búsqueda sistemática de la zona —incluyendo edificios abandonados, vehículos destartalados y terrenos baldíos— resultó en el descubrimiento de 17 cartuchos de munición de 9 mm y 7 cartuchos de munición de 5,56 mm. En las inmediaciones, los agentes también encontraron e incautaron una bolsa de plástico transparente que contenía aproximadamente 21 gramos de cocaína.'\n '“¡𝗜𝗡𝗠𝗢𝗩𝗜𝗟𝗜𝗭𝗔𝗗𝗔 𝗟𝗔𝗡𝗖𝗛𝗔 𝗖𝗢𝗡 𝟱𝟰𝟬 𝗞𝗜𝗟𝗢𝗦 𝗗𝗘 𝗖𝗢𝗖𝗔𝗜́𝗡𝗔! En Santa Marta, en desarrollo de la ofensiva contra el multicrimen y el delito, la Policía, en coordinación con la Armada Nacional, incautó el alijo del alcaloide transportado en una Go Fast y capturó a tres personas\", destacó el uniformado. De igual manera, destacó que la droga habría salido desde la Guajira y sería de una organización con alta capacidad de enviar alcaloide a Europa y Norteamérica.'\n 'Una operación de seguridad vial de la Policía Federal de Carreteras (PRF) resultó en la incautación de 12,6 kg de cocaína el lunes (14) en la BR-428, en Petrolina , región del Sertão, Pernambuco. La droga estaba oculta en el interior del salpicadero de un coche, dividida en pastillas.'\n 'Tres Lagunas/MS.  La Policía Federal detuvo este lunes (14/4) a dos mujeres por tráfico de drogas. La acción ocurrió después de una denuncia anónima de que dos personas transportaban estupefacientes en un autobús que salió de Campo Grande/MS con destino a Três Lagoas/MS. Ante la situación, policías federales se acercaron al vehículo y encontraron junto a las mujeres aproximadamente 5 kilos de cocaína. Los pasajeros fueron llevados a la Comisaría de la Policía Federal de Três Lagoas/MS y acusados \\u200b\\u200bde tráfico de drogas.'\n 'Desde el martes 1 del corriente mes las fuerzas nacionales secuestraron más de media tonelada de cocaína en distintos operativos. Muchas veces con una inventiva admirable que utilizan los narcos para trasladar la droga, es sorprendente cómo vehículos de todo tipo circulan con cargamentos millonarios y se las ingenian para, muchas veces, pasar los controles de seguridad. En dos de los últimos procedimientos, los gendarmes incautaron más de 327 kilos de cocaína, ambos bajo la misma modalidad.'\n 'La unidad SACFI de la Fiscalía y el OS7 de Carabineros ubicaron un punto de acopio en una zona desértica de difícil acceso. Allí se incautaron 425 kilos de marihuana, 506 kilos de pasta base, 226 kilos de clorhidrato de cocaína y 36 kilos de ketamina, sumando 1.194 kilos.'\n 'U.S. Customs and Border Protection’s (CBP) Office of Field Operations intercepted 339 pounds (154 kilograms) of cocaine near the Ambassador Bridge port of entry, Tuesday. CBP officers in Detroit intercepted more than 330 pounds of cocaine headed to Canada near the Ambassador Bridge, Tuesday.\\nA Canada-bound commercial vehicle was selected for examination and a subsequent physical inspection conducted by officers revealed bricks of a white powdery substance concealed within two duffel bags and four moving boxes. The illicit cargo was confirmed to be cocaine through subsequent testing.'\n 'Durante la inspección del vehículo, los militares encontraron en el compartimento de carga 52.490 kilos de cocaína, distribuidos en el interior de 25 rollos de film plástico, que estaban guardados en unas bolsas, pertenecientes a dos pasajeros de nacionalidad boliviana.'\n 'Según los testimonios y las pruebas presentadas durante el juicio de tres días, agentes de la Policía Nacional de Colombia investigaron un paquete en el Aeropuerto Internacional Ernesto Cortissoz de Barranquilla, Colombia, antes de que una aerolínea transportara la carga de Barranquilla a Miami y luego a Ámsterdam. Durante la inspección, los agentes de la Policía Nacional de Colombia encontraron diversos productos alimenticios en la carga, incluyendo crema de coco, quinua en polvo y quinua granulada. La carga también contenía cocaína mezclada con algunos de los productos alimenticios, como confirmó posteriormente un químico de la Policía Nacional de Colombia. Los agentes de la Policía Nacional de Colombia incautaron la carga y descubrieron que era enviada por una empresa perteneciente a Tavarez Mateo. Tavarez Mateo operaba esta empresa, Industria Derivados del Coco SAS, bajo el alias \"Aristides Castillo Castillo\", utilizando una identidad colombiana falsa. Tavarez Mateo admitió posteriormente ante un agente especial de la DEA que había enviado la carga cargada de drogas y que lo hizo bajo esta identidad falsa.'\n '520 bloques de cocaína fueron incautados en Daule, provincia del Guayas. La media tonelada de droga estaba oculta en un tráiler que circulaba por la vía que conecta a ese cantón con Nobol. Según información preliminar, los bloques estaban escondidos en un doble fondo en la cabina del pesado vehículo. Durante la inspección, los agentes detectaron la cocaína.'\n 'Según la Policía de Carreteras, un equipo se acercó a un autobús interestatal con ruta entre Campo Grande (MS) y Río de Janeiro (RJ) , que transportaba 25 pasajeros. Durante la inspección fueron halladas ocho tabletas de pasta base de cocaína a dos de los pasajeros ocultas en cuatro pequeñas mochilas, totalizando 8.780 kilos de droga.'\n 'Durante la aproximación a un camión que transportaba ganado, los policías, con apoyo de un perro rastreador, identificaron indicios de presencia de estupefacientes en el cuerpo. Para comprobar el compartimento oculto, fue necesario retirar completamente a los animales, dejando al descubierto cientos de tablillas ocultas en un doble fondo. Se aseguraron 275 kilos de pasta base de cocaína, 100 kilos de clorhidrato de cocaína y 5 kilos de skunk, además de un fusil calibre 5.56 milímetros y 100 cartuchos del mismo calibre. El conductor, un hombre de 51 años, informó que había cargado el ganado en una finca cercana a la frontera con Bolivia y continuaría hacia Cuiabá, pasando por la región de Serra de Mangaval. Fue trasladado a la Comisaría de la Policía Federal, donde continuarán las investigaciones.'\n 'La Policía Federal, en acciones separadas en el Aeropuerto Internacional de São Paulo/Guarulhos, detuvo el martes (15/4) a cuatro pasajeros con droga en forma de cápsulas conteniendo cocaína, intentando embarcar en un vuelo a Europa y en otras dos acciones atrapó pasajeros con droga en sus equipajes. Agentes de la Policía Federal, con ayuda de perros rastreadores, abordaron a un pasajero que pretendía abordar un vuelo a Portugal, con posterior conexión a Marsella, Francia. La sospechosa, una mujer italiana de 64 años, llevaba más de cuatro kilos de cocaína dentro de sábanas y bolsos de mujer.'\n 'Ocurrió cuando Gendarmes de la Sección “Tres Cruces”, dependiente del Escuadrón 21 “La Quiaca”, detuvieron la marcha de un colectivo de pasajeros al costado en la Ruta Nacional Nº 9. Al efectuar el pasaje con el can detector de narcóticos, “Tati”, reaccionó al olfatear asientos vacíos, lo que alertó a los uniformados sobre la presunta presencia de estupefaciente en las butacas. De este modo y al a profundizar la requisa del vehículo en presencia de testigos, los efectivos encontraron una bolsa de snacks, dos bolsas de cereales y una caja de obleas que contenían cuatro sospechosos “ladrillos”, tres de ellos amarillos. Finalmente, habiendo sido analizados por el personal de Criminalística y Estudios Forenses, se confirmó un total de 4 kilos 144 gramos de cocaína, los cuales fueron secuestrados por disposición de la Unidad Fiscal Federal de Jujuy.'\n 'a Policía Federal de Carreteras (PRF) incautó cerca de 9 kilos de crack y detuvo a un hombre con orden de prisión abierta la noche del miércoles (16), en el km 345 de la BR-101, en Guarapari. El acercamiento se produjo alrededor de las 21.50 horas, cuando un equipo de PRF se acercó a un Renault Logan. Durante la inspección, los policías solicitaron al conductor que bajara las ventanillas traseras, momento en el que observaron en el asiento trasero dos cajas de cartón parcialmente abiertas, que contenían envoltorios de plástico con una sustancia similar al crack.'\n 'Un francés de 29 años fue arrestado por la policía en el principal aeropuerto de República Dominicana cuando intentaba viajar a su país con 790 gramos de cocaína en el estómago, informó el jueves (17) la agencia federal de control de drogas.'\n 'Cerca de 550 kilos de pasta base de cocaína que estaban escondidos en balsas fueron incautados cerca de Coari , en el interior de Amazonas, este miércoles (16). Según la Policía Militar de Amazonas (PMAM), el operativo también resultó en la detención de seis hombres sospechosos de ser responsables de la droga.'\n 'Un policía del Departamento de Seguridad Pública patrullaba la I-40 en el condado Oldham el 9 de abril cuando realizó una parada de tráfico. Los documentos de la corte declaran que el conductor, identificado como Virginio Ernesto Quezada, dio su consentimiento para que el agente registrara la camioneta. Los documentos judiciales indican que el policía encontró compartimentos ocultos en el interior de las defensas que contenían 15 paquetes de una sustancia blanca en polvo.'\n 'Fue en Tecate, Baja California, que elementos de la Secretaría de la Defensa Nacional (Defensa) en conjunto con elementos de la Policía Municipal revisaron un vehículo que tenía como destino Estados Unidos. Un total de nueve kilogramos de cocaína, droga que estaba escondida en el compartimento del filtro de aire del motor. Es por lo anterior que el chofer del vehículo fue arrestado. A decir de la Secretaría de Seguridad y Protección Ciudadana (SSPC) el valor de la droga incautada en el puente fronterizo Lázaro Cárdenas sería de 2.2 millones de pesos. Por su parte, en Chihuahua sucedió un aseguramiento similar, pues fue arrestada otra persona junto con 10 kilos de cocaína y otros 12 de marihuana, además de tres armas largas, una corta, seis chalecos tácticos y tres vehículos. Los hechos sucedieron en Casas Grandes, sitio donde elementos del Ejército aseguraron el material y las sustancias mencionadas. La droga tendría un valor de 2.4 millones de pesos, según la institución encabezada por Omar García Harfuch.'\n 'Según un comunicado de prensa de la Dirección Nacional de Inteligencia e Investigaciones Aduaneras (DRNED), los servicios de la dirección regional de aduanas de Roissy-Fret están llevando a cabo una inspección en profundidad el 9 de abril de 2025. Se logró descubrir 250 kilos de cocaína ocultos en el doble fondo de cajas de madera que contenían objetos procedentes de Dakar y destinados a una empresa situada en los Países Bajos. Esto equivale a 10 millones de euros, según el departamento de aduanas. '\n 'La Sección de Investigación (SR) de Dakar puso fin, ayer viernes 11 de abril de 2025, a las acciones de una importante red de traficantes de drogas duras que opera en la subregión entre Senegal, Guinea Bissau y Mali, supo Seneweb del teniente coronel Ibrahima Ndiaye. Cuatro (04) personas fuertemente implicadas, con consistentes evidencias que acreditan su participación, fueron detenidas por asociación para delinquir, tráfico internacional de drogas y lavado de activos.  Las investigaciones también condujeron a la incautación de 72 tabletas de cocaína con un peso total de ochenta (80) kg, diez (10) vehículos y un monto de dos millones quinientos noventa mil (2.590.000) francos CFA, informa el jefe de la División de Comunicación de la Gendarmería Nacional.'\n 'La Policía Nacional ha incautado 378 kilogramos de cocaína, ha informado el cuerpo de seguridad este lunes en un comunicado. La droga se hallaba escondida entre guantes de látex y sábanas quirúrgicas y estaba preparada para exportarse desde Barcelona hasta Australia, concretamente a las ciudades de Sídney y Melbourne. '\n 'La Guardia Civil ha detenido a un individuo, como presunto autor de un delito contra la salud pública, al tratar de embarcar en el muelle de Agaete con destino a Santa Cruz de Tenerife, portando mas de 66 kg de cocaina ocultos en un doble fondo de un vehículo.'\n 'En el curso de la investigación y los operativos de allanamiento y detención, las autoridades incautaron cerca de siete kilogramos de cocaína, y esto permitió sustentar las acusaciones contra los implicados, destacó El Periódico de Aragón. Además de las penas de cárcel, los condenados deberán pagar multas que, sumadas en total, superan los 550.000 euros, es decir, más de 2.680 millones de pesos colombianos.'\n 'Un hombre de Utrecht fue condenado a seis años de prisión por ocho envíos de 423 kilos de cocaína. El sospechoso usaba un antiguo Mitsubishi Grandis con un compartimento oculto en el que se transportaban más de 400 kilos de cocaína entre Utrecht y Gelderland. \\n\\n'\n 'ste martes, se logró ubicar un cargamento de cocaína oculto en un contenedor con destino a Bélgica, durante un operativo en la Terminal de Contenedores de Moín, en Limón. Según reportes oficiales, el hallazgo fue posible gracias a labores de inteligencia policial y al uso de escáneres de alta tecnología, herramientas clave en la detección de cargamentos ilícitos en la terminal portuaria. Los oficiales localizaron 120 paquetes de cocaína, con un peso aproximado de 270 gramos cada uno, escondidos dentro de reglas de madera utilizadas en la tarima de embarque. En total, se decomisaron cerca de 32 kilogramos del estupefaciente.'\n 'El portacontenedores Mersin Express (37.000 TPM) fue el último objetivo de un cártel con sede en Sudamérica. Las autoridades italianas informaron de un esfuerzo conjunto de múltiples agencias para detener el contrabando. El anuncio oficial no indicó la fecha, pero los medios indican que la incautación tuvo lugar a principios de marzo en el puerto de Livorno. El buque transportaba un cargamento de cacao en polvo que ocultaba dos toneladas de cocaína en aproximadamente 1.800 bloques. Su valor en la calle se estimaba en más de 500 millones de euros (más de 560 millones de dólares). El viaje se originó en Guayaquil, Ecuador, donde se cree que la cocaína fue cargada en el barco para su recuperación una vez que llegara a Europa. Sin embargo, el barco también hizo escalas intermedias en Colón, Panamá, y nuevamente en Cartagena, Colombia. Posteriormente, el barco hizo escalas en Vigo, Málaga y Valencia, España, y en Génova, Italia, donde la droga pasó desapercibida. Finalmente, fue interceptado en Livorno.'\n '220 bloques de cocaína fueron incautados en Colta, provincia de Chimborazo, en Ecuador. La droga era transportada en un vehículo.'\n 'Una mujer intentó cruzar desde México hacia El Paso, Texas con 42 kilos de cocaína. La droga estaba oculta en el doble fondo de un vehículo.'\n '1400 kilos de cocaína fueron incautados por la policía colombiana en el puerto de Santa Marta con destino a South Hampton, en el Reino Unido. Estas drogas presuntamente pertenecerían a los Pachenca o Autodefensas Conquistadoras de la Sierra Nevada.'\n '1800 kilos fueron incautados mientras eran transportados en una Go Fast frente a las costas de Guerrero. '\n '2400 kilos de cocaína fueron hallados flotando en aguas de Guerrero en México'\n 'Una avioneta con 500 kilos de cocaína, transportada en cajas, fue hallada por la policía brasilera en Santa Rita do Araguaia  en el estado e Goias. La aeronave era tripulada por un ciudadano venezolano y uno boliviano.'\n 'Gendarmes argentinos detuvieron un camión con soya, dentro de la cual se encontraban ocultos 20 kilos de cocaína. La droga tenía como destino la ciudad de Rosario'\n 'Gendarmes argentinos detuvieron en un puesto de control a dos personas que transportaban casi 27 kilos de cocaína en un doble fonde de un automovil por el estado de Salta.'\n '10 kilos de cocaína ocultos en bolsas de café iban a ser enviados a los Países Bajos desde el Aeropuerto El Dorado en la ciudad de Bogotá. El hallazgo se realizó en la terminal de carga. Los paquetes venían de Cali.'\n '776 kilos de cocaína, presuntamente del ELN, fueron incautados en Cúcuta. La droga tendría como destino Venezuela y fue incautada mientras estaba almacenada en dos camiones. '\n '553 kilos de cocaína fueron hallados ocultos entre cargas de aguacate en el puerto de Rotterdam. La carga provenía de Perú e hizo tránsito en Panamá.'\n '80 kilos fueron hallados en una empresa en Barendrecht entre una carga de aguacates. Lo diferente de este caso es que los aguacates eran de plástico y la carga estaba oculta dentro de ellos. Esta carga llegó a Holanda el 1 de abril y provenía de República dominicana.'\n 'Un hombre de 25 años conducía un vehículo en el que hallaron 100 kilogramos de pasta base de cocaína en Juis de Fora, Minas Gerais. La droga sería entregada en la ciudad, sin embargo, el conductor no dio más detalles.'\n '29 kilos de cocaína fueron detenidos por oficiales de CBP en el puesto migratorio entre Reynosa y McAllen en Estados Unidos. La droga era transportada en un vehículo procedente de México.'\n 'En la región de Calabria, cerca a Gioia Tauro, las autoridades italianas encontraron una refinería de cocaína donde hallaron 100 kilos de cocaína pura. En esta refinería, la cocaína se procesaría y se cortaría para su posterior distribución.'\n 'Un ciudadano albanés fue capturado en la región de Padua, en Italia, y en su casa se hallaron 35 bloques de cocaína. El albanes estaba vinculado a un ciudadano italiano-albanés quien también fue capturado con 2 kilos de cocaína en su auto.'\n 'Un italo-albanés fue capturado en la región de Padua, en Italia, y en su carro se hallaron 2 kilos de cocaína. Estaba vinculado a un ciudadano albanés que fue capturado con 35 bloques de cocaína.'\n 'Un hombre albanés de 53 años fue capturado mientras transportaba un kilo de cocaína en un doble fondo de un vehículo. Al catear la propiedad del hombre, encontraron 40 kilogramos de cocaína.'\n 'Seis individuos fueron capturados acusados de participar de una red traficante de drogas entre Marruecos y Algeria. En el proceso fueron incautados 9 kilos de cocaína. La red estaría asociada a la captura de 130 kilos de cocaína en 2024.'\n '150 kilos de cocaína fueron descubiertos en un compartimiento oculto de un portacontenedores que arribó al puerto de Vigo. La droga estaba oculta en el cofre en una técnica conocida como adosamiento. Para el operativo requirieron el trabajo de buzos. Se cree que la droga iba destinada a los puertos de Andalucía o Levante'\n 'Las autoridades hondureñas encontraron dos narcolaboratorios y 40.000 plantas de coca en un corregimiento del municipio de Dulce Nombre de Culmí, en Olancho. '\n 'Un hombre llevaba 10 kilogramos de cocaína en un camión de mudanza mientras transitaba por una ruta de la provincia de Salta.'\n '1 kilogramo de cocaína fue incautado en las vías de Formosa luego de que un vehículo lo lanzara a la via, tras alertarse por el puesto de control en la zona.'\n 'En medio de un operativo que perseguía a un clan familiar que usaba como fachada un club deportivo para traficar drogas, las autoridades chilenas incautaron 27 kilos de cocaína en la provincia de Valparaiso'\n 'un vehículo con 5 kilogramos de cocaína fue incautado en la provincia de Orán en Argentina. El auto estaba abandonado en una carretera.'\n 'Una red que importaba cocaína y pasta base desde bolivia hacia Chile fue desmantelada por las autoridades chilenas en la provincia de Santiago. En el proceso fueron incautados 273 kilos de cocaína y 71 de pasta base.'\n 'Un contenedor proveniente de El Salvador con 1152 paquetes de cocaína fue incautado en la provinia de Colón, Panamá. El contenedor tenía como lugar de destino Bélgica'\n '522 kilos de cocaína serían enviados en una encomienda de conservas desde Guadalupe hacia Orly, en Francia. La incautación se realizó en el aeropuerto de Abymes.'\n 'Las autoridades suizas incautaron 30 kilos de cocaína que eran movilizados en un vehículo con doble fondo. La incautación se dio en el cantón de ticino, fronterizo con Italia.'\n 'Authorities seized  6.2 kg of cocaine at Ahmed Sékou International Airport in Conakry, carried by a Franco-Leonese national who was preparing to board an Air France flight to Paris. '\n 'Authorities seized 75kg of cocaine in the Quimper region of France during passanger checks'\n 'The US Coast Guard offloaded of 8,500 kilograms of cocaine between February 2025 and April during six separate interdictions or events involving drug trafficking vessels off the coasts of Mexico, Central America, and South America,'\n 'At Barcelona airport officers discovered 11 kilos of cocaine hidden in a wheelchair. Two people were arrested. '\n 'at Douala International Airport made a new seizure of 30 kg of cocaine, the drugs were concealed in checked baggage on a flight to New Delhi, India. '\n ' In the port of the Ghanaian city of Tema, a shipment of almost 100 kilos of cocaine was intercepted that was about to be shipped to the Netherlands.'\n 'DR authorities seized 993 packages of presumed cocaine in the province of La Altagracia on a boat that was at the dock of a tourist complex in the province. '\n 'A shipment of zeolite that entered through the Port of Valencia contained 30 kilos of cocaine. '\n 'police in Naples arrested two men and a woman of Dominican origin, with 72 kg of cocaine'\n 'authorities sezied 10 kf of cocaine hidden in the door panels, driven by an albanian national in Italy'\n 'Authorities seized 59 kilos of cocaine hidden in cargo trucks headed for Chile.'\n 'CBP Field Operations seizes 193lbs of narcotics from Canada-bound truck driver'\n 'At Lisbon Airport, during two separate operations, authorities apprehended two men and a woman in possession of a large quantity of cocaine—enough to produce at least 68,000 individual doses.'\n 'at El Edén Airport in Armenia (Quindío), authorities seized 2,003 kg of cocaine being transported in a vehicle with fake Civil Aviation Authority logos, allegedly bound for the United States.'\n 'the national Aeronaval Services seized 311 packages of drugs following an anti-drug operation in the waters of the Guna Yala region.'\n 'Buenaventura Airport authorities seizzed 1938 kilograms of cocaine camouflaged in a wooden container originating from Montevideo, Uruguay, and destined for Mexico.'\n 'Authorities seize a shipment containing over a thousand packages of cocaine from a container coming from Ecuador, which passed through Panama and was headed for Barcelona.'\n 'Hallan 500 kilos de cocaína en un buque en el puerto de San Lorenzo; iba rumbo a Ámsterdam.'\n 'Several sheets of cocaine hidden inside a set of bumpers were seized before being shipped to Australia via the Dominican Postal Institute (Inposdom)'\n 'Silvio Pettirossi Airport, Paraguay - SENAD arrests passenger with packages taped to his body, intending to travel to spain'\n 'Police intercepts a couple driving in Lambare, Paraguay and seizes 10kg, distributed across 10 packages'\n 'Bolivian man arrested transporting cocaine in a tanker truck'\n \"Nearly half a ton of cocaine discovered in ship's refrigerators at San Lorenzo Port, Argentina; vessel was en route to the Netherlands\"\n 'Over one ton seized from a container in Costa Rica, coming from Ecuador, which intendes to enter Belguim and later be distributed into Finland'\n 'In Villagarzón, Colombia, a man was caught transporting 54 packages in a public service vehicle. Drugs were destined for Ecuador.'\n \"Near the Dutch Keys in the Guna Yala region, Panama's SENAN seized 400 drug packages after suspects on a boat threw them overboard upon spotting authorities.\"\n 'Bukele informa sobre la incautación de 1 tonelada de cocaína y la captura de cuatro costarricenses en las aguas de El Salvador'\n 'Tres personas fueron detenidas con 1.3 toneladas de cocaína en el mar de las Islas Galápagos. LAs drogas tenian como destino el mercado norteamericano (Mexico & US)'\n 'In Spain, a submarine drone uncovered 120 kilos of cocaine hidden on a bulk carrier from Brazil during a fuel stop in Gibraltar by the vessel.'\n 'La Guardia Civil realizó un seguimiento de transporte de droga desde Huelva hasta Sevilla, donde interceptaron vehículos que ocultaban media tonelada de cocaína en un doble fondo'\n \"Norweigian fruit company's staff finds 147 kg of cocaine among imported bananas. The drugs were intended to reach Antwerp port according to European authorities.\"\n \"7.4 kg of cocaine found on couple from brazil upon arrival to Suvarnabhumi Airport, following stop-over in Paris de Gaulle. The Thai market was the drug's final destination.\"\n '24 kg of cocaine found inside warehouse in Lucca, allegedly set to supply dealers in Versilia and Florence.'\n 'Authorities at Bamako airport seized 12 kg of cocaine hidden in luggage and arrested two foreigners attempting to transport the drugs to Morocco.'\n '36 kilograms of pure cocaine found by the Carabinieri along the Angri railway station'\n 'Moroccan authorities seize half ton of cocaine from coal-container transiting through Tangier, coming from Panama, headed for Belguim'\n 'Parisian authorities seize 160 kg of cocaine hidden among the furniture in a moving truck. Drugs came from Guadolupe and were destined to arrive to La Havre via container.'\n 'Drugs hidden among bananas were seized at Brajdica terminal from a ship arriving from Ecuador.'\n 'Over 30 kilograms of high-purity cocaine were seized at the port of Taranto. The drugs were discovered in duffel bags carried by three Georgian nationals attempting to disembark from a cargo ship originating from Colombia, with a stopover in Spain and a planned destination of Greece. '\n 'Man was stopped in the province of Milan during a routine road check that that uncovered 24 kg of cocaine - along with multiple smartphones, which will be analyzed to reconstruct the network of contacts and identify any accomplices or suppliers.'\n 'En el puerto de Santa Marta, Colombia,  la policía incautó más de una tonelada de clorhidrato de cocaína que estaba oculta dentro de un contenedor cargado con condimentos, específicamente curry y cúrcuma. La droga tenía como destino final Polonia.'\n 'La Guardia Costera en Puerto Rico  detuvo a cinco dominicanos por posesión de  329 kilos de cocaína. Se encontraban en aguas internacionales, al norte de Aguadilla, e intentaban entrar a Puerto Rico para luego disribuir la droga en Estados Unidos. '\n 'En Pérez Zeledón, Costa RIca, fueron decomisados 2.500 paquetes de y cocaína entre dos camiones. No se menciona el origen, o destino final.'\n 'En San Carlos, se decomisaron 1,117 kilos de cocaína dentro de una lancha. a droga tenía como destino presunto el mercado internacional'\n 'El Senan incautó 48 kilos de cocaína en una embarcación en el área de Portobelo. Cuatro personas fueron detenidas y entregadas a la Fiscalía de Drogas de Colón y Guna Yala. La droga tenía como destino presunto el mercado internacional'\n 'Entre dos operaciones en el Caribe colombiano, la Armada de Colombia incautó 2.3 toneladas de clorhidrato de cocaína. Primero se decomisaron 1.096 kg ocultos en un contenedor de un buque con bandera de Malta cerca de Cartagena, y otros 1.272 kg en una lancha tipo Go Fast interceptada en el Golfo de Urabá. No se conoce el destino final de las drogas'\n 'Interceptan narcolancha con 43 paquetes en aguas Panameñas. Drogas provenian de Colombia'\n 'Utoridades interceptaron un bote con 1.3 toneladas de cocaína en el mar de las Islas Galápagos. Se presume que las drogas tenian como destino Mexico y USA'\n 'In the highway of Villa Los Artesanos, Palermo, the Policía Caminera seized nine bricks of cocaine weighing 10.63 kilograms, valued between $400,000 and $500,000 on the black market. The origin of the drugs is unknown.'\n 'Police intercepted 135 kilos of cocaine hidden in a camper van in the Landes, France. The van was from Spain, but the origins of the drug remain unknown'\n 'En los puertos de Marín y Vigo (Pontevedra), la Policía Nacional detuvo a ocho personas por intentar recuperar 120 kilos de cocaína adheridos al casco de un buque ruso usando propulsores subacuáticos. La droga procedía de Sudamérica; su destino final no fue mencionado.'\n 'In the Case Nuove district of Naples, Italian police arrested a 34-year-old man during an anti-drug operation. The suspect was found in possession of 33 grams of cocaine, already divided into two packages ready for sale, along with €11,375 in cash, a precision scale, and packaging materials. The drugs were intended for local distribution; no information was provided regarding international trafficking'\n ' El Senan de Panamá incautaron 647 paquetes de presunta droga al sur de Punta Coco, en el Archipiélago de Las Perlas. Durante una persecución marítima, una lancha sospechosa colisionó con una embarcación aeronaval y se hundió; sus cuatro tripulantes fueron rescatados y detenidos. . El origen y destino de la droga no fueron mencionados.'\n 'En una zona rural de Casanare (Colombia) autoridades incautaron más de 2,5 toneladas de marihuana y 346 kilos de cocaína ocultos en dos vehículos. Seis personas fueron capturadas. No se informó el origen la droga, pero se presume que estaba destinada a Europa'\n 'Maicao (La Guajira, Colombia) - autoridades desmantelaron un centro de acopio y decomisaron 403 kilogramos de clorhidrato de cocaína. La droga, proveniente del Catatumbo (Norte de Santander), estaba oculta en un inmueble y tenía como destino final Estados Unidos, pasando por la República Dominicana. El valor estimado del cargamento es de 14 millones de dólares.'\n 'El 13 de mayo de 2025, las autoridades paraguayas incautaron 1.616 gramos de cocaína en el Aeropuerto Internacional Silvio Pettirossi, Asunción. La droga, destinada a Arabia Saudita, estaba oculta dentro de camisetas y termos deportivos.'\n 'South Korean authorities have seized 720kg of cocaine from a Maltese-flagged container ship docked at Busan New Port. The ship arrived on 10 May from South America. It has not been confirmed if Busan was the final destination'\n 'U.S. Customs and Border Protection seized 32 cocaine packages, weighing 71 pounds, valued at $930,000 from a car trying to enter the U.S. from Mexico at the Del Rio port of entry'\n \"On May 9, 2025, Australian authorities seized approximately 1.039 tons of cocaine (1,110 blocks) from a 43-foot motor cruiser off the coast of New South Wales. Five men were arrested. Investigations into the origin of the drugs and the group's alleged associates remain ongoing.\"\n 'On May 15, 2025, Spanish authorities dismantled a national cocaine trafficking network operating in Navarra, Tarragona, and Cambrils. The operation resulted in the seizure of 21 kilograms of cocaine, hidden in vehicles equipped with secret compartments, along with other drugs, €48,000 in cash, luxury vehicles, and firearms. Three individuals were arrested and imprisoned, while two others were released with charges. '\n 'On May 14, 2025, Bolivian authorities seized 40,2 kilograms of cocaine in the Santa Cruz department. The drugs were hidden in a van. two individuals were arrested in connection with the operation. The origin and destination of the drugs have not been confirmed.'\n \"On May 14, 2025, Spanish authorities dismantled a major cocaine distribution network in Madrid, seizing 56 kilograms of high-purity cocaine—7 kg concealed in a vehicle's electronically controlled compartment and 59 kg stored in an apartment in El Cañaveral. The drugs' origin and intended destination were not specified in the available reports.\"\n \"On May 13, 2025, Colombian authorities seized over 3,800 doses of drugs in a settlement in Chimitá, Bucaramanga. The confiscated substances included 1,500 doses of marijuana (weighing 5.8 kg) and 2,331 doses of cocaine (over 2 kg). The drugs were intended for distribution within the city's local drug markets.\"\n 'Colombian police and army forces seized 33 kilograms of cocaine hydrochloride in Pitalito, Huila. The drugs, hidden in the rear bumper of a vehicle, were being transported from Mocoa, Putumayo, toward central Colombia. Two men were arrested. The shipment was valued at around 99 million pesos and could have produced about 165,000 doses'\n 'un australiano de 43 años originario de Cairns, fue arrestado en Bali tras recibir un envío postal con 1,7 kg de cocaína distribuida en 206 bolsas plásticas. La droga fue enviada desde el Reino Unido por corre'\n 'On May 14, 2025, Spanish authorities dismantled a drug trafficking network in Madrid, arresting five individuals and seizing 66 kilograms of cocaine. The operation uncovered a stash house in the San Blas district and a vehicle equipped with a sophisticated hydraulic system to conceal drugs. The origin and intended destination of the cocaine were not specified in the available report'\n 'On May 4, 2025, Argentine authorities intercepted a truck on the Córdoba-Rosario highway , uncovering 6,840 kilograms of coca leaves concealed in +300 bags. The shipment originated from Bolivia, and was headed forBuenos Aires, presumably to be moved into Europe'\n 'Policía Federal Argentina desarticuló un punto de venta de cocaína en el barrio Villa Jardín de Concordia. Durante el allanamiento, se detuvo a tres personas y se incautaron aproximadamente 500 gramos de cocaína fraccionada y lista para su comercialización en el mercado local.'\n 'In March 20, 2025, a Hertfordshire pilot admitted to smuggling cocaine into the UK. The drugs were transported via private aircraft, and the pilot was apprehended upon arrival tp North Weald Airfield in Essex. He had flown from from Belgium via Calais in France.'\n 'En la madrugada del 27 de abril de 2025, la policía de la BAC de Niza interceptó un vehículo en la autopista A8, cerca del peaje de Saint-Isidore, que circulaba de manera errática en dirección a Italia. Durante la inspección, se descubrieron 18 kilogramos de cocaína ocultos en el automóvil. El conductor, de 39 años, y su acompañante, de 34, fueron detenidos y puestos bajo custodia policial. Las autoridades aun investigan el origen y destino de la droga.'\n 'El 15 de mayo, la policía francesa descubrió 435 kilogramos de cocaína en una bodega en París. Varios sospechosos fueron arrestados en relación con el hallazgo. La droga provenia del puerto de Marseille, mas no se menciona el destino previsto de la droga.'\n 'El 14 de mayo, agentes de la Oficina de Aduanas y Protección Fronteriza (CBP) de Estados Unidos decomisaron 21 kilogramos de cocaína ocultos en un vehículo Nissan Rogue 2013 que intentaba cruzar desde México por el Puente Internacional Hidalgo, en la frontera entre Tamaulipas y Texas. La droga, valorada en más de 618 mil dólares (aproximadamente 12 millones de pesos mexicanos), fue detectada mediante inspección no intrusiva y el uso de un equipo canino especializad'\n '235 kilos de cocaína fueron incautados en Dourados, estado de Mato Grosso do Sul. La carga era transportada en un camión oculta en hierba mate. Las autoridades tuvieron sospechas sobre la carga pues la factura era de una semana antes del transporte del producto. El conductor del camión expresó estar transportando la droga desde Ponta Pora hasta Dourados donde lo recibiría un sujeto en una estación de gasolina. La policía acompañó al transportador hasta allí y también capturó a quien la recibiría.'\n 'La policía brasilera detuvo a una persona que transportaba 63 kilos de pasta base de cocaína y 17 kilos de cocaína en un doble fondo de un vehículo. La persona transitaba por una vía del estado de Mato Grosso del Sur. La persona dijo desconocer el origen de la droga.'\n 'La policía brasilera detuvo a una persona que transportaba 63 kilos de pasta base de cocaína y 17 kilos de cocaína en un doble fondo de un vehículo. La persona transitaba por una vía del estado de Mato Grosso del Sur. '\n '8 kilos de pasta base de cocaína fueron descubiertos en un doble fondo de una motocicleta que se movilizaba por Mato Grosso do Sul. La persona dijo desconocer el origen de la droga.'\n '19 kilos de pasta base de cocaína fueron aprendidos en un doble fondo de un vehículo en el estado de Mato Grosso del Sur. El conductor dijo estar transportando la droga desde Miranda hacia Corumbá.'\n 'Alrededor de 500 kilos de cocaína eran transportados en un camión ocultos en una importante carga de soya. La cocaína estaba envuelta en fardos. El conductor del camión dio versiones encontradas sobre la ruta que tomaría, lo que levantó sospechas en las autoridades.'\n '63 kilogramos de pasta base fueron hallados en una revisión de los buques que atracaron al puerto de Santo Antônio do Içá en el estado de Amazonas, fronterizo con Colombia. La droga estaba oculta en dos motores eléctricos que se hallaban en el área de carga de una embarcación.'\n 'Las autoridades dominicanas incautaron 334 paquetes de cocaína en dos contenedores en el Puerto de Caucedo. Tras recibir informes de inteligencia, las autoridades tomaron imágenes de los contenedores y encontraron anomalías en una supuesta carga de ahuyamas. Al inspeccionar los contenedores, descubrieron que las ahuyamas eran falsas y estaban llenas de cocaína. El destino de la droga era Bélgica y posteriormente España.'\n '6500 arbustos de coca fueron descubiertos por las autoridades hondureñas en una remota zona del departamento de Olancho. '\n 'Autoridades brasileras incautaron 241 kilogramos de cocaína que eran transportados en un vehículo por una carretera del estado de Sao Paulo. Las autoridades venían siguiendo a dos vehículos que movilizaban la droga desde estados fronterizos hacia el interior de Sao Paulo, sin embargo solo lograron detener uno de los vehículos. La droga sería para suplir el mercado local.'\n 'Dos mujeres y un hombre fueron capturadas transportando 2.295 capsulas de cocaína en un vehículo. De acuerdo a los ocupantes, reclamaron la droga en una localidad de la ciudad de Rio de Janeiro y se dirigían a Paraty.'\n '270 kilos de cocaína, ocultas en un doble fondo de un camión, fueron incautadas en la provincia de Manabí, Cantón El Carmen. La droga estaba organizada en paquetes con logo de un carro azul.'\n '1 tonelada de cocaína y dos toneladas de marihuana fueron incautadas por las autoridades colombianas mientras era movilizada por el Río Putumayo en una embarcación tipo remolcador. La droga estaba oculta en el compartimiento del combustible. Se presume que la droga era de Comandos de la Frontera.'\n 'Las autoridades colombianas mencionaron que entre enero y el 12 de mayo de 2025, se han incautado un poco más de 190 toneladas de cocaína. '\n '425 kilos de cocaína fueron incautados en una gomería en la provincia de Salta, específicamente en General Mosconi. Desde tiempo atrás el establecimiento estaba siendo investigado por ser usado presuntamente como fachada para actividades ilegales.'\n 'AMO y CBP incautaron 152 kilos de cocaína al norte de Luquillo en Puerto Rico a bordo de una lancha. En el procedimiento fueron capturados cuatro ciudadanos de República Dominicana. El tráfico de cocaína desde Colombia o Venezuela a República Dominicana y posteriormente Puerto Rico es una ruta común de la droga para luego ser enviada a EEUU'\n '258 kilos de cocaína fueron incautados mientras eran transportados en doble fondos de dos vehículos en la ruta 40 a la altura de la Ciudad Sagrada de Quilmes. Los ocupantes de los dos vehículos dijeron provenir de Salta y dirigirse a Catamarca.'\n 'En un contenedor de refrigeración en el puerto de Salvador fueron descubiertos 63 kilos de cocaína, los cuales serían ocultos en un contenedor de limones con destino a United Kingdom.'\n 'Un camión con placas bolivianas fue detenido en el estado de Sao Paulo en Brasil. En una caja de herramientas del vehículo encontraron varios paquetes que contenían 127 kilos de cocaína.'\n 'Dos mujeres fueron capturadas en el aeropuerto de Sao Paulo con capsulas de cocaína dentro de su organismo. Si bien no especificaron el peso, una de las mujeres tenía 82 unidades de cocaína debajo de su ropa. Las mujeres abordarían un vuelo a Francia.'\n '2,1 toneladas de cocaína fueron incautadas en una operación conjunta de las autoridades ecuatorianas y estadounidenses. La droga era transportada en una lancha en jurisdicción de Galápagos.'\n 'Dos embarcaciones que navegaban por el Río Paraná fueron detenidas con cocaína. La primera de las embarcaciones era un bote a motor y salió de las costas paraguayas. La segunda, era un bote de remo.'\n 'En la provincia de Aysén, al sur de Chile, fue hallado un laboratorio de ensamblamiento de paquetes de droga donde se decomisaron 20 kilos de cocaína. Las autoridades destacaron que este peso es sustancial para esta ruta, la cual es poco común.'\n '160 kilos de cocaína fueron encontrados en la cabina de un camión que transitaba en la frontera entre Antofagasta y Tarapacá. De acuerdo al conductor del camión, provenía de Arica y se dirigía a Mejillones.'\n '100 kilos de cocaína fueron incautados dentro de una pieza agrícola transportada en un camión. La pieza agrícola debía ser entregada a una empresa.'\n '67 kilos de cocaína fueron incautados por las autoridades francesas en Bourg-en-Bresse. La droga era transportada en el doble fondo de un vehículo. La persona que conducía el auto era holandesa'\n 'Un buque granelero que partió de Paraguaná Brasil y tenía como destino el puerto de Sete en Francia fue detenido con 58 kilos de cocaína oculta en el pozo del timón, una zona sumergida y de difícil acceso. La incautación fue hecha por las autoridades portuarias de Sete.'\n '49 kilos de cocaína eran transportados en un camión en la provincia de Laghouat en Algeria. La droga tenía como destino el norte del país.'\n 'Un ciudadano estadounidense intentó cruzar 33 kilos de cocaína a través de la frontera entre Reynosa y McAllen en un doble fondo de un vehículo, sin embargo, fue detectado por CBP.'\n 'Un ciudadano senegales fue detenido con 7,5 kilos de cocaína en el aeropuerto sékou touré de Conakry, Guinea. El pasajero iba a tomar un vuelo hacia Marruecos.'\n 'Las autoridades rusas encontraron 50 kilos de cocaína ocultos en un cargamento de bananos que llegó desde América Latina al puerto de San Petersburgo. La carga provenía de Ecuador'\n 'Un hombre fue capturado con 2 kilos de cocaína a bordo de un vehículo en Catania. '\n 'Una mujer de 71 años y su hijo fueron detenidos al encontrarse transportando 15 kilos de cocaína en un vehículo.'\n '380 kilos de cocaína han sido incautados en la provincia argentina de Tucumán entre enero y mayo de 2025. Esto representa un crecimiento del 590% respecto al año anterior.'\n 'Un nigeriano de 39 años fue capturado mientras transportaba un kilo de cocaína oculto en implementos de aseo en un ferry que partió de Nápoles a Cerdeña.'\n 'Un ciudadano extranjero fue apresado en el AIFA pues tenía 4,4 kilos de cocaína en su maleta. Se desconoce el origen de la persona y el destino de la droga.'\n 'La Marina mexicana incautó 1285 kilos de cocaína frente a las costas de Michoacán. La droga era transportada en una embarcación.'\n 'En la provincia de Esmeraldas, las autoridades encontraron en una casa que funcionaba como centro de acopio de droga 322 kilos de cocaína y equipos de buceo, los cuales sería utilizados para contaminar los barcos.'\n 'Más de 3 toneladas de cocaína fueron incautadas en Tumaco, Nariño. La droga estaba lista para ser enviada a rutas marítimas hacia Centroamérica.'\n '15,5 kilos de cocaína fueron incautados en una carga de rosas ecuatorianas. La operación se realizó en un garaje a las afueras de Moscú. El receptor de la carga era colombiano.'\n '190 kilos de cocaína fueron encontrados en un laboratorio clandestino en Cochabamba, Bolivia.'\n 'Un poco más de 3 kilos de cocaína serían enviados desde Paraguay hacia Hong Kong ocultos en un envío de tapices. El hallazgo se realizó en el aeropuerto Silvio Pettirossi.'\n 'The Mexican navy made a seizure of 1.28 tons of cocaine off the coast of Michoacán'\n 'The Colombian Navy intercepted a semi-submersible carrying more than three tons of cocaine in Tumaco, Nariño'\n 'Members of the National Guard arrested who was a man in Oaxaca driving a tractor-trailer in which more than 250 kilograms of cocaine'\n 'The Colombian Police seized approximately 415 kilos of cocaine from the Gulf Clan. The cargo was being transported in a truck in Santa Marta and was intended to be shipped by sea to the United States and Europe.'\n 'Colombian uthorities destroyed a cocaine laboratory in Nariño where they found more than a ton of drugs'\n 'Four individuals suspected of drug trafficking in the Metz metropolitan area were arrested with 61 kg of cocaine'\n 'Australian man was. arrested after allegedly being in possession of 1.7kg of drugs in Bali, Indonesia'\n 'Algerian authorities dismantled a cocaine trafficking network in the wilaya of Algiers and seized more than 4 kg'\n 'Costa Rican authorities seized 950 kilograms of cocaine hidden inside the cooler of a fishing vessel in the Pacific Ocean'\n 'Customs intercepted 206 kilos of cocaine in the port of Rotterdam hidden in a container with cassava, which was destined for a company in Portugal'\n 'Personnel from the Pocitos Customs Division detected a shipment of 18.9 kilos of cocaine base hidden inside a Bolivian truck'\n 'Authorities seized 170 kilos of cocaine hidden inside vehicle catalytic converters originating in Brazil and destined for Alicante'\n ''\n 'The Bizkaia Civil Guard seized 10 kilos of cocaine attached to the hull of a ship in the Port of Bilbao'\n '28 kilos of cocaine found in suitcase abandoned at El Dorado airport '\n 'The Army finds 280 kilograms of cocaine in Cúcuta. '\n 'An operation in Tulcán resulted in the seizure of 301 kilos of cocaine hidden in the cabin of a trailer.'\n ' Carabineros dismantled a gang transporting 200 kilos of drugs from Tarapacá to Santiago. '\n 'Two men identified as alleged members of a drug trafficking network operating between Cali and Chile were arrested and prosecuted after being accused of coordinating the shipment of cocaine hidden in luggage. '\n 'a suspect was spotted returning home with two large bags: the search found 109 blocks of cocaine, weighing over 126 kilograms'\n 'Mexican authorities seized more than 700 kilos of cocaine from a tractor-trailer that attempted to evade a checkpoint in Sonora. The drugs were hidden in sacks of coffee, '\n 'Colombian authorities seized 511 kilos of cocaine and arrested two Dominicans who were transporting the shipment on a boat intercepted in the waters of La Guajira.'\n 'Mexican security forces seized 1.5 tons of cocaine in a maritime operation in Pacific waters off the coast of Jalisco'\n 'Peruvian police seized 1.2 tons of cocaine in the province of Mariscal Ramón Castilla, Peru, a town near the border with Putumayo.'\n 'A US maritime patrol aircraft identified two suspicious vessels 170 miles west of Mexico, leading to the interdiction of 4,630 pounds of cocaine'\n '9,993 pounds of cocaine were recovered from a bale field 475 miles southwest of Colima, Mexico'\n '14,559 pounds were retrieved from three bale fields 575 miles southwest of Acapulco, Mexico, after an embarked helicopter crew observed vessels discarding bales. '\n 'crews recovered 3,984 pounds from another bale field 660 miles south of Acapulco.'\n 'A citizen filled two fire extinguishers with 12 kilos of cocaine and was arrested. '\n 'Man in possession of 6 kg of cocaine is arrested during joint action in Iguatu '\n 'driver admitted that he was transporting drugs. He revealed the existence of a hidden compartment with an electronic opening in the dashboard '\n 'El 30 de mayo de 2025, en Tucumán, Gendarmería Nacional decomisó 2,2 kg de cocaína ingerida por dos pasajeros bolivianos en un ómnibus proveniente de Jujuy'\n 'a PDI desarticuló un clan familiar en El Bosque, Santiago, incautando 500 gramos de cocaína base ocultos en un local comercial que operaba como fachada cerca de colegios. Dos personas fueron detenidas'\n 'la Policía de Investigaciones (PDI) de Chile realizó la \"Operación La Farfana 2.0\" en Maipú, Región Metropolitan. se incautaron 121 gramos de cocaína distribuidos en 478 dosis, junto con armas de fuego y municiones'\n 'Policía de San José, Uruguay, detuvo a un joven de 18 años en San José de Mayo, incautándole tres ladrillos de cocaína que llevaba en un bolso. El artículo no especifica el origen o destino de la droga ni si el condenado pertenecía a una organización criminal.'\n 'utoridades panameñas incautaron 7.000 paquetes de droga, presumiblemente cocaína, en un contenedor procedente de Ecuador en una terminal portuaria de la provincia de Colón. Cada paquete suele pesar aproximadamente un kilogramo, lo que indica un decomiso de alrededor de siete toneladas. El cargamento tenía como destino final un puerto en Bélgica.'\n 'Policia Nacional de Panamá, en coordinación con el Ministerio Público, incautó 400 paquetes de presunta droga en un punto de control en Tierras Altas, provincia de Chiriquí. La sustancia ilícita estaba oculta en varios sacos dentro de un remolque para transportar equinos, acoplado a un vehículo tipo pick-up'\n 'Aduana argentina incautó +20 kg de cocaína en el Puente Internacional Salvador Mazza–Yacuiba, frontera con Bolivia. En un camión cisterna boliviano, se hallaron 18,91 kg de pasta base ocultos en una caja de herramientas & 1,35 kg de cocaína líquida en preservativos cosidos dentro de camperas. el destino final de la droga no fue especificado'\n 'Policía Militar del Amazonas (PMAM) realizó una operación en el río Solimões, cerca de Manacapuru, incautando 6,5 toneladas de drogas, incluyendo cocaína, en una lancha blindada.'\n 'Perra antinarcóticos localizó un laboratorio clandestino de procesamiento de cocaína, donde se incautaron 475 kilogramos de clorhidrato de cocaína.'\n 'un australiano de 43 años fue arrestado en Bali tras recibir un envío postal con 1,7 kg de cocaína distribuida en 206 bolsas plásticas. La droga fue enviada desde el Reino Unido '\n 'el 5 de mayo la tripulación del helicóptero detectó pacas flotantes con droga a unos 765 kilómetros al suroeste de Colima, logrando la recuperación de 4 mil 500 kilos de cocaína.'\n 'se identificó dos embarcaciones sospechosas que arrojaban paquetes por la borda a 920 kilómetros al suroeste de Acapulco; aunque el mal clima impidió el seguimiento de las embarcaciones, se hallaron 6,600 kilogramos de cocaína flotando en el área.'\n 'el 10 de mayo,se localizó 1,700 kilogramos más de la droga a 1,065 kilómetros al sur de Acapulco'\n 'May 26, 2025, French authorities dismantled a significant cocaine trafficking network in New Caledonia, seizing over 42 kilograms of cocaine. The cocaine, packaged in one-kilogram blocks, had been abandoned at sea near the Isle of Pines and was recovered by local residents. Investigations led to multiple raids in Nouméa and the Isle of Pines, resulting in the arrest of twelve individuals'\n 'On May 28, 2025, French authorities seized 50 kilograms of cocaine in an apartment located in downtown Nice. The cocaine was found in 43 blocks, with an estimated street value of €3 million. The origin and intended destination of the cocaine have not been disclosed. The arrested individuals are suspected of involvement in an unnamed drug trafficking network.'\n 'incautaron 1,190 kilos de cocaína ocultos en un cargamento de 335 toneladas de cartón para reciclaje, distribuido en 14 contenedores procedentes de Guatemala. La droga fue detectada en el puerto de Barcelona y en una nave industrial en Madrid,'\n \"Peruvian citizen, was apprehended at Buenos Aires' Ezeiza Airport while attempting to board a flight to Milan, via Frankfurt. He had ingested 90 capsules containing approximately 698 grams of cocaine, which had been inside his body for nearly 36 hours\"\n 'two women, aged 19 and 25, were arrested in Chaco, Argentina, while traveling on a long-distance bus from Salta to Posadas, Misiones. They were found with over 8 kilograms of high-purity cocaine concealed in their belongings.'\n ' May 29, 2025, French police seized 623 kg of cannabis resin, 1 kg of cocaine, and €48,000 in cash during a raid on an apartment in Rosny-sous-Bois, a suburb of Paris. Two individuals, including a minor, were arrested on-site'\n '1,268 packages were found in container at colon port headed to Spain'\n 'La Policía de Colombia incautó 720 kilos de cocaína que provenían de Chile y tenían como destino final Bélgica durante un operativo en la ciudad de Cartagena'\n 'On May 15, 2025, Argentine Gendarmerie officers intercepted a Jeep Compass on National Route 40 near Colalao del Valle, Tucumán province. uppon dismantling the panels, officers discovered 56 rectangular packages containing cocaine, with a total weight of 58.955 kilograms.'\n 'El 25 de mayo de 2025, la Guardia Costera de EE. UU., en colaboración con el destructor USS Gravely, incautó aproximadamente 860 libras (390 kg) de cocaína en el mar Caribe, valoradas en $13.65 millones. a. Los informes disponibles no especifican la ubicación exacta dentro del mar Caribe donde ocurrió la incautación'\n 'El 2 de junio de 2025, la Guardia di Finanza italiana arrestó a dos hombres. gi, durante una operación antidrogas en San Gregorio da Sassola, cerca de Roma. Se les incautaron aproximadamente 200 kilogramos de hachís y cerca de 2 kilogramos de cocaína.'\n 'ujer tailandesa de 38 años arrestada en el Aeropuerto Internacional Bandaranaike de Sri Lanka el 30 de mayo de 2025 llegó al país a bordo del vuelo QR-662 de Qatar Airways, procedente de Doha . Durante una inspección, las autoridades descubrieron aproximadamente 10,3 kilogramos de cocaína ocultos en tres peluches,'\n 'El 27 de mayo de 2025, en el barrio San Berillo Nuovo de Catania, Italia, la policía arrestó a un hombre de 35 años que transportaba más de 3 kilogramos de cocaína ocultos en su vehículo'\n 'l 30 de mayo de 2025, en Porto Empedocle, Italia, la policía detuvo a un hombre de 31 años que transportaba más de 500 gramos de cocaína pura escondidos en su bolso durante un control rutinario en la carretera estatal 115. La droga, con un valor estimado de 50.000 euros, estaba destinada al tráfico minorista.'\n 'El 13 de mayo de 2025, en Alsacia, Francia, la policía desmanteló una red de narcotráfico tras varios meses de investigación (since august 2024). Se incautaron 187 kilogramos de cocaína y se detuvo a diez personas. La droga estaba oculta en vehículos y propiedades, lista para ser distribuida en la región'\n '3 de junio de 2025, la policía de Marsella incautó 7 kilogramos de cocaína en un apartamento de los barrios norte de la ciudad. Tres personas fueron detenidas en conexión con este hallazgo. La droga estaba oculta en varios bloques dentro del inmuebl'\n '29 de mayo de 2025, la Marina mexicana incautó 1,5 toneladas de cocaína en aguas del Pacífico, frente a la costa del estado de Jalisco. El cargamento consistía en 38 fardos con 1.500 paquetes de cocaína, con un valor estimado de casi 19 millones de dólares.'\n 'Civil and Federal Police seized around 400 kilos of cocaine on wednesday 4th in the Abacate da Pedreira district, in the rural area of \\u200b\\u200bMacapá.'\n \"PF arrests man in flagrante delicto for drug trafficking in the Lagos Region. - 22 kg of cocaine base paste were found in the prisoner's vehicle.\"\n 'El 4 de junio de 2025, la Policía Rodoviaria Federal (PRF) de Brasil incautó 92,8 kilogramos de pasta base de cocaína durante una inspección en la carretera BR-376, en el municipio de Presidente Castelo Branco, estado de Paraná. La droga estaba oculta en un compartimento de aluminio instalado bajo el piso de una camioneta'\n 'El 4 de junio de 2025, la Policía Rodoviaria Federal (PRF) de Brasil incautó 31 kilogramos de cocaína y 33 kilogramos de skunk durante una inspección en la carretera BR-262, en el municipio de Miranda, estado de Mato Grosso do Sul. La droga estaba oculta en los tanques de combustible de un camión Scania/T124.'\n 'June 5, Brazil’s Federal Highway Police (PRF) seized over 496 kg of cocaine during a truck inspection in Pau D’Arco, Pará. The drugs—257.9 kg of cocaine hydrochloride and 238.7 kg of paste—were hidden among pineapples.'\n 'the São Paulo State Highway Police (Polícia Rodoviária Estadual) seized over 400 kilograms of cocaine concealed in a false bottom of a semi-trailer during a routine inspection on the Washington Luís Highway (SP-310) in São José do Rio Preto, São Paulo, Brazil.'\n 'Honduran authorities discovered $7,000 in cash and several small bags of cocaine hidden in a modified compartment of a vehicle seized in Morazán, Yoro department'\n 'Dos gendarmes imputados por transporte de 161 kilos de cocaína en aguaray'\n 'June 4, 2025, Ecuadorian authorities intercepted two fiber boats near San Cristóbal Island in the Galápagos, seizing 1.5 tons of cocaine valued at approximately $45 million in the U.S. market.'\n 'The Civil Police found 105.7 kg of cocaine inside a warehouse and arrested a 53-year-old man during an operation in Praia Grande , on the coast of São Paulo.'\n 'El 27 de mayo de 2025, en el paso fronterizo de Pocitos (Salta, Argentina), Aduana detuvo a un camionero boliviano y confiscó 18,910 kg de pasta base de cocaína ocultos en una caja de herramientas de su camión cisterna'\n 'Three men were arrested in flagrante delicto and around 200 kilos of cocaine were seized by the Civil Police during an operation carried out on Friday (23), on a rural property in Vila Arienga, in Barcarena, state of para'\n 'El 24 de mayo de 2025, en Sabinópolis (Minas Gerais, Brasil), la Policía Militar incautó 1.273 pinos (pellets) de cocaína durante un operativo en el centro de la ciudad, que derivó en la detención de una pareja vinculada al microtráfico'\n 'En Presidente Prudente (São Paulo, Brasil), la Policía Militar arrestó a un joven de 22 años tras una persecución vehicular. Durante el control encontraron 61 envoltorios de cocaína y un tijolo oculta en la cintura, totalizando aproximadamente 293 gramos.'\n 'Aseguran 45 paquetes con cocaína en Playa del Carmen, Quintana Roo; estaban sellados con la leyenda \"CR7\"'\n 'On May 16, 2025, U.S. Customs and Border Protection (CBP) officers at the Hidalgo International Bridge intercepted 28 packages of cocaine totaling 74.07\\u202flb (33.6\\u202fkg) hidden inside a 2002 Ford Ranger crossing from Mexico into the U.S. The narcotics were discovered using non‑intrusive scanning and a canine team and are valued at about $989,000'\n 'On May 19, 2025, at the Rio Grande City International Bridge (Texas), U.S. Customs and Border Protection officers intercepted a tractor-trailer on secondary inspection & discovered 31 packages of cocaine, weighing a total of 69.44 pounds (≈31.5 kg).'\n \"On May 18, 2025, Ecuador's Coast Guard intercepted a fiberglass boat off the coast of Santa\\u202fElena province (on Ecuador's mainland Pacific coast) and seized an estimated 1.5\\u202ftons of cocaine packed in 31 sacks. It is presumed that the boat was bound for Central America.\"\n 'On May 17, 2025, Ecuadorian police raided a house in the San Martín de Porres neighborhood of Esmeraldas, seizing 322 kg of cocaine and sophisticated diving equipment—buoyancy gear, oxygen tanks, fins—purportedly used to attach the drugs to ship hulls at the port.'\n 'in Valladolid, Spain, the National Police dismantled Operation Churruca, the province’s largest narcotics and money‑laundering ring to date. They arrested 19 individuals and seized 59\\u202fkg of high‑purity cocaine, along with luxury vehicles, weapons, and ammunition'\n 'On June 3, 2025, on BR‑116 at km 429 near Feira de Santana (Bahia, Brazil), the Federal Highway Police and Bahia’s Civil Police stopped a passenger vehicle and found 1 kilogram of cocaine paste among a total 132 kg of drug'\n 'On May 26, 2025, Gendarmería Nacional Argentina (GNA) seized 10.5 kg of cocaine hidden within the wheels of a Toyota Hilux in Salta province'\n 'Se encontraron 1.268 paquetes en un contenedor en la terminal portuaria de Colón, enviados de Panamá hacia España'\n 'Tumaco, Nariño (Colombia), a joint operation by the National Police’s anti-narcotics unit (alongside the DEA, Navy, and Air Force) uncovered 3,260 kg of cocaine hydrochloride buried in a clandestine hideout in the El Firme sector. The cargo was destined for the United States, via “Go Fast” boats traversing Pacific drug corridors between Colombia and Ecuador'\n 'Policía Nacional’s Transit and Transport division stopped a tractor-trailer en route from Yumbo (Valle del Cauca) to Bogotá. Hidden in hydraulic compartments inside two isotanques on the trailer, they found approximately 1,000 kilograms of cocaine hydrochlori'\n 'PF and PC seize 110kg of drugs in Amazonas. The seizure was carried out during a routine inspection of vessels that dock at the port of the city of Santo Antônio do Içá/'\n 'Brazilian Federal Highway Police intercepted a silver Nissan Versa in Serra, Espírito Santo, during a routine stop & found12.78 kg of cocaine hidden in a secret compartment behind the passenger dashboard'\n 'Brazilian Federal Highway Police (PRF) seized 109 kg of cocaine in Miranda (MS), hidden inside a VW Gol'\n 'incautación de 1.2 toneladas de cocaína en la Provincia de Mariscal Ramón Castilla (Perú), una población cercana a la frontera con Putumayo.'\n 'May 28, 2025, during a routine stop on the BR‑230 at Campina Grande (Paraíba, Brazil), Federal Highway Police (PRF) intercepted a Fiat Palio coming from Pernambuco. Inside the trunk, they found 20.4 kg of cocaine concealed inside a box coated with mud'\n 'May 26, 2025 - Novo Aripuanã, Amazonas - eight large bales of cocaine ,approximately 300 kg total, that had been unloaded from a small aircraft into a forested area were seized'\n 'May 26, PRF in Terenos, Mato Grosso do Sul, stopped a truck on BR‑262 and seized 149 kg of cocaine hidden inside suitcases in the cabin. Drugs came from Corumbá and were destined for Campo Grande'\n 'Aeropuerto Internacional de Brasília (Brasil), una mujer que arribó desde Rio Branco (Acre) fue detenida por la Policía Federal al encontrar en su equipaje 6 kg de pasta base de cocaína'\n 'Federal Highway Police  seized 13 kg of cocaine on Tuesday 27, May in Miranda (MS).'\n 'Gendarmería Nacional detuvo un camión de bandera paraguaya transportando autos. Al inspeccionar dos vehículos en el interior del camión, hallaron 172 kg de hojas de coca distribuidas en bolsas de arpillera ocultas en su interior'\n 'Chubut: Detienen a pasajero de un ómnibus que ocultaba 2 kilos de cocaína entre sus pertenencias']"
        ],
        [
         "Destition - Country",
         "29",
         "['' 'Spain' 'United States' 'Portugal' 'Belgium' 'Germany' 'Canada' 'Peru'\n 'Bolivia' 'Chile' 'Italy' 'China' 'United Kingdom' 'France' 'Brazil'\n 'India' 'Turkey' 'Argentina' 'Netherlands' 'Australia' 'Mexico' 'Ecuador'\n 'Thailand' 'Morocco' 'Greece' 'Poland' 'Saudi Arabia' 'Colombia'\n 'Hong Kong']"
        ],
        [
         "Destition - Municipality/Port",
         "35",
         "['' 'Madrid' 'Europe' 'Lisboa' 'Iquique' 'Reggio Calabria' 'Barcelona'\n 'Hamburg' 'Manchester ' 'Paris' 'Vigo' 'Izmir' 'Sao Paulo' 'Altamira'\n 'Providence' 'Baldwin Park' 'Tres Lagoas' 'Santos' 'Miami'\n 'Río de Janeiro' 'Marseille' 'Vitoria' 'Manaus' 'Sidney/Melbourne'\n 'Santa Cruz de Tenerife' 'Livorno' 'South Hampton' 'New Delhi'\n 'Amsterdam' 'toorak court ' 'Antwerp' 'Florence' 'casablanca' 'La havre'\n 'Santiago']"
        ],
        [
         "Destition - Region",
         "5",
         "['' 'Europe' 'Asia' 'Australia' 'South America']"
        ],
        [
         "Destition - department.state",
         "32",
         "['' 'Antwerp' 'Chancay' 'Hillsborough' 'São Paulo' 'Galicia' 'Izmir'\n 'Sao Paulo' 'Ile de France' 'Santa Fe' 'Tucumán' 'Buenos Aires'\n 'Punta Arenas' 'Pará' 'Rhode Island' 'Florida' 'Normandy'\n 'Mato Grosso do Sul' 'Río de Janeiro' 'Espirito Santo' 'Amazonas'\n 'Canary Islands' 'Toscana' 'Catalonia' 'port macquarie' 'chaouia'\n 'Metropolitan Region' 'Cordoba' 'Milan' 'Tucuman' 'Bogota' 'Campo Grande']"
        ],
        [
         "Destition 2 - Country",
         "8",
         "['' 'Netherlands' 'Belgium' 'Italy' 'South Korea' 'Finland'\n 'United States' 'Spain']"
        ],
        [
         "Destition 2 - Municipality/Port",
         "4",
         "['' 'Livorno' 'Amsterdam' 'Versilia']"
        ],
        [
         "Duration",
         "12",
         "['' '1900-01-09' '1900-03-29' '1899-12-31' '1900-01-04' '1900-04-01'\n '1900-01-02' '1900-03-22' '1900-05-10' '1900-05-15' '1900-01-28'\n '10 months']"
        ],
        [
         "Modus Operandi/place of seizure",
         "6",
         "['Air' 'Land' 'Maritime vessel' 'Container' '' 'River vessel']"
        ],
        [
         "Month",
         "7",
         "['3' '1' '4' '2' '5' '' '6']"
        ],
        [
         "Municipality/Port",
         "234",
         "['Florence' 'Santo Domingo' 'Lake Maracaibo ' 'Eagle Pass Port of Entry'\n '' 'Cáceres' 'Puerto Colombia' 'Cartagena' 'Posorja' 'Bizkaia'\n 'Ambassador Bridge' 'Tingo María ' 'Madrid, Marbella and Barcelona)'\n 'Providencia' 'Matapalo' 'Rio de Janeiro' 'Colchane' 'Tocoa' 'Acapulco'\n 'Kingston' 'Volcán' 'Piraeus' 'Madrid' 'Panama City' 'Gioia Tauro' 'Yuto'\n 'Santiago del Estero' 'Barcelona' 'Buenaventura' 'Rosario de la frontera'\n 'São José de Mipibu' 'Manchester ' 'Alto Paraiso' 'Terenos'\n 'Frontera Hidalgo' 'Gangneung' 'Aguaray' 'Juina' 'Nova Andradina'\n 'Agua Clara' 'Guia Lopes da Laguna' 'Lázaro Cárdenas' 'Zarate' 'Campinas'\n 'Santa Marta' 'Timbiquí' 'Orocué' 'Piendamó' 'Guayaquil' 'Ica'\n 'Cochabamba' 'Albania' 'Guarapari' 'Mineiros do Tietê' 'Jataí' 'Livorno'\n 'Benito Juárez' 'Tancarville' 'Miranda' 'San Pedro Sula' 'Valencia'\n 'Guarulhos' 'Rosario, Totoras, Villa Constitución' 'Santa Fe'\n 'Benjamín Paz' 'Buenos Aires' 'Punta Arenas' 'Bataguassu'\n 'Vitória do Xingu' 'Embarcación' 'Providence' 'Baldwin Park'\n 'Port of Spain' 'Petrolina' 'Campo Grande' 'Detroit' 'Pacaembu'\n 'Barranquilla' 'Daule' 'Presidente Vencesalu' 'Caceres' 'Sao Paulo'\n 'Coari' 'Oldham County' 'Tecate/Casas Grandes' 'Roissy-Fret' 'Dakar'\n 'Agaete' 'Saragossa' 'Utrecht' 'Moín' 'Colta' 'El Paso'\n 'Santa Rita do Araguaia' 'Bogotá' 'Cúcuta' 'Rotterdam' 'Barendrecht'\n 'Juiz de Fora' 'McAllen' 'Rizziconi' 'Salsomaggiore' 'Oran' 'Vigo'\n 'Dulce nombre de Culmí' 'Quilpué' 'San Ramón de la Nueva Orán' 'Santiago'\n 'Abymes' 'Conakry' 'Douala' 'Tema' 'Zaragoza' 'Salvador Mazza' 'Lisbon'\n 'El Eden' 'Colon' 'San Lorenzo' ' La Ciénaga'\n 'Silvio Pettirossi International Airport' 'Infante Rivarola'\n 'Moín Container Terminal' ' Villagarzón' 'Jaltepeque Estuary' 'Sevilla'\n ' Samut Prakan' 'Lucca' 'Angri' 'Tangier' 'Vitry-sur-Seine' 'Brajdica'\n 'Taranto' 'Milano' 'Pérez Zeledón' 'San Carlos' 'Portobelo'\n 'Villa Los Artesanos' 'Pontevedra' 'Case Nuove' 'Punta de Coco'\n 'Casanare' 'Maicao' 'Busan New Port' 'Del Rio' 'South West Rocks'\n 'Tudela' 'Mairana' 'El Cañaveral' 'Chimita' 'Gringy' 'San Blas'\n 'Villa Jardin' 'Nice' 'Paris' 'Dourados' 'Anastácio' 'Corumbá'\n 'São Carlos' 'Santo Antônio do Içá' 'Boca Chica' 'Catacamas' 'Mogi Mirim'\n ' Paraty' 'El Carmen' 'Puerto Asis' 'General Mosconi' 'Luquillo'\n 'Ciudad sagrada de Quilmes' 'Salvador' 'Quadra' 'Puerto Maciel'\n 'Quillagua' 'bourg-en-bresse' 'Sete' 'Laghouat' 'Reynosa'\n 'San Petersburgo' 'Catania' 'Anzio' 'Cagliari' 'Santa Lucia'\n 'San Martin de Porres' 'Tumaco' 'Moscu' 'Villa Tunarí' 'Asunción'\n 'Cumbitara' 'Metz' 'Pocitos' 'Bilbao' 'Bogota' 'Carchi' 'Cali' 'Brescia'\n ' San Luis Río Colorado' 'Iguatu' 'Serra' 'El Bosque' 'Camino La Farfana'\n 'Tierras Altas' 'Manacapuru' 'Olaya Herrera' 'Kuta Beach' 'Isle of Pines'\n 'Ezeiza ' 'Rosny-sous-bois' 'Colon Port' 'Colalao del Valle'\n 'San Gregorio da Sassola' 'Aeropuerto Internacional Bandaranaike'\n 'San Berillo' 'Porto Empedocle' 'abacate da pedreira' 'Casimiro de Abreu'\n 'Presidente Castelo Branco' 'Pau D’Arco' 'São José do Rio Preto'\n 'Morazán' ' Aguaray' 'San Cristobal' 'Praia Grande' 'Barcarena'\n 'Sabinopolis' 'Presidente Presente' 'Playa del Carmen'\n 'Hidalgo International Bridge' 'Rio Grande' 'Feira de Santana' 'Tumuco'\n ' Santo Antônio do Iça' 'Mariscal Ramón Castilla' 'Campina Grande'\n 'Novo Aripuanã' 'Volcan']"
        ],
        [
         "Origin Area",
         "16",
         "['' 'Norte de Santander' 'Antioquia' 'Santa Cruz' 'Valle del Cauca'\n 'Magdalena' 'Cauca' 'Casanare' 'Chocó, Nariño' 'Bolívar' 'Guajira' 'Ica'\n 'Cochabamba' 'Catatumbo' 'Loreto' 'Putumayo']"
        ],
        [
         "Origin country",
         "4",
         "['' 'Colombia' 'Peru' 'Bolivia']"
        ],
        [
         "Origin municipality",
         "14",
         "['' 'Tibu' 'Medellín' 'Santa Marta' 'Timbiquí' 'Orocué' 'Cartagena'\n 'Piendamó' 'Ica' 'Cochabamba' 'Bretaña' 'Hacarí' 'Moccoa' 'Cúcuta']"
        ],
        [
         "Project interested",
         "5",
         "[None 'Cocaine Pipeline' 'Dutch' 'MAD' 'Cocaine Pipeline, El PACCTO 2.0'\n 'El PACCTO 2.0']"
        ],
        [
         "Quantity",
         "263",
         "['10' '2.5' '2619' '1240' '16.05' '65' '6600' '142' '550' '2050' '23' '3'\n '40' '1300' '247' '898' '120' '2545' '26' '577' '53' '107' '300' '500'\n '146000' '64' '1200' '1.5' '26.4' '22300' '1800' '16000' '25' '538' '44'\n '1206' '131' '62' '357' '1170' '14' '152' '1146' '600' '875' '41' '12'\n '135000' '1237' '673.5' '452' '320' '2000' '95' '465' '5.4' '11.4' '161'\n '1' '100' '16' '521' '415' '530' '178732' '1000' '6035' '599' '400'\n '3500' '41500' '2322' '8' '30' '13' '198' '700' '140' '630' '15392' '42'\n '3589' '602' '554' '786' '90' '' '1.235' '0.15' '21' '0.924' '0.16'\n '24.7' '126' '2' '20' '0.021' '540' '12.6' '5' '732' '154' '52.49' '520'\n '8.78' '375' '4.144' '9' '0.79' '15' '19' '250' '80' '378' '66' '7' '423'\n '32' '220' '1400' '2400' '776' '553' '29' '35' '150' '40000' '27' '273'\n '71' '1152' '522' '6.2' '75' '8500' '11' '1027' '72' '59' '87.55' '68000'\n '2003' '311' '1938' '2.7' '17' '1099' '54' '25,600,000' '510' '147' '7.4'\n '24' '5000000' '514' '160' '85' '1045' '329' '2500' '1117' '48'\n '13,000,000' '43' '10.6' '135' '0.033' '647' '346' '403' '1.6' '720'\n '930,000' '1039' '40.2' '56' '33' '7000' '0.5' '2,400,000' '18' '435'\n '21.02' '235' '63' '624' '6500' '241' '2295' '270' '190602' '425' '258'\n '127' '82' '2100' '1780' '67' '58' '45.9' '7.5' '50' '380' '4.4' '1285'\n '322' '3260' '15.5' '190' '1280' '3003' '253' '61' '1.7' '4' '950' '206'\n '18.9' '170' '780' '28' '280' '301' '200' '7.9' '701' '511' '1500' '4630'\n '9993' '14559' '3984' '6' '2.2' '0.121' '20.26' '475' '4500' '1700'\n '1190' '0.7' '1,268' '860' '10.8' '187' '22' '31' '496' '105.7' '1273'\n '0.293' '45' '989000' '956000' '10.5' '1268' '3620' '110' '12.7' '676'\n '20.4' '149' '172']"
        ],
        [
         "Region",
         "8",
         "['Europe' 'Caribbean' 'South America' 'North America' 'Central America'\n 'Africa' 'Asia' 'Oceania']"
        ],
        [
         "Source link",
         "360",
         "['https://www.lanazione.it/firenze/cronaca/cocaina-liquida-arresto-fhlq2ak3'\n 'https://rccnoticias.com.do/operativo-en-el-aila-frustra-intento-trafico-de-cocaina-hacia-europa-319879/'\n 'https://rci.fm/deuxiles/infos/Faits-divers/Venezuela-saisie-de-pres-de-quatre-tonnes-de-cocaine'\n 'https://eldiariony.com/2025/03/23/cbp-incauta-475000-en-cocaina-dentro-de-un-remolque-en-texas/'\n 'https://www.interior.gob.es/opencms/es/detalle/articulo/La-Policia-Nacional-desmantela-en-Caceres-un-laboratorio-de-produccion-de-cocaina-que-distribuian-camuflada-en-botes-de-pintura/'\n 'https://www.barrons.com/news/portugal-busts-submarine-with-6-5-tonnes-of-cocaine-f37ae72a'\n 'https://www.canada.ca/en/border-services-agency/news/2025/03/major-cocaine-seizure-by-the-cbsa-at-the-cn-taschereau-yard.html'\n 'https://www.msn.com/en-us/news/us/more-than-6m-worth-of-cocaine-seized-near-port-everglades-uscg/ar-AA1BBPan'\n 'https://www.infobae.com/colombia/2025/03/25/ejercito-colombiano-incauto-mas-de-dos-toneladas-de-cocaina-del-clan-del-golfo-en-el-bajo-cauca-antioqueno/'\n 'https://www.diariolibre.com/usa/actualidad/2025/03/25/incautan-23-kilos-de-cocaina-en-el-ferri-en-ruta-santo-domingo/3046811'\n 'https://www.agriland.ie/farming-news/tobacco-alcohol-and-cocaine-seized-in-midlands/'\n 'https://www.novinite.com/articles/231492/Over+40+kg+of+Cocaine+Seized+in+Banana+Shipment+at+Burgas+Port'\n 'https://www.laprensagrafica.com/elsalvador/Marina-salvadorena-incauta-1.3-toneladas-de-cocaina-de-tres-embarcaciones-en-la-Bocana-El-Cordoncillo-20250326-0097.html'\n 'https://www.wradio.com.co/2025/03/26/incautan-247-kilos-de-cocaina-en-puerto-colombia-atlantico/'\n 'https://www.wradio.com.co/2025/03/26/policia-incauto-cerca-de-900-kilos-de-cocaina-en-cartagena/'\n 'http://www.french.xinhuanet.com/20250328/f7eac8f346274f96a82c2b2b22a28d4c/c.html'\n 'https://www.primicias.ec/sucesos/decomiso-cocaina-contenedores-puerto-posorja-guayaquil-drogas-92663/'\n 'https://www.eitb.eus/es/noticias/sociedad/detalle/9941044/trece-personas-detenidas-y-siete-investigadas-en-operacion-contra-trafico-de-droga-en-bizkaia/'\n 'https://www.primerahora.com/noticias/policia-tribunales/notas/inspectores-postales-incautan-varias-armas-fentanilo-y-cocaina-enviadas-por-correo-a-la-isla/'\n 'https://www.infobae.com/estados-unidos/2025/03/25/agentes-de-cbp-incautan-mas-de-50-kg-de-cocaina-ocultos-en-un-camion-que-intentaba-cruzar-la-frontera/'\n 'https://inforegion.pe/incautan-107-kg-de-cocaina-y-detienen-a-dos-personas-en-tingo-maria/'\n 'https://www.policia.es/_es/comunicacion_prensa_detalle.php?ID=16512#'\n 'https://www.semana.com/nacion/cali/articulo/desmantelan-mega-laboratorio-de-cocaina-en-narino-con-capacidad-para-producir-dos-toneladas-mensuales/202505/'\n 'https://www.latercera.com/nacional/noticia/operativo-en-puertos-de-arica-e-iquique-incautan-146-toneladas-de-precursores-quimicos-para-fabricar-drogas/'\n 'https://www.eltribuno.com/policiales/2025-3-29-0-0-0-caen-narcos-que-usaban-rutas-mineras-con-64-kilos-de-cocaina'\n 'https://www.nacion.com/sucesos/cae-embarcacion-con-12-toneladas-de-cocaina-y-44/WV6W32QPXZDQ5H2CBQWZQY6WO4/story/'\n 'https://g1.globo.com/rj/rio-de-janeiro/noticia/2025/03/30/pf-prende-mulher-no-aeroporto-do-galeao-com-cocaina-escondida-sob-as-roupas.ghtml'\n 'https://www.biobiochile.cl/noticias/nacional/region-de-tarapaca/2025/03/30/tripulacion-huyo-y-abandono-a-pasajeros-detectan-bus-boliviano-con-26-kilos-de-pasta-base-en-colchane.shtml'\n 'https://proceso.hn/aseguran-22-mil-300-arbustos-de-coca-y-un-narcolaboratorio-en-colon/'\n 'https://www.gob.mx/semar/prensa/en-costas-de-guerrero-se-aseguraron-alrededor-de-1-800-kilos-de-cocaina-en-la-mar'\n 'https://www.prensa.com/judiciales/senan-reporta-el-decomiso-de-mas-de-16-mil-kilos-de-droga-en-tres-meses/'\n 'https://elnacional.com.do/incautan-25-paquetes-de-cocaina-en-pesquera/'\n 'https://jcf.gov.jm/major-cocaine-shipment-disguised-as-honey-seized-at-kingston-seaport/?utm_source=rss&utm_medium=rss&utm_campaign=major-cocaine-shipment-disguised-as-honey-seized-at-kingston-seaport'\n 'https://www.argentina.gob.ar/noticias/secuestramos-44-kilos-de-cocaina-y-detuvimos-cuatro-personas-en-jujuy'\n 'https://rci.fm/deuxiles/infos/Faits-divers/12-tonne-de-cocaine-saisie-en-mer-par-la-Marine-Nationale-au-large-de-la'\n 'https://www.ekathimerini.com/news/1265316/authorities-find-131kg-of-cocaine-hidden-in-banana-shipments/'\n 'https://www.europapress.es/madrid/noticia-detenido-viajero-portaba-casi-40-kilogramos-cocaina-interior-dos-maletas-barajas-20250328173201.html'\n 'https://www.prensa.com/judiciales/aprehenden-a-un-hombre-con-62-paquetes-de-presuntas-sustancias-ilicitas-en-campo-lindbergh/#google_vignette'\n 'https://www.laestrella.com.pa/panama/mas-de-1500-paquetes-de-sustancias-ilicitas-decomisados-en-colon-y-los-santos-CD11478813'\n 'https://www.infopinione.it/index.php/2025/03/28/sequestro-cocaina-gioia-tauro/'\n 'https://www.argentina.gob.ar/noticias/jujuy-acondiciono-14-kilos-de-pasta-base-dentro-de-un-parlante'\n 'https://www.lanacion.com.ar/seguridad/secuestran-un-camion-con-152-kilos-de-cocaina-ocultos-en-cajones-de-bananas-nid01042025/'\n 'https://www.interior.gob.es/opencms/es/detalle/articulo/Interceptados-26-kg-de-cocaina-camuflados-en-sillas-de-montar/'\n 'https://www.eluniversal.com.co/sucesos/2025/03/31/video-cae-mas-de-una-tonelada-de-cocaina-en-cartagena-que-iba-a-europa/'\n 'https://www.eltiempo.com/justicia/conflicto-y-narcotrafico/la-ruta-de-los-600-kilos-de-cocaina-que-cayeron-en-buenaventura-el-cargamento-iba-para-china-3440051'\n 'https://www.senafront.gob.pa/senafront-incauta-35-bultos-con-875-kilos-de-presunta-droga-en-operacion-faro/'\n 'https://www.salta.gob.ar/prensa/noticias/detenidos-con-mas-de-41-kilos-de-cocaina-100881'\n 'https://g1.globo.com/rn/rio-grande-do-norte/noticia/2025/04/01/dupla-e-presa-apos-policiais-encontrarem-53-kg-de-cocaina-escondidos-em-compartimento-secreto-de-carro-no-rn.ghtml'\n 'https://archive.is/u3Gwk#selection-385.41-387.10'\n 'https://www.wradio.com.co/2025/04/01/en-lo-corrido-de-2025-se-han-incautado-135-toneladas-de-cocaina/'\n 'https://www.gov.br/prf/pt-br/noticias/estaduais/parana/2025/abril/prf-apreende-mais-de-600-kg-de-cocaina-no-parana-e-realiza-a-maior-apreensao-da-droga-no-pais-em-2025'\n 'https://www.gov.br/prf/pt-br/noticias/estaduais/mato-grosso-do-sul/2025/abril/prf-apreende-452-kg-de-cocaina-em-terenos-ms'\n 'https://www.excelsior.com.mx/nacional/chiapas-ejercito-aseguramiento-cocaina-crimen-organizado/1708505'\n 'https://www.reuters.com/world/asia-pacific/south-korea-discovers-one-tonne-suspected-cocaine-board-ship-2025-04-02/'\n 'https://www.eltribuno.com/policiales/2025-4-3-8-4-0-narcos-al-volante-tiraron-95-kilos-de-cocaina-en-plena-calle-y-los-vecinos-los-delataron'\n 'https://g1.globo.com/mt/mato-grosso/noticia/2025/04/03/dois-homens-sao-presos-com-mais-de-400-kg-de-cocaina-em-zona-rural-de-mt.ghtml'\n 'https://www.gov.br/prf/pt-br/noticias/estaduais/mato-grosso-do-sul/2025/abril/prf-apreende-5-kg-de-cocaina-em-nova-andradina-ms'\n 'https://www.gov.br/prf/pt-br/noticias/estaduais/mato-grosso-do-sul/2025/abril/prf-apreende-11-kg-de-cocaina-em-agua-clara-ms'\n 'https://www.gov.br/prf/pt-br/noticias/estaduais/mato-grosso-do-sul/2025/abril/prf-apreende-161-kg-de-cocaina-em-guia-lopes-da-laguna-ms'\n 'https://www.excelsior.com.mx/nacional/semar-asegura-clorhidrato-cocaina-lazaro-cardenas-michoacan/1708808'\n 'https://www.argentina.gob.ar/noticias/cocaina-bordo-prefectura-hallo-droga-en-un-operativo-de-control-de-buques'\n 'https://g1.globo.com/sp/campinas-regiao/noticia/2025/04/03/mulher-e-presa-ao-tentar-embarcar-em-viracopos-com-100-capsulas-de-cocaina-ingeridas.ghtml'\n 'https://www.infobae.com/mexico/2025/04/04/cae-mexicana-con-mas-de-10-millones-de-pesos-en-cocaina-queria-cruzar-a-eeuu/'\n 'https://www.elespectador.com/judicial/capturan-en-santa-marta-a-seis-miembros-de-una-red-criminal-que-enviaba-cocaina-a-europa-y-tendria-nexo-con-autodefensas-noticias-hoy/'\n 'https://www.eltiempo.com/justicia/conflicto-y-narcotrafico/armada-destruye-e-n-cauca-siete-laboratorios-usados-para-el-procesamiento-de-pasta-base-de-coca-3442009'\n 'https://www.eltiempo.com/justicia/conflicto-y-narcotrafico/desmantelan-escondite-subterraneo-con-mas-de-530-kilos-de-clorhidrato-de-cocaina-del-clan-del-golfo-en-casanare-3441686'\n 'https://www.eltiempo.com/justicia/conflicto-y-narcotrafico/destruyen-en-narino-y-choco-56-laboratorios-de-cocaina-eran-de-la-segunda-marquetalia-y-del-clan-del-golfo-3440550'\n 'https://www.cgfm.mil.co/es/multimedia/noticias/en-aguas-del-mar-caribe-nuevo-golpe-al-narcotrafico-armada-de-colombia-incauto'\n 'https://www.elpais.cr/2025/04/04/autoridades-venezolanas-incautan-mas-de-6-toneladas-de-cocaina-en-el-estado-de-zulia/'\n 'https://www.cgfm.mil.co/es/multimedia/noticias/armada-de-colombia-propina-golpe-organizaciones-criminales-trasnacionales'\n 'https://www.semana.com/nacion/regionales/articulo/narcopapas-en-el-cauca-ejercito-decomiso-mas-de-400-kilogramos-de-cocaina/202520/'\n 'https://www.swissinfo.ch/spa/ecuador-decomisa-3%2C5-toneladas-de-coca%C3%ADna-en-un-contenedor-que-iba-a-b%C3%A9lgica/89116962'\n 'https://www.swissinfo.ch/spa/ecuador-decomisa-un-poco-m%C3%A1s-de-41-toneladas-de-droga-en-lo-que-va-del-2025/89110816'\n 'https://www.expreso.ec/actualidad/narcotrafico-ecuador-dos-toneladas-cocaina-incautadas-guayaquil-236982.html'\n 'https://diariocorreo.pe/edicion/ica/ica-transportaba-en-bus-hasta-3-kilos-de-cocaina-de-alta-pureza-noticia/?ref=dcr'\n 'https://www.opinion.com.bo/articulo/policial/felcn-detiene-7-personas-afecta-narcotrafico-mas-us-80-mil/20250403000019969617.html'\n 'https://www.eldia.com.bo/2025-03-31/pais/descubren-30-paquetes-de-cocaina-ocultos-en-frazadas-un-intento-de-trafico-hacia-argentina-que-sorprende.html'\n 'https://www.infobae.com/sociedad/policiales/2025/04/04/un-hombre-transportaba-cocaina-oculta-en-un-camion-desde-buenos-aires-a-chile-y-fue-detenido-en-la-frontera/'\n 'https://www.policia.gov.co/noticia/golpe-al-narcotrafico-en-guajira-policia-nacional-incauta-198-paquetes-clorhidrato-cocaina'\n 'https://g1.globo.com/es/espirito-santo/noticia/2025/04/02/policia-apreende-1-tonelada-de-cocaina-em-guarapari-que-seria-levada-para-o-exterior-presa-em-cascos-de-navios.ghtml'\n 'https://g1.globo.com/sp/bauru-marilia/noticia/2025/04/08/policia-encontra-700-kg-de-cocaina-em-condominio-de-ranchos-no-interior-de-sp.ghtml'\n 'https://www.gov.br/prf/pt-br/noticias/estaduais/goias/2025/abril/cocaina-escondida-em-porta-de-carro-e-apreendida-na-br-364-em-jatai'\n 'https://www.diariodepontevedra.es/articulo/narcotrafico/incautan-livorno-2000-kilos-cocaina-que-pasaron-puerto-vigo-ser-detectados/202504091528331385411.html'\n 'https://www.milenio.com/policia/acciones-relevantes-de-gabinete-de-seguridad-8-de-abril'\n 'https://www.barrons.com/news/spanish/arrestan-a-cinco-personas-en-francia-tras-decomiso-en-el-mar-de-630-kg-de-cocaina-proveniente-de-brasil-74ceea84'\n 'https://diarioelregionaldelzulia.com/incautan-otras-15-3-toneladas-de-cocaina-perteneciente-a-red-de-narcoalcaldes/'\n 'https://www.eluniversal.com.co/sucesos/2025/04/07/policia-incauta-42-kilos-de-cocaina-en-el-puerto-que-iban-a-europa/'\n 'https://www.swissinfo.ch/spa/incautan-en-panam%C3%A1-m%C3%A1s-de-3%2C5-toneladas-de-droga-en-contenedor-que-har%C3%ADa-escala-en-b%C3%A9lgica/89128474'\n 'https://www.corrillos.com.co/incautadas-17-toneladas-de-cocaina-en-menos-de-72-horas/'\n 'https://www.swissinfo.ch/spa/honduras-incauta-786-kilos-de-coca%C3%ADna-ocultos-en-un-cami%C3%B3n-y-detiene-a-dos-hondure%C3%B1os/89122478'\n 'https://es.euronews.com/my-europe/2025/04/05/golpe-al-narcotrafico-europeo-en-valencia-incautados-mas-de-1000-kilos-de-cocaina-y-20-det'\n 'https://www.cbsnews.com/news/dogs-help-find-record-haul-cocaine-ship-south-korea-fbi/#:~:text=South%20Korea%20discovered%20and%20seized,largest%20drug%20bust%20to%20date.'\n 'https://www.elheraldo.co/la-guajira/2025/04/12/ejercito-incauto-90-kilos-de-cocaina-en-la-guajira/'\n 'https://g1.globo.com/sp/bauru-marilia/noticia/2025/04/12/homem-e-preso-apos-ingerir-capsulas-de-cocaina-no-interior-de-sp.ghtml'\n 'https://www.gov.br/pf/pt-br/assuntos/noticias/2025/04/pf-prende-duas-passageiras-com-droga-em-capsulas-no-aparelho-digestivo'\n 'https://www.lacapital.com.ar/policiales/incautaron-mas-un-kilo-cocaina-un-procedimiento-totoras-n10189846.html'\n 'https://www.ellitoral.com/sucesos/santa-fe-detenidos-drogas-allanamientos-noreste-ciudad_0_McrEnmtXxh.html'\n 'https://www.ellitoral.com/sucesos/detuvieron-personas-21-kilos-cocaina-tucuman_0_phzW0kMtYe.html'\n 'https://www.argentina.gob.ar/noticias/megaoperativo-en-caba-prefectura-allano-ocho-domicilios-por-una-causa-de-narcotrafico'\n 'https://www.biobiochile.cl/noticias/nacional/region-de-magallanes/2025/04/12/detienen-a-tres-sujetos-extranjeros-por-violacion-de-menores-y-trafico-de-drogas-en-punta-arenas.shtml'\n 'https://www.gov.br/prf/pt-br/noticias/estaduais/mato-grosso-do-sul/2025/abril/prf-apreende-maconha-cocaina-e-recupera-veiculo-na-br-267'\n 'https://g1.globo.com/pa/santarem-regiao/noticia/2025/04/13/operacao-forja-santareno-e-preso-em-vitoria-do-xingu-suspeito-de-envolvimento-com-o-trafico-internacional-de-drogas.ghtml'\n 'https://www.argentina.gob.ar/noticias/salta-desbaratan-una-banda-delictiva-que-usaban-doble-fondos-en-el-acoplado-de-camiones'\n 'https://www.justice.gov/usao-ri/pr/two-kilos-cocaine-seized-providence-man-detained-federal-drug-charge'\n 'https://www.justice.gov/usao-mdfl/pr/el-paso-conspirators-plead-guilty-delivering-20-kilograms-mexican-cocaine-baldwin-park'\n 'https://maoc.eu/630kg-of-cocaine-seized-in-french-led-operation-targeting-maritime-drop-off-method/'\n 'https://trinidadexpress.com/newsextra/police-seize-ammo-cocaine-ganja-and-arrest-two-in-pos-operation/article_13e8ec21-2e48-4a84-b84f-9c8868fda119.html'\n 'https://www.elpais.com.co/judicial/video-cayo-media-tonelada-de-cocaina-en-las-playas-de-santa-marta-a-pesar-de-los-miles-de-turistas-1502.html'\n 'https://g1.globo.com/pe/petrolina-regiao/noticia/2025/04/15/prf-apreende-mais-de-12kg-de-cocaina-escondida-em-painel-de-veiculo-na-br-428-em-petrolina.ghtml'\n 'https://www.gov.br/pf/pt-br/assuntos/noticias/2025/04/pf-prende-em-flagrante-duas-pessoas-pelo-crime-de-trafico-de-drogas-em-tres-lagoas-ms'\n 'https://www.eltribuno.com/policiales/2025-4-17-0-0-0-desde-el-1-abril-secuestraron-mas-de-media-tonelada-de-cocaina-en-salta '\n 'https://www.biobiochile.cl/noticias/nacional/region-de-antofagasta/2025/04/16/caen-bandas-criminales-que-operaban-en-antofagasta-8-detenidos-y-15-toneladas-de-droga-incautadas.shtml'\n 'https://www.cbp.gov/newsroom/local-media-release/cbp-field-ops-intercepts-339-pounds-cocaine-detroit'\n 'https://g1.globo.com/sp/presidente-prudente-regiao/noticia/2025/04/15/bolivianos-sao-presos-com-mais-de-50kg-de-cocaina-na-rodovia-comandante-joao-ribeiro-de-barros-em-pacaembu.ghtml'\n 'https://www.justice.gov/usao-mdfl/pr/jury-convicts-dominican-national-attempting-import-least-five-kilograms-cocaine-united'\n 'https://www.ecuavisa.com/noticias/seguridad/media-tonelada-cocaina-oculta-incautada-daule-guayas-YA9156540'\n 'https://g1.globo.com/sp/presidente-prudente-regiao/noticia/2025/04/16/com-tabletes-de-pasta-base-de-cocaina-em-mochilas-passageiros-de-onibus-interestadual-sao-presos-em-presidente-venceslau.ghtml'\n 'https://www.gov.br/prf/pt-br/noticias/estaduais/mato-grosso/prf-intercepta-caminhao-boiadeiro-com-mais-de-370-kg-de-drogas-e-fuzil-em-caceres-mt'\n 'https://www.gov.br/pf/pt-br/assuntos/noticias/2025/04/pf-prende-seis-passageiros-por-trafico-internacional-de-drogas-no-aeroporto-de-guarulhos'\n 'https://www.argentina.gob.ar/noticias/gendarmeria-incauto-mas-de-cuatro-kilos-de-cocaina-en-jujuy'\n 'https://www.gov.br/prf/pt-br/noticias/estaduais/espirito-santo/2025/abril/prf-apreende-9-kg-de-crack-e-prende-foragido-em-guarapari'\n 'https://noticias.uol.com.br/ultimas-noticias/afp/2025/04/17/frances-e-preso-em-aeroporto-dominicano-com-790-gramas-de-cocaina-no-estomago.htm'\n 'https://g1.globo.com/am/amazonas/noticia/2025/04/17/mais-de-meia-tonelada-de-drogas-escondidas-em-balsas-sao-aprendidas-no-interior-do-amazonas.ghtml'\n 'https://www.telemundoamarillo.com/2025/04/15/18-millones-de-dlares-en-cocana-incautada-durante-una-parada-de-trfico-en-el-condado-oldham/'\n 'https://www.infobae.com/mexico/2025/04/16/golpes-millonarios-al-narco-en-baja-california-y-chihuahua-aseguran-cocaina-y-detienen-a-dos-personas/ '\n 'https://france3-regions.francetvinfo.fr/paris-ile-de-france/val-d-oise/saisie-de-250-kilos-de-cocaine-d-une-valeur-de-10-millions-d-euros-a-roissy-3140207.html'\n 'https://www.seneweb.com/news/Societe/trafic-international-de-cocaine-4-dealer_n_467689.html'\n 'https://www.lavanguardia.com/internacional/20250418/10596595/ee-uu-presiona-acuerdo-rapido-sobre-ucrania-dejara-mediar.html'\n 'https://www.canarias7.es/sucesos/pillado-intentaba-transportar-kilos-droga-barco-gran-20250412095744-nt.html?ref=https%3A%2F%2Fwww.canarias7.es%2Fsucesos%2Fpillado-intentaba-transportar-kilos-droga-barco-gran-20250412095744-nt.html'\n 'https://www.infobae.com/colombia/2025/04/15/capturados-colombianos-que-se-dedicaban-a-vender-cocaina-en-zaragoza-espana/'\n 'https://www.ad.nl/utrecht/utrechter-veroordeeld-tot-zes-jaar-cel-voor-acht-transporten-van-423-kilo-cocaine~ac30390cf/?referrer=https%3A%2F%2Fwww.google.com%2F'\n 'https://amprensa.com/2025/04/escaneres-permiten-evitar-nuevo-trasiego-de-droga-a-europa-en-contenedor-con-fruta/ '\n 'https://maritime-executive.com/article/italian-authorities-seize-two-tons-of-cocaine-in-an-important-operation '\n 'https://www.eltelegrafo.com.ec/noticias/nacionales/44/cocaina-chimborazo-policia'\n 'https://www.sinembargo.mx/4642537/agentes-detienen-en-el-paso-a-una-mujer-que-intentaba-pasar-40-kilos-de-cocaina-a-eu/'\n 'https://www.elheraldo.co/magdalena/2025/04/22/incautan-1400-kilos-de-cocaina-oculta-en-platanos-en-el-puerto-de-santa-marta/'\n 'https://www.milenio.com/estados/marina-incauta-4-2-toneladas-de-cocaina-frente-a-costas-de-guerrero'\n 'https://g1.globo.com/go/goias/noticia/2025/04/22/dois-pilotos-sao-presos-e-aviao-e-apreendido-com-cerca-de-meia-tonelada-de-cocaina-diz-pf.ghtml'\n 'https://www.argentina.gob.ar/noticias/camuflan-20-kilos-de-cocaina-entre-cargamento-de-granos-de-soja'\n 'https://www.argentina.gob.ar/noticias/pareja-viajaba-con-sus-dos-hijos-menores-de-edad-en-un-auto-envainado-con-26-kilos-de'\n 'https://www.elespectador.com/bogota/perros-antinarcoticos-facilitaron-incautacion-de-10-kilos-de-cocaina-en-el-dorado-bogota-noticias-hoy/'\n 'https://www.policia.gov.co/noticia/incautados-776-kilos-cocaina-camuflados-en-dos-vehiculos-en-norte-santander#:~:text=Como%20resultado%20del%20registro%20minucioso,de%20d%C3%B3lares%20en%20el%20exterior.'\n 'https://www.om.nl/actueel/nieuws/2025/04/22/twee-grote-cocainevangsten-633-kilo-onderschept-tussen-ladingen-avocados'\n 'https://g1.globo.com/mg/zona-da-mata/noticia/2025/04/22/prf-apreende-mais-de-100-kg-de-pasta-base-de-cocaina-em-carro-na-br-040-em-juiz-de-fora.ghtml'\n 'https://www.proceso.com.mx/nacional/2025/4/22/autoridades-aduaneras-de-eu-incautan-850-mil-dolares-en-cocaina-en-camioneta-proveniente-de-mexico-349874.html'\n 'https://www.repubblica.it/cronaca/2025/04/19/news/laboratorio_cocaina_casolare_gioia_tauro_droga-424137366/'\n 'https://www.polesine24.it/veneto/2025/04/20/news/colpo-grosso-agli-spacciatori-sequestrata-droga-per-7-milioni-di-euro-341310/'\n 'https://umbria.tag24.it/maxi-sequestro-di-cocaina-a-perugia'\n 'https://www.lexpressiondz.com/societe/9-kg-de-cocaine-saisis-392891'\n 'https://www.lavozdegalicia.es/noticia/vigo/2025/04/22/descubren-150-kilos-cocaina-ocultos-casco-portacontenedores-atracado-vigo-tras-aviso-dea/0003_202504202504221745312269386.htm'\n 'https://proceso.hn/aseguran-plantacion-con-40-mil-arbustos-de-coca-y-dos-narcolaboratorios-en-olancho/'\n 'https://www.argentina.gob.ar/noticias/salta-simulaba-realizar-una-mudanza-para-llevar-mas-de-10-kilos-de-cocaina-dentro-de-dos'\n 'https://www.argentina.gob.ar/noticias/prefectura-incauto-mas-de-115-kilos-de-marihuana-y-un-kilo-de-cocaina-en-misiones-y-formosa'\n 'https://www.biobiochile.cl/noticias/nacional/region-de-valparaiso/2025/04/23/desbaratan-clan-familiar-que-usaba-como-fachada-un-club-deportivo-para-traficar-droga-en-quilpue.shtml'\n 'https://www.eltribuno.com/policiales/2025-4-24-7-42-0-violencia-intrafamiliar-y-droga-descubren-mas-de-5-kilos-de-cocaina-en-un-auto-abandonado-en-oran'\n 'https://www.biobiochile.cl/noticias/nacional/region-metropolitana/2025/04/24/decomisan-6-500-millones-en-cocaina-que-seria-vendida-en-la-rm.shtml'\n 'https://www.panamaamerica.com.pa/sucesos/decomisan-1152-paquetes-de-droga-procedente-de-el-salvador-y-con-destino-belgica-1248363'\n 'https://la1ere.francetvinfo.fr/guadeloupe/saisie-exceptionnelle-de-522-kg-de-cocaine-a-l-aeroport-de-guadeloupe-1580894.html'\n 'https://www.swissinfo.ch/eng/life-aging/swiss-police-arrest-two-men-crossing-border-with-30-kilos-of-cocaine/89202741'\n 'https://guineenews.org/2025/04/25/aeroport-de-conakry-saisie-de-62kg-de-cocaine-sur-un-franco-leonais/'\n 'https://actu.fr/bretagne/quimper_29232/cannabis-cocaine-vaste-operation-anti-drogues-de-la-gendarmerie-dans-la-region-de-quimper_62561181.html'\n 'https://www.telemundo20.com/noticias/local/la-guardia-costera-incauta-cocaina-por-valor-de-214-millones-en-seis-operativos/2454148/'\n 'https://www.msn.com/fr-be/actualite/other/barcelone-11-kilos-de-coca%C3%AFne-cach%C3%A9s-dans-un-fauteuil-roulant/vi-AA1DAWXV#details'\n 'https://lapresse.tn/2025/04/26/30-kg-de-cocaine-dune-valeur-de-plus-dun-milliard-de-francs-cfa-saisis-a-laeroport-de-douala-au-cameroun/'\n 'https://www.telegraaf.nl/nieuws/1656327872/grote-partij-cocaine-op-het-laatste-moment-onderschept-in-haven-ghana-was-bestemd-voor-nederland'\n 'https://eldia.com.do/red-de-narcotrafico-dirigida-por-serbio-traficaba-cocaina-a-ee-uu-y-europa-desde-colombia-a-traves-de-rd-y-puerto-rico/'\n 'https://www.levante-emv.com/sucesos/2025/04/28/cocaina-en-valencia-cargamento-toneladas-zeolita-puerto-valencia-30-kilos-cocaina-116814171.html'\n 'https://www.rainews.it/tgr/campania/articoli/2025/04/droga-3-arresti-e-sequestrati-72-kg-di-cocaina-nel-napoletano-90f23754-963b-4f81-a0a6-29f943d67864.html'\n 'https://www.leggocassino.it/2025/04/29/maxi-blitz-sulle-corsie-della1-sequestrati-10-kg-di-cocaina-un-arresto'\n 'https://www.argentina.gob.ar/noticias/la-aduana-desbarato-el-trafico-de-59-kilos-de-cocaina-ocultos-en-camiones-de-carga'\n 'https://www.cbp.gov/newsroom/local-media-release/third-bulk-cocaine-load-intercepted-near-ambassador-bridge'\n 'https://www.policiajudiciaria.pt/tres-detidos-no-aeroporto-de-lisboa-por-trafico-de-cocaina-3/'\n 'https://www.elespectador.com/colombia/mas-regiones/capturaron-a-conductor-con-dos-toneladas-de-cocaina-en-carro-con-logo-de-la-armada/'\n 'https://www.prensa.com/judiciales/en-aguas-de-guna-yala-decomisan-311-paquetes-con-droga-hay-tres-personas-aprehendidas/#google_vignette'\n 'https://www.policia.gov.co/noticia/incautacion-1938-kilogramos-clorhidrato-cocaina-en-buenaventura'\n 'https://www.panamaamerica.com.pa/provincias/incautan-cargamento-con-mas-de-mil-paquetes-de-sustancias-ilicitas-en-un-puerto-de-colon'\n 'https://www.perfil.com/noticias/policia/el-secuestro-de-los-500-kilos-de-cocaina-los-19-filipinos-la-pista-del-pcc-y-el-narco-mas-buscado.phtml'\n 'https://www.diariolibre.com/actualidad/nacional/2025/05/04/la-dncd-incauta-cocaina-que-iba-a-australia/3098670'\n 'https://www.abc.com.py/policiales/2025/05/05/alerta-en-el-aeropuerto-detienen-a-un-hombre-con-cocaina-atada-al-cuerpo/'\n 'https://www.ultimahora.com/caen-dos-personas-con-mas-de-10-kilos-de-cocaina-en-lambare'\n 'https://www.lanacion.com.py/pais/2025/05/05/capturan-a-un-boliviano-que-transportaba-cocaina-en-un-camion-cisterna/'\n 'https://www.telegraaf.nl/nieuws/105711765/bijna-halve-ton-cocaine-ontdekt-in-koelkasten-bemanning-schip-was-onderweg-naar-nederland'\n 'https://www.crhoy.com/nacionales/decomisan-mas-de-una-tonelada-de-cocaina-oculta-dentro-de-contenedor-que-iba-hacia-finlandia/'\n 'https://www.policia.gov.co/noticia/afectacion-las-finanzas-los-comandos-frontera'\n 'https://www.prensa.com/judiciales/decomisan-400-paquetes-con-droga-en-guna-yala-los-bultos-fueron-dejados-en-el-mar/'\n 'https://lahora.gt/internacionales/hbeteta/2025/05/06/bukele-informa-sobre-la-incautacion-de-1-tonelada-de-cocaina-y-la-captura-de-cuatro-costarricenses/'\n 'https://www.ecuavisa.com/noticias/seguridad/tonelada-cocaina-mar-galapagos-tres-detenidos-FM9295153'\n 'https://www.cronica.com.mx/mundo/2025/05/05/en-espana-dron-submarino-encuentra-carga-de-droga-originaria-de-brasil/'\n 'https://www.huelvainformacion.es/huelva/tres-detenidos-introducir-media-tonelada-cocaina-europa-costas-huelva_0_2003870843.html'\n 'https://www.france24.com/en/live-news/20250505-fruit-company-staff-find-cocaine-in-norway-banana-boxes'\n 'https://www.bangkokpost.com/thailand/general/3019831/brazilian-couple-caught-arriving-with-7kg-of-cocaine'\n 'https://www.firenzetoday.it/cronaca/cocaina-capannori-lucca.html'\n 'https://fr.apanews.net/news/mali-saisie-de-cocaine-dune-valeur-de-240-millions-fcfa-a-laeroport-de-bamako/'\n 'https://www.inprimanews.it/fatti/angri-5-milioni-di-euro-in-cocaina-il-sequestro-57779.html'\n 'https://fr.hespress.com/423034-saisie-record-de-cocaine-a-tanger-med-514-kg-dissimules-dans-une-cargaison-en-provenance-du-panama.html#google_vignette'\n 'https://la1ere.francetvinfo.fr/guadeloupe/160-kg-de-cocaine-en-provenance-de-guadeloupe-saisis-a-vitry-sur-seine-cinq-suspects-interpelles-1583126.html'\n 'https://www.ilpiccolo.it/balcani/cocaina-sequestrata-fiume-controlli-sudamerica-croazia-dbrmbqzg'\n 'https://www.pugliapress.org/2025/05/06/sequestro-cocaina-taranto/'\n 'https://primapavia.it/cronaca/maxi-sequestro-di-cocaina-arrestato-imprenditore-trovato-con-24-chili-di-droga/'\n 'https://www.eltiempo.com/justicia/conflicto-y-narcotrafico/cae-mas-de-una-tonelada-de-cocaina-camuflada-en-condimentos-que-iban-hacia-europa-3451464'\n 'https://hoy.com.do/apresan-cinco-dominicanos-con-coca-iban-puerto-rico/'\n 'https://www.nacion.com/sucesos/camiones-transportaban-mas-de-2500-paquetes-de/4BQPKSKUO5HJ5LZS5NXFDGS5HY/story/'\n 'https://www.prensa.com/judiciales/una-tonelada-de-droga-decomisada-y-ocho-detenidos-en-dos-operativos-del-senan/#google_vignette'\n 'https://www.armada.mil.co/es/node/65707'\n 'https://www.critica.com.pa/sucesos/interceptan-narcolancha-con-43-paquetes-en-aguas-panamenas-491404'\n 'https://www.cadena3.com/noticia/viva-la-radio/la-policia-caminera-secuestro-9-ladrillos-de-cocaina-valuados-en-500-mil-usd_421234'\n 'https://www.20minutes.fr/faits_divers/4152670-20250509-landes-plus-130-kg-cocaine-saisis-camping-car-fausse-famille'\n 'https://www.europapress.es/galicia/noticia-detenidos-vinculados-120-kilos-cocaina-marin-usaban-propulsores-subacuaticos-recuperar-droga-20250509125022.html'\n 'https://www.gaeta.it/uomo-arrestato-a-napoli-con-33-grammi-di-cocaina-e-oltre-11-mila-euro-in-contanti-in-casa '\n 'https://www.panamaamerica.com.pa/provincias/decomisan-unos-647-paquetes-de-presunta-droga-al-sur-de-punta-coco-1248886'\n 'https://www.elheraldo.co/colombia/2025/05/11/incautaron-mas-de-25-toneladas-de-marihuana-y-346-kilos-de-cocaina-en-casanare/     https://www.eltiempo.com/justicia/conflicto-y-narcotrafico/una-tortuga-y-los-curiosos-codigos-qr-con-los-que-fue-marcado-un-gran-cargamento-de-marihuana-y-cocaina-3452958'\n 'https://www.elheraldo.co/la-guajira/2025/05/12/desmantelan-centro-de-acopio-e-incautan-403-kilos-de-coca-en-maicao/'\n 'https://www.lanacion.com.py/pais/2025/05/13/detectan-droga-camuflada-en-articulos-deportivos-con-destino-a-arabia-saudita/'\n 'https://www.worldcargonews.com/shipping-logistics/2025/05/another-major-cocaine-seizure-at-south-korean-ports/?gdpr=deny'\n 'https://wgntv.com/news/1m-in-cocaine-seized-at-texas-border-crossing/'\n 'https://abcnews.go.com/International/ton-cocaine-worth-half-billion-dollars-seized-off/story?id=121739429'\n 'https://www.noticiasdenavarra.com/sucesos/2025/05/15/cae-red-nacional-suministro-cocaina-navarra-9636609.html'\n 'https://elmundo.com.bo/incautan-402-kilogramos-de-cocaina-y-hay-dos-aprehendidos/'\n 'https://nuevosureste.es/operacion-policia-arma-cocaina-el-canaveral/'\n 'https://qhubobucaramanga.com/judicial/237189-incautan-mas-de-3-800-dosis-de-droga-en-operativo-en-chimita-bucaramanga'\n 'https://www.lanacion.com.co/autoridades-incautaron-33-kilos-de-cocaina-en-pitalito/'\n 'https://rci.fm/deuxiles/infos/Faits-divers/De-retour-des-Antilles-une-femme-arretee-avec-pres-de-40-kg-de-cocaine-dans'\n 'https://www.lavanguardia.com/local/madrid/20250514/10680993/cae-banda-narcotraficantes-madrid-5-detenidos-66-kilos-cocaina-incautada.html'\n 'https://www.eltribuno.com/salta/2025-5-16-0-0-0-narcotrafico-las-toneladas-de-hojas-de-coca-incautada-despiertan-alarmas'\n 'https://www.elonce.com/policiales/desarticularon-un-punto-de-venta-de-cocaina-en-un-barrio-de-concordia.htm'\n 'https://www.thecomet.net/news/25171042.hertfordshire-pilot-admits-smuggling-cocaine-uk/'\n 'https://www.msn.com/fr-fr/actualite/france/la-bac-de-nice-rep%C3%A8re-une-voiture-suspecte-elle-transportait-18-kg-de-coca%C3%AFne/ar-AA1DQMBf?apiversion=v2&noservercache=1&domshim=1&renderwebcomponents=1&wcseo=1&batchservertelemetry=1&noservertelemetry=1'\n 'https://www.20minutes.fr/faits_divers/4153780-20250515-paris-435-kilos-cocaine-retrouves-cave-plusieurs-suspects-interpelles'\n 'https://www.infobae.com/mexico/2025/05/16/frenan-millonario-cargamento-de-cocaina-en-la-frontera-de-tamaulipas/'\n 'https://www.gov.br/prf/pt-br/noticias/estaduais/mato-grosso-do-sul/2025/maio/prf-apreende-235-kg-de-cocaina-em-dourados-ms'\n 'https://www.gov.br/prf/pt-br/noticias/estaduais/mato-grosso-do-sul/2025/maio/prf-apreende-80-kg-de-cocaina-em-nova-andradina-ms'\n 'https://www.gov.br/prf/pt-br/noticias/estaduais/mato-grosso-do-sul/2025/maio/prf-apreende-8-kg-de-cocaina-em-anastacio-ms'\n 'https://www.gov.br/prf/pt-br/noticias/estaduais/mato-grosso-do-sul/2025/maio/prf-apreende-19-kg-de-cocaina-em-corumba-ms'\n 'https://g1.globo.com/sp/sao-carlos-regiao/noticia/2025/05/19/grande-quantidade-de-cocaina-e-apreendida-na-rodovia-washington-luis-em-sp-homem-e-preso.ghtml'\n 'https://www.gov.br/pf/pt-br/assuntos/noticias/2025/05/pf-prende-homem-com-63kg-de-drogas-no-interior-do-amazonas'\n 'https://elnacional.com.do/camuflan-334-kilos-cocaina-en-auyamas-plasticas/\\n\\nhttps://elnuevodiario.com.do/cargamento-en-auyamas-plasticas-tuvo-un-peso-total-de-624-kg-de-cocaina/'\n 'https://tiempo.hn/descubren-plantacion-coca-en-reserva-patuca/?amp'\n 'https://g1.globo.com/sp/campinas-regiao/noticia/2025/05/20/homem-e-preso-em-flagrante-com-241-kg-de-cocaina-dentro-de-carro-em-rodovia-de-mogi-mirim.ghtml'\n 'https://g1.globo.com/rj/sul-do-rio-costa-verde/noticia/2025/05/20/apreensao-drogas-paraty.ghtml'\n 'https://www.eluniverso.com/noticias/seguridad/decomiso-de-droga-en-manabi-nota/'\n 'https://www.armada.mil.co/es/node/65736'\n 'https://www.eltiempo.com/justicia/conflicto-y-narcotrafico/destruyen-en-narino-un-megalaboratorio-ubicado-en-un-enclave-del-corredor-hacia-ecuador-3455204'\n 'https://www.pagina12.com.ar/829314-prision-preventiva-para-tres-detenidos-con-425-kilos-de-coca'\n 'https://www.cbp.gov/newsroom/local-media-release/amo-interdicts-vessel-smuggling-335-pounds-cocaine-near-luquillo'\n 'https://www.argentina.gob.ar/noticias/tucuman-detienen-cuatro-personas-con-258-kilos-de-cocaina-ocultos-en-dos-camionetas'\n 'https://www.gov.br/receitafederal/pt-br/assuntos/noticias/2025/maio/receita-federal-apreende-63-kg-de-cocaina-no-porto-de-salvador'\n 'https://g1.globo.com/sp/itapetininga-regiao/noticia/2025/05/20/homem-e-preso-suspeito-de-trafico-internacional-de-drogas-ao-transportar-120-tabletes-de-cocaina-no-interior-de-sp.ghtml'\n 'https://www.gov.br/pf/pt-br/assuntos/noticias/2025/05/pf-prende-duas-mulheres-com-capsulas-contendo-cocaina-no-estomago-e-captura-homem-com-mandado-de-prisao-em-aberto'\n 'https://www.eluniverso.com/noticias/seguridad/droga-incautada-frente-a-las-costas-de-ecuador-nota/'\n 'https://www.argentina.gob.ar/noticias/pna-freno-un-narcocargamento-millonario-en-el-parana'\n 'https://www.biobiochile.cl/noticias/nacional/region-de-aysen/2025/05/21/desbaratan-laboratorio-de-droga-en-ruta-que-une-aysen-y-coyhaique-se-incauto-cocaina-y-marihuana.shtml'\n 'https://www.biobiochile.cl/noticias/nacional/region-de-antofagasta/2025/05/21/descubren-160-kilos-de-cocaina-en-cabina-de-camion-en-quillagua-conductor-intento-darse-a-la-fuga.shtml'\n 'https://www.gov.br/prf/pt-br/noticias/estaduais/mato-grosso-do-sul/2025/maio/em-acao-conjunta-prf-e-gaeco-apreendem-100-kg-de-cocaina-em-campo-grande-ms'\n 'https://www.francebleu.fr/infos/faits-divers-justice/rhone-la-brigade-des-douanes-de-bourg-en-bresse-saisissent-plus-de-67-kilos-de-cocaine-dans-un-camping-car-7383657'\n 'https://www.midilibre.fr/2025/05/22/58-kg-de-cocaine-sur-un-navire-dans-le-port-de-sete-on-en-sait-plus-sur-la-cache-de-la-drogue-dans-la-coque-du-vraquier-12714222.php'\n 'https://www.ennaharonline.com/fr/laghouat-saisie-de-pres-de-46-kilogrammes-de-cocaine/'\n 'https://www.infobae.com/estados-unidos/2025/05/20/cbp-asegura-mas-de-30-kilos-de-cocaina-proveniente-de-mexico-valuada-en-un-millon-de-dolares/'\n 'https://guineenews.org/2025/05/19/aeroport-international-sekou-toure-saisie-de-plus-de-7-kg-de-cocaine-sur-une-passagere-senegalaise/'\n 'https://www.freshplaza.com/europe/article/9733351/50-kg-cocaine-seized-in-st-petersburg-bananas/'\n 'https://www.freepressonline.it/2025/05/19/catania-arrestato-con-2-kg-di-cocaina-sequestrata-droga/'\n 'https://ilcaffe.tv/articolo/241593/anzio-mamma-e-figlio-trasportavano-in-auto-caffe-peperoncino-e-15-kg-di-cocaina-arrestati-entrambi'\n 'https://www.elliberal.com.ar/nota/47930/2025/05/tucuman-en-el-ojo-de-la-tormenta--record-historico-de-cocaina-incautada-en-cinco-meses'\n 'https://www.fanpage.it/napoli/da-napoli-a-cagliari-con-1kg-di-cocaina-nel-bagnoschiuma-scoperto-dai-cani-antidroga/'\n 'https://www.infobae.com/mexico/2025/05/23/detienen-en-el-aifa-a-hombre-extranjero-que-llevaba-un-millon-de-pesos-en-cocaina/'\n 'https://vanguardia.com.mx/noticias/mexico/semar-asegura-128-toneladas-de-cocaina-frente-a-las-costas-de-michoacan-JG16011954'\n 'https://www.swissinfo.ch/spa/ecuador-incauta-322-kilos-de-coca%C3%ADna-y-equipos-de-buceo-utilizados-para-contaminar-buques/89337834#:~:text=%2D%20La%20Polic%C3%ADa%20de%20Ecuador%20incaut%C3%B3,s%C3%A1bado%20el%20Ministerio%20del%20Interior.'\n 'https://www.eltiempo.com/justicia/conflicto-y-narcotrafico/incautan-mas-de-tres-toneladas-de-cocaina-en-narino-estaba-en-una-caleta-subterranea-3456792'\n 'https://www.swissinfo.ch/spa/incautan-en-rusia-15-kilogramos-de-coca%C3%ADna-oculta-entre-rosas-ecuatorianas/89401881#:~:text=%2D%20Agentes%20de%20seguridad%20rusos%20se,)%20en%20el%20mercado%20negro%C2%BB.'\n 'https://elperiodico.com.bo/desmantelan-un-laboratorio-de-drogas-e-incautan-190-kilos-de-cocaina-en-el-tropico-de-cochabamba/'\n 'https://www.abc.com.py/nacionales/2025/05/23/de-paraguay-a-asia-interceptan-tapices-de-tela-impregnados-con-cocaina/'\n 'https://www.informador.mx/mexico/Michoacan-Marina-asegura-1.28-toneladas-de-cocaina-20250523-0166.html'\n 'https://cambiocolombia.com/conflicto-armado-en-colombia/interceptan-semisumergible-con-tres-toneladas-de-cocaina-en-tumaco'\n 'https://www.infobae.com/mexico/2025/05/26/detienen-a-chofer-que-llevaba-mas-de-250-kilos-de-cocaina-escondidos-en-un-tractocamion-en-oaxaca/'\n 'https://www.elheraldo.co/magdalena/2025/05/25/incautan-415-kilos-de-cocaina-al-clan-del-golfo-que-iban-rumbo-a-estados-unidos-y-europa/'\n 'https://www.rcnradio.com/colombia/sur/fuerzas-militares-desmantelan-laboratorio-de-cocaina-de-las-disidencias-de-las-farc-en-narino?amp'\n 'https://france3-regions.franceinfo.fr/grand-est/moselle/metz/trafic-de-drogue-61-kg-de-cocaine-saisis-un-reseau-local-demantele-en-moselle-3159756.html'\n 'https://www.theguardian.com/world/2025/may/26/australian-accused-smuggling-cocaine-bali-death-penalty-life-jail-ntwnfb'\n 'https://news.radioalgerie.dz/fr/node/65297'\n 'proceso.hn/autoridades-de-costa-rica-decomisan-950-kilos-de-cocaina-en-una-embarcacion-pesquera/'\n 'https://www.om.nl/actueel/nieuws/2025/05/27/ruim-200-kilo-cocaine-onderschept-in-rotterdamse-haven'\n 'https://www.eltribuno.com/policiales/2025-5-27-14-4-0-incautan-mas-de-18-kilos-de-pasta-base-en-pocitos-un-camionero-detenido'\n 'https://www.informacion.es/sucesos/sucesos-en-alicante/2025/05/27/vigilancia-aduanera-incauta-170-kilos-117865116.html'\n 'https://www.europol.europa.eu/media-press/newsroom/news/busted-14-cocaine-traffickers-arrested-in-joint-operation-in-belgium-and-italy'\n 'https://www.elcorreo.com/bizkaia/hallan-kilos-cocaina-adosados-casco-barco-puerto-20250527224433-nt.html'\n 'https://www.elespectador.com/bogota/encuentran-28-kilos-de-cocaina-en-maleta-abandonada-en-el-aeropuerto-el-dorado/'\n 'https://www.riogrande.com.co/2025/05/28/ejercito-nacional-halla-280-kilogramos-de-clorhidrato-de-cocaina-en-cucuta/'\n 'https://www.eldiario.ec/centro/operativo-en-tulcan-permite-el-decomiso-de-301-kilos-de-cocaina-ocultos-en-la-cabina-de-un-trailer-20250527/'\n 'https://www.soychile.cl/iquique/policial/2025/05/27/907389/incautacion-droga-detenidos-tarapaca.html'\n 'https://www.noticiasrcn.com/colombia/desmantelan-red-que-enviaba-cocaina-a-chile-mediante-correos-humanos-895490'\n 'https://www.bresciatoday.it/cronaca/cocaina-brescia-sequestro-record.html'\n 'https://vanguardia.com.mx/noticias/mexico/detienen-a-presunto-integrante-del-cartel-del-pacifico-con-mas-de-2-millones-de-dosis-de-cocaina-en-sonora-OD16046998'\n 'https://elnuevodiario.com.do/incautan-mas-de-500-kilos-de-cocaina-en-el-caribe-colombiano-y-detienen-a-dos-dominicanos/'\n 'https://www.eleconomista.com.mx/politica/marina-anuncia-nuevo-golpe-narco-mar-aseguran-1-5-toneladas-cocaina-jalisco-20250529-761308.html'\n 'https://www.eltiempo.com/justicia/conflicto-y-narcotrafico/las-conexiones-de-la-incautacion-de-mas-de-tonelada-de-cocaina-en-peru-con-los-grupos-armados-en-colombia-3458598'\n 'https://www.cbsnews.com/miami/news/coast-guard-offloads-211-million-in-cocaine-at-port-everglades/'\n 'https://www.argentina.gob.ar/noticias/tucuman-un-ciudadano-relleno-dos-matafuegos-con-12-kilos-de-cocaina-y-quedo-detenido'\n 'https://www.sspds.ce.gov.br/2025/05/30/homem-em-posse-de-6-kg-de-cocaina-e-preso-durante-acao-conjunta-em-iguatu/'\n 'https://www.gov.br/prf/pt-br/noticias/estaduais/espirito-santo/2025/maio/prf-apreende-mais-de-27-kg-de-cocaina-em-serra'\n 'https://www.argentina.gob.ar/noticias/tucuman-incautan-mas-de-siete-kilos-de-estupefaciente-200-kilos-de-hojas-de-coca-y-1000'\n 'https://www.biobiochile.cl/noticias/nacional/region-metropolitana/2025/05/31/cae-clan-familiar-que-vendia-droga-cerca-de-colegios-en-el-bosque-usaban-local-comercial-como-fachada.shtml'\n 'https://www.cnnchile.com/pais/operacion-la-farfana-2-0-termino-con-tres-detenidos-incautacion-de-armas-y-de-cocaina_20250531/'\n 'https://www.elobservador.com.uy/nacional/la-policia-incauto-tres-ladrillos-cocaina-san-jose-hay-un-joven-18-anos-condenado-n6002072'\n 'https://www.ecuavisa.com/noticias/seguridad/panama-decomisa-siete-mil-paquetes-droga-ecuador-MN9429079'\n 'https://www.prensa.com/judiciales/decomisan-400-paquetes-con-droga-en-tierras-altas-chiriqui/'\n 'https://www.argentina.gob.ar/noticias/la-aduana-descurbrio-mas-de-20-kg-de-cocaina-durante-controles-en-la-frontera-de-bolivia'\n 'https://noticias.uol.com.br/cotidiano/ultimas-noticias/2025/06/02/pm-am-drogas-estado.htm'\n 'https://www.eltiempo.com/justicia/conflicto-y-narcotrafico/daga-la-heroina-de-cuatro-patas-que-detecto-casi-media-tonelada-de-cocaina-en-narino-3459247'\n 'https://www.euronews.com/2025/05/29/police-in-indonesia-arrest-australian-man-for-allegedly-smuggling-cocaine-into-bali'\n 'https://fm105.com.mx/ee-uu-incauta-mas-de-12-toneladas-de-cocaina-en-el-pacifico-oriental-valor-supera-los-211-millones-de-dolares/'\n 'https://www.sudouest.fr/faits-divers/nouvelle-caledonie-un-reseau-de-trafic-de-cocaine-d-une-ampleur-inedite-a-ete-demantele-24660108.php'\n 'https://www.lefigaro.fr/nice/narcotrafic-a-nice-50-kilos-de-cocaine-saisis-dans-un-appartement-en-plein-centre-ville-20250602'\n 'https://canalantigua.tv/2025/06/02/espana-incauta-1190-kilos-de-cocaina-procedentes-de-guatemala/'\n 'https://eldoce.tv/actualidad/2025/06/02/bomba-de-tiempo-tenia-90-capsulas-de-cocaina-en-el-estomago-que-queria-traficar-a-europa/'\n 'https://www.elesquiu.com/policiales/2025/6/2/viajaban-con-una-bebe-mas-de-kilos-de-cocaina-556112.html'\n 'https://www.aulnaylibre.com/2025/06/saisie-de-623-kg-de-resine-de-cannabis-un-kilo-de-cocaine-et-de-48-000-euros-en-liquide-dans-un-appartement-a-rosny-sous-bois.html'\n 'https://www.barrons.com/news/spanish/panama-decomisa-mas-de-8-000-paquetes-de-droga-con-destino-a-europa-b710992a'\n 'https://zonacero.com/judiciales/policia-incauto-720-kilos-de-cocaina-en-cartagena-los-iban-enviar-belgica'\n 'https://www.diariomendoza.com.ar/policiales/casi-59-kilos-cocaina-fueron-hallados-baul-auto-tucuman-n103231'\n 'https://www.cibercuba.com/noticias/2025-06-01-u1-e208574-s27061-nid304079-guardia-costera-incauta-1365-millones-cocaina-mar'\n 'https://www.rainews.it/tgr/lazio/articoli/2025/06/maxi-sequestro-di-hashish-e-cocaina-arrestati-due-uomini-di-anagni-8a574848-10c9-4650-abdd-587f09915246.html'\n 'https://www.dailynews.lk/2025/05/31/lawnorder/788459/thai-woman-held-with-over-10-kg-cocaine-in-stuffed-toys/?utm_source=chatgpt.com'\n 'https://www.corrieretneo.it/2025/06/01/catania-in-auto-con-3-kg-di-cocaina-occultati-35enne-arrestato-in-flagranza-video/'\n 'https://www.risoluto.it/edizioni-locali/hinterland/cocaina-sequestrata-porto-empedocle-i-dettagli/'\n 'https://www.francebleu.fr/infos/faits-divers-justice/alsace-187-kilos-de-cocaine-saisis-et-dix-de-personnes-interpellees-apres-plusieurs-mois-d-enquete-5145463'\n 'https://www.lefigaro.fr/marseille/marseille-7-kilos-de-cocaine-saisis-dans-un-appartement-des-quartiers-nord-20250604'\n 'https://noticias.uol.com.br/ultimas-noticias/afp/2025/05/29/marinha-apreende-15-tonelada-de-cocaina-na-costa-do-pacifico-mexicano.htm'\n 'https://g1.globo.com/ap/amapa/noticia/2025/06/04/policias-civil-e-federal-realizam-a-maior-apreensao-de-drogas-do-amapa.ghtml'\n 'https://www.gov.br/pf/pt-br/assuntos/noticias/2025/06/pf-prende-homem-em-flagrante-por-trafico-de-drogas-na-regiao-dos-lagos'\n 'https://www.gov.br/prf/pt-br/noticias/estaduais/parana/2025/junho/prf-apreende-mais-de-90-quilos-de-cocaina-em-presidente-castelo-branco-pr'\n 'https://www.gov.br/prf/pt-br/noticias/estaduais/mato-grosso-do-sul/2025/junho/prf-apreende-cocaina-e-skunk-em-miranda-ms'\n 'https://www.gov.br/prf/pt-br/noticias/estaduais/para/2025/junho/prf-apreende-quase-meia-tonelada-de-cocaina-em-caminhao-carregado-com-abacaxi-em-pau-d2019arco-pa'\n 'https://g1.globo.com/sp/sao-jose-do-rio-preto-aracatuba/noticia/2025/06/05/policia-rodoviaria-apreende-mais-de-400-quilos-de-cocaina-escondidos-em-fundo-falso-de-carreta-em-rio-preto.ghtml '\n 'https://proceso.hn/hallan-7-mil-y-cocaina-en-vehiculo-decomisado-en-yoro/'\n 'https://www.eltribuno.com/policiales/2025-6-6-0-0-0-dos-gendarmes-imputados-por-transporte-de-161-kilos-de-cocaina'\n 'https://www.eltelegrafo.com.ec/noticias/seguridad/44/bloque-seguridad-decomisa-droga-galapagos'\n 'https://g1.globo.com/sp/santos-regiao/noticia/2025/06/03/policia-civil-apreende-mais-de-100-kg-de-cocaina-em-galpao-e-desarticula-rota-de-trafico-entre-capital-e-o-litoral-de-sp-video.ghtml'\n 'https://g1.globo.com/pa/para/noticia/2025/05/24/trio-de-sao-paulo-e-flagrado-com-200-kg-de-cocaina-em-propriedade-rural-no-para.ghtml'\n ' https://g1.globo.com/mg/vales-mg/noticia/2025/05/24/mais-de-mil-pinos-de-cocaina-e-oito-barras-de-maconha-sao-apreendidos-pela-policia-militar-em-sabinopolis-casal-foi-preso.ghtml '\n 'https://g1.globo.com/sp/presidente-prudente-regiao/noticia/2025/05/24/apos-perseguicao-policial-pela-avenida-salim-farah-maluf-jovem-e-preso-com-porcoes-de-cocaina-em-presidente-prudente.ghtml'\n 'https://www.eluniversal.com.mx/nacion/aseguran-45-paquetes-con-cocaina-en-playa-del-carmen-quintana-roo-estaban-sellados-con-la-leyenda-cr7/'\n 'https://www.cbp.gov/newsroom/local-media-release/cbp-officers-seize-989k-cocaine-hidalgo-international-bridge '\n 'https://www.cbp.gov/newsroom/local-media-release/cbp-officers-seize-956k-cocaine-rio-grande-city-port-entry'\n 'https://www.ecuavisa.com/noticias/seguridad/santa-elena-detenidos-droga-lancha-altamar-EC9361503'\n 'https://www.ecuavisa.com/noticias/seguridad/cocaina-cascos-buques-esmeraldas-buzos-AB9355222'\n 'https://efe.com/castilla-y-leon/2025-05-24/cae-la-mayor-red-de-narcotrafico-y-blanqueo-de-valladolid19-detenidos-y-59-kilos-de-droga/'\n 'https://g1.globo.com/ba/feira-de-santana-regiao/noticia/2025/06/03/pessoas-sao-presas-em-flagrante-com-drogas-e-fuzil.ghtml'\n 'https://www.argentina.gob.ar/noticias/salta-gendarmes-inspeccionaban-una-camioneta-y-descubrieron-una-estructura-de-metal-dentro'\n 'https://www.panamaamerica.com.pa/provincias/incautan-mas-de-7-mil-paquetes-de-drogas-en-una-terminal-portuaria-de-colon-1249637'\n 'https://www.elpais.com.co/judicial/en-tumaco-narino-autoridades-encontraron-enterrados-3260-kilogramos-de-cocaina-los-cuales-estaban-listos-para-ser-enviados-a-eeuu-2914.html'\n 'https://www.eltiempo.com/justicia/conflicto-y-narcotrafico/policia-incauto-una-tonelada-de-cocaina-camuflada-dentro-de-un-tractocamion-en-las-vias-del-quindio-3458742'\n 'https://www.gov.br/pf/pt-br/assuntos/noticias/2025/05/pf-e-pc-apreendem-110kg-de-drogas-no-amazonas'\n 'https://www.gov.br/prf/pt-br/noticias/estaduais/espirito-santo/2025/maio/prf-apreende-cocaina-escondida-em-painel-de-veiculo-na-br-101-em-serra-es'\n 'https://www.gov.br/prf/pt-br/noticias/estaduais/mato-grosso-do-sul/2025/maio/em-miranda-ms-prf-realiza-a-maior-apreensao-de-cocaina-do-ano'\n 'https://g1.globo.com/pb/paraiba/noticia/2025/05/28/homem-e-preso-com-mais-de-20-kg-de-cocaina-dentro-de-carro-em-campina-grande.ghtml'\n 'https://www.gov.br/pf/pt-br/assuntos/noticias/2025/05/pf-gefron-pm-mt-pm-ro-South%20AmericaBrazilAmazonas-am-e-cod-go-apreendem-300-kg-de-cocaina-no-amazonas'\n 'https://www.gov.br/prf/pt-br/noticias/estaduais/mato-grosso-do-sul/2025/maio/prf-apreende-149-kg-de-cocaina-em-terenos-ms'\n 'https://g1.globo.com/df/distrito-federal/noticia/2025/05/28/mulher-com-bebe-de-8-meses-e-presa-transportando-10-kg-de-drogas-no-aeroporto-de-brasilia.ghtml'\n 'https://www.gov.br/prf/pt-br/noticias/estaduais/mato-grosso-do-sul/2025/maio/prf-apreende-20-kg-de-cocaina-e-skunk-em-miranda-ms'\n 'https://www.argentina.gob.ar/noticias/jujuy-descubren-172-kilos-de-hojas-de-coca-dentro-de-dos-autos-que-eran-trasportados-en-un'\n 'https://www.argentina.gob.ar/noticias/chubut-detienen-pasajero-de-un-omnibus-que-ocultaba-2-kilos-de-cocaina-entre-sus']"
        ],
        [
         "Sub MO",
         "30",
         "['Liquid cocaine' '' 'Production laboratory' 'Narcosub' 'Train' 'Boat'\n 'Passanger ferry' 'Go fast boat' 'Hidden in coffee' 'hidden in compost'\n 'industrial buildings' 'post packages' 'Doblefondo en carros'\n 'Escondida debajo de su ropa' 'Fluvial vessel' 'Container' 'Drug Mules'\n 'drug mule' 'Container & Go-fast' '\"seascooter\\'' 'Private Aircraft'\n 'post office' 'hidden in cassava'\n 'hidden in car catalytic converters from Brazi'\n 'attached to the hull of a ship' 'mules' 'Got to indonesia by post'\n 'ingested capsules' 'hidden in gas tank of vehicle'\n 'Hidden in hydraulic compartments of truck']"
        ],
        [
         "Time unit",
         "5",
         "['Individual' 'Month' 'Multi-Month' 'Other (explain in Description)'\n 'Year']"
        ],
        [
         "Transit 1/Department",
         "58",
         "['Lisbon' '' 'Santo Domingo' 'Paris' 'Puntarenas' 'Tarapacá' 'Guerrero'\n 'Altagracia' 'Jujuy' 'Salta' 'Bolívar' 'Rio Grande do Norte' 'Los Santos'\n 'Mato Grosso do Sul' 'Chiapas' 'Michoacán' 'Sao Paulo' 'Coahuila' 'Zulia'\n 'Guayas' 'Lima' 'La Guajira' 'Espirito Santo' 'Paraná' 'Amazonas'\n 'Amazoas' 'Chimborazo' 'Magdalena' 'Goias' 'Valle del Cauca'\n 'Norte de Santander' 'Minas Gerais' 'Hidalgo' 'Pontevedra' 'Formosa'\n 'Valparaiso' 'Oran' 'Grande Terre' 'Guyas' 'Santos' 'Andalucia' 'Bahia'\n 'Bamako' 'Bouches-du-Rhone' 'Rio de Janeiro' 'Manabí' 'Tucumán' 'Bahía'\n 'Galápagos' 'Aysén' 'Antofagasta' 'Mato Grosso del Sur' 'Laghouat'\n 'Tamaulipas' 'Cerdeña' 'Mexico' 'Esmeraldas' 'Doha']"
        ],
        [
         "Transit 1/Municipality",
         "70",
         "['' 'Matapalo' 'Rio de Janeiro' 'Acapulco' 'Kingston' 'Volcán'\n 'Panama City' 'Aguas Blancas' 'San Ramón de la Nueva Orán' 'Cartagena'\n 'Rosario de la frontera' 'São José de Mipibu' ' Bridgetown' 'Amambai'\n 'Corumbá' 'Frontera Hidalgo' 'Aguaray' 'Juina' 'Dourados' 'Agua Clara'\n 'Guia Lopes da Laguna' 'Lázaro Cárdenas' 'Campinas' 'Guayaquil' 'Albania'\n 'Guarapari' 'Paraguaná' 'Miranda' 'Ponta Pora' 'Santarem' 'Embarcación'\n 'Campo Grande' 'Sao Paulo' 'Tabatinga' 'Dakar' 'Colon' 'Colta'\n 'Santa Marta' 'Santa Rita do Araguaia ' 'Cali' 'Cúcuta' 'Juiz de Fora'\n 'Reynosa' 'Vigo' 'Quilpué ' 'Abymes' 'Montevideo' 'Huelva' 'Salvador'\n 'Marseille' 'Nova Andradina' 'Anastácio' 'São Carlos'\n 'Santo Antônio do Içá' 'Boca Chica' 'Mogi Mirim' ' Paraty' 'El Carmen'\n 'General Mosconi' 'Luquillo' 'Ciudad Sagrada de Quilmes' 'Quadra'\n 'Quillagua' 'Laghouat' 'Conakry' 'Cagliari' 'Santa Lucia'\n 'San Martin de Porres' 'Asuncion' 'Frankfurt']"
        ],
        [
         "Transit 1/Region",
         "8",
         "['' 'Central America' 'South America' 'North America' 'Caribbean' 'Europe'\n 'Africa' 'Asia']"
        ],
        [
         "Transit 1/country",
         "36",
         "['Portugal' '' 'Mexico' 'Dominican Republic' 'France' 'Ecuador' 'Bolivia'\n 'Costa Rica' 'Brazil' 'Chile' 'Jamaica' 'Argentina' 'Martinique' 'Panama'\n 'Colombia' 'Barbados' 'Uruguay' 'Venezuela' 'Peru' 'Belgium' 'Curaçao'\n 'Senegal' 'Spain' 'El Salvador' 'Guadeloupe' 'Paraguay' 'Sweden' 'Mali'\n 'Puerto Rico' 'Algeria' 'Guinea' 'Italy' 'United Kingdom' 'Guatemala'\n 'Germany' 'Qatar']"
        ],
        [
         "Transit 2/ country",
         "17",
         "['' 'United States' 'Argentina' 'Spain' 'Colombia' 'Brazil' 'Ecuador'\n 'Panama' 'Portugal' 'Venezuela' 'Costa Rica' 'Gibraltar' 'Norway'\n 'France' 'Morocco' 'Italy' 'Russia']"
        ],
        [
         "Transit 2/ region",
         "6",
         "['' 'Europe' 'South America' 'Central America' 'North America' 'Africa']"
        ],
        [
         "Transit 2/Department",
         "18",
         "['' 'Buenos Aires' 'Jujuy' 'Jiménez' 'Valle del Cauca' 'Paraná'\n 'Mato Grosso do Sul' 'Mato Grosso de Sul' 'Colón' 'Pará' 'Rosario'\n 'Cundinamarca' 'Valencia' 'Paris' 'Tanger-Tetouan-Al Hoceima' 'Apulia'\n 'Pas-de-Calais' 'Misiones']"
        ],
        [
         "Transit 2/municipality/port",
         "18",
         "['' 'Yuto' 'Santiago del Estero' 'Buenaventura' 'Alto Paraiso'\n 'Campo Grande' 'Nova Andradina' 'Zarate' 'Colón' 'Vitória do Xingu'\n 'Cartagena' 'Bogotá' 'Valencia' 'Tangier' 'Taranto' 'Calais'\n 'Puerto Maciel' 'Moscu']"
        ],
        [
         "Type",
         "1",
         "['Seizure']"
        ],
        [
         "Type Drugs",
         "6",
         "['Cocaine' 'Other (explain in Description)' 'Cocaine Base' 'Coca Crops'\n 'All/Unspecified/Multiple' 'Cocaine - Crack']"
        ],
        [
         "Weight unit",
         "10",
         "['Kilogram' 'Pounds (lbs)' 'Plant' 'Package'\n 'Other (explain in Description)'\n 'Other currency (say which in Description)' '' 'USD' 'Euro' 'Pounds (£)']"
        ],
        [
         "Year",
         "2",
         "['2025' '']"
        ],
        [
         "seizure_kgs",
         "213",
         "['9' '2.5' '2619' '1240' '16.05' '65' '6600' '142' '250' '2050' '23' '3'\n '40' '1300' '247' '898' '120' '2545' '26' '262' '53' '107' '300' '500'\n '146000' '64' '1200' '1.5' '26.4' '22300' '1800' '16000' '25' '538' '44'\n '1206' '131' '62' '357' '1170' '14' '152' '1146' '600' '875' '41' '12'\n '135000' '1237' '673.5' '452' '320' '2000' '95' '465' '5.4' '11.4' '161'\n '1' '100' '16' '521' '415' '530' '178732' '1000' '6035' '599' '400'\n '3500' '41500' '2322' '8' '30' '13' '198' '700' '140' '630' '15392' '42'\n '3589' '602' '554' '786' '90' '' '1.235' '0.15' '21' '0.924' '0.16'\n '24.7' '126' '2' '20' '0.021' '540' '12.6' '5' '732' '154' '52.49' '520'\n '8.78' '375' '4.144' '0.79' '550' '15' '19' '80' '378' '66' '7' '423'\n '32' '220' '1400' '2400' '27' '10' '776' '553' '29' '35' '150' '40000'\n '273' '71' '1152' '522' '5.6' '75' '8500' '11' '1027' '72' '59' '87.55'\n '2003' '1938' '2.7' '17' '1099' '36' '2368' '31' '235' '63' '624' '6500'\n '241' '2295' '270' '190602' '425' '258' '127' '82' '2100' '1780' '160'\n '67' '58' '45.9' '33' '7.5' '50' '380' '4.4' '1285' '322' '3260' '15.5'\n '190' '1280' '3003' '253' '61' '1.7' '4' '950' '206' '18.9' '170' '780'\n '28' '280' '301' '200' '7.9' '701' '511' '1500' '4532' '6603' '1807' '6'\n '2.2' '0.5' '0.121' '7000' '20.26' '475' '4500' '1700' '1190' '720'\n '58.955' '390' '33.6' '31.5']"
        ]
       ],
       "shape": {
        "columns": 2,
        "rows": 41
       }
      },
      "text/html": [
       "<div>\n",
       "<style scoped>\n",
       "    .dataframe tbody tr th:only-of-type {\n",
       "        vertical-align: middle;\n",
       "    }\n",
       "\n",
       "    .dataframe tbody tr th {\n",
       "        vertical-align: top;\n",
       "    }\n",
       "\n",
       "    .dataframe thead th {\n",
       "        text-align: right;\n",
       "    }\n",
       "</style>\n",
       "<table border=\"1\" class=\"dataframe\">\n",
       "  <thead>\n",
       "    <tr style=\"text-align: right;\">\n",
       "      <th></th>\n",
       "      <th>Cantidad de valores únicos</th>\n",
       "      <th>Valores únicos</th>\n",
       "    </tr>\n",
       "  </thead>\n",
       "  <tbody>\n",
       "    <tr>\n",
       "      <th>Country</th>\n",
       "      <td>50</td>\n",
       "      <td>[Italy, Dominican Republic, Venezuela, United ...</td>\n",
       "    </tr>\n",
       "    <tr>\n",
       "      <th>Criminal group #1</th>\n",
       "      <td>13</td>\n",
       "      <td>[, AGC, Autodefensas Conquistadoras de la Sier...</td>\n",
       "    </tr>\n",
       "    <tr>\n",
       "      <th>Criminal group #2</th>\n",
       "      <td>2</td>\n",
       "      <td>[, AGC]</td>\n",
       "    </tr>\n",
       "    <tr>\n",
       "      <th>Criminal group #3</th>\n",
       "      <td>1</td>\n",
       "      <td>[]</td>\n",
       "    </tr>\n",
       "    <tr>\n",
       "      <th>Date</th>\n",
       "      <td>86</td>\n",
       "      <td>[2025-03-24, 2025-03-23, 2025-03-22, 2025-03-1...</td>\n",
       "    </tr>\n",
       "    <tr>\n",
       "      <th>Date 2</th>\n",
       "      <td>9</td>\n",
       "      <td>[, 2025-03-20, 2025-03-31, 2025-04-01, 2025-04...</td>\n",
       "    </tr>\n",
       "    <tr>\n",
       "      <th>Day</th>\n",
       "      <td>32</td>\n",
       "      <td>[24, 23, 22, 19, 25, 26, 27, 20, 10, 21, 30, 2...</td>\n",
       "    </tr>\n",
       "    <tr>\n",
       "      <th>Department/State</th>\n",
       "      <td>205</td>\n",
       "      <td>[, Zulia, Texas, Cáceres, Azores, Québec, Flor...</td>\n",
       "    </tr>\n",
       "    <tr>\n",
       "      <th>Description</th>\n",
       "      <td>376</td>\n",
       "      <td>[Spanish citizen, coming from Lisbon , was sto...</td>\n",
       "    </tr>\n",
       "    <tr>\n",
       "      <th>Destition - Country</th>\n",
       "      <td>29</td>\n",
       "      <td>[, Spain, United States, Portugal, Belgium, Ge...</td>\n",
       "    </tr>\n",
       "    <tr>\n",
       "      <th>Destition - Municipality/Port</th>\n",
       "      <td>35</td>\n",
       "      <td>[, Madrid, Europe, Lisboa, Iquique, Reggio Cal...</td>\n",
       "    </tr>\n",
       "    <tr>\n",
       "      <th>Destition - Region</th>\n",
       "      <td>5</td>\n",
       "      <td>[, Europe, Asia, Australia, South America]</td>\n",
       "    </tr>\n",
       "    <tr>\n",
       "      <th>Destition - department.state</th>\n",
       "      <td>32</td>\n",
       "      <td>[, Antwerp, Chancay, Hillsborough, São Paulo, ...</td>\n",
       "    </tr>\n",
       "    <tr>\n",
       "      <th>Destition 2 - Country</th>\n",
       "      <td>8</td>\n",
       "      <td>[, Netherlands, Belgium, Italy, South Korea, F...</td>\n",
       "    </tr>\n",
       "    <tr>\n",
       "      <th>Destition 2 - Municipality/Port</th>\n",
       "      <td>4</td>\n",
       "      <td>[, Livorno, Amsterdam, Versilia]</td>\n",
       "    </tr>\n",
       "    <tr>\n",
       "      <th>Duration</th>\n",
       "      <td>12</td>\n",
       "      <td>[, 1900-01-09, 1900-03-29, 1899-12-31, 1900-01...</td>\n",
       "    </tr>\n",
       "    <tr>\n",
       "      <th>Modus Operandi/place of seizure</th>\n",
       "      <td>6</td>\n",
       "      <td>[Air, Land, Maritime vessel, Container, , Rive...</td>\n",
       "    </tr>\n",
       "    <tr>\n",
       "      <th>Month</th>\n",
       "      <td>7</td>\n",
       "      <td>[3, 1, 4, 2, 5, , 6]</td>\n",
       "    </tr>\n",
       "    <tr>\n",
       "      <th>Municipality/Port</th>\n",
       "      <td>234</td>\n",
       "      <td>[Florence, Santo Domingo, Lake Maracaibo , Eag...</td>\n",
       "    </tr>\n",
       "    <tr>\n",
       "      <th>Origin Area</th>\n",
       "      <td>16</td>\n",
       "      <td>[, Norte de Santander, Antioquia, Santa Cruz, ...</td>\n",
       "    </tr>\n",
       "    <tr>\n",
       "      <th>Origin country</th>\n",
       "      <td>4</td>\n",
       "      <td>[, Colombia, Peru, Bolivia]</td>\n",
       "    </tr>\n",
       "    <tr>\n",
       "      <th>Origin municipality</th>\n",
       "      <td>14</td>\n",
       "      <td>[, Tibu, Medellín, Santa Marta, Timbiquí, Oroc...</td>\n",
       "    </tr>\n",
       "    <tr>\n",
       "      <th>Project interested</th>\n",
       "      <td>5</td>\n",
       "      <td>[None, Cocaine Pipeline, Dutch, MAD, Cocaine P...</td>\n",
       "    </tr>\n",
       "    <tr>\n",
       "      <th>Quantity</th>\n",
       "      <td>263</td>\n",
       "      <td>[10, 2.5, 2619, 1240, 16.05, 65, 6600, 142, 55...</td>\n",
       "    </tr>\n",
       "    <tr>\n",
       "      <th>Region</th>\n",
       "      <td>8</td>\n",
       "      <td>[Europe, Caribbean, South America, North Ameri...</td>\n",
       "    </tr>\n",
       "    <tr>\n",
       "      <th>Source link</th>\n",
       "      <td>360</td>\n",
       "      <td>[https://www.lanazione.it/firenze/cronaca/coca...</td>\n",
       "    </tr>\n",
       "    <tr>\n",
       "      <th>Sub MO</th>\n",
       "      <td>30</td>\n",
       "      <td>[Liquid cocaine, , Production laboratory, Narc...</td>\n",
       "    </tr>\n",
       "    <tr>\n",
       "      <th>Time unit</th>\n",
       "      <td>5</td>\n",
       "      <td>[Individual, Month, Multi-Month, Other (explai...</td>\n",
       "    </tr>\n",
       "    <tr>\n",
       "      <th>Transit 1/Department</th>\n",
       "      <td>58</td>\n",
       "      <td>[Lisbon, , Santo Domingo, Paris, Puntarenas, T...</td>\n",
       "    </tr>\n",
       "    <tr>\n",
       "      <th>Transit 1/Municipality</th>\n",
       "      <td>70</td>\n",
       "      <td>[, Matapalo, Rio de Janeiro, Acapulco, Kingsto...</td>\n",
       "    </tr>\n",
       "    <tr>\n",
       "      <th>Transit 1/Region</th>\n",
       "      <td>8</td>\n",
       "      <td>[, Central America, South America, North Ameri...</td>\n",
       "    </tr>\n",
       "    <tr>\n",
       "      <th>Transit 1/country</th>\n",
       "      <td>36</td>\n",
       "      <td>[Portugal, , Mexico, Dominican Republic, Franc...</td>\n",
       "    </tr>\n",
       "    <tr>\n",
       "      <th>Transit 2/ country</th>\n",
       "      <td>17</td>\n",
       "      <td>[, United States, Argentina, Spain, Colombia, ...</td>\n",
       "    </tr>\n",
       "    <tr>\n",
       "      <th>Transit 2/ region</th>\n",
       "      <td>6</td>\n",
       "      <td>[, Europe, South America, Central America, Nor...</td>\n",
       "    </tr>\n",
       "    <tr>\n",
       "      <th>Transit 2/Department</th>\n",
       "      <td>18</td>\n",
       "      <td>[, Buenos Aires, Jujuy, Jiménez, Valle del Cau...</td>\n",
       "    </tr>\n",
       "    <tr>\n",
       "      <th>Transit 2/municipality/port</th>\n",
       "      <td>18</td>\n",
       "      <td>[, Yuto, Santiago del Estero, Buenaventura, Al...</td>\n",
       "    </tr>\n",
       "    <tr>\n",
       "      <th>Type</th>\n",
       "      <td>1</td>\n",
       "      <td>[Seizure]</td>\n",
       "    </tr>\n",
       "    <tr>\n",
       "      <th>Type Drugs</th>\n",
       "      <td>6</td>\n",
       "      <td>[Cocaine, Other (explain in Description), Coca...</td>\n",
       "    </tr>\n",
       "    <tr>\n",
       "      <th>Weight unit</th>\n",
       "      <td>10</td>\n",
       "      <td>[Kilogram, Pounds (lbs), Plant, Package, Other...</td>\n",
       "    </tr>\n",
       "    <tr>\n",
       "      <th>Year</th>\n",
       "      <td>2</td>\n",
       "      <td>[2025, ]</td>\n",
       "    </tr>\n",
       "    <tr>\n",
       "      <th>seizure_kgs</th>\n",
       "      <td>213</td>\n",
       "      <td>[9, 2.5, 2619, 1240, 16.05, 65, 6600, 142, 250...</td>\n",
       "    </tr>\n",
       "  </tbody>\n",
       "</table>\n",
       "</div>"
      ],
      "text/plain": [
       "                                 Cantidad de valores únicos  \\\n",
       "Country                                                  50   \n",
       "Criminal group #1                                        13   \n",
       "Criminal group #2                                         2   \n",
       "Criminal group #3                                         1   \n",
       "Date                                                     86   \n",
       "Date 2                                                    9   \n",
       "Day                                                      32   \n",
       "Department/State                                        205   \n",
       "Description                                             376   \n",
       "Destition - Country                                      29   \n",
       "Destition - Municipality/Port                            35   \n",
       "Destition - Region                                        5   \n",
       "Destition - department.state                             32   \n",
       "Destition 2 - Country                                     8   \n",
       "Destition 2 - Municipality/Port                           4   \n",
       "Duration                                                 12   \n",
       "Modus Operandi/place of seizure                           6   \n",
       "Month                                                     7   \n",
       "Municipality/Port                                       234   \n",
       "Origin Area                                              16   \n",
       "Origin country                                            4   \n",
       "Origin municipality                                      14   \n",
       "Project interested                                        5   \n",
       "Quantity                                                263   \n",
       "Region                                                    8   \n",
       "Source link                                             360   \n",
       "Sub MO                                                   30   \n",
       "Time unit                                                 5   \n",
       "Transit 1/Department                                     58   \n",
       "Transit 1/Municipality                                   70   \n",
       "Transit 1/Region                                          8   \n",
       "Transit 1/country                                        36   \n",
       "Transit 2/ country                                       17   \n",
       "Transit 2/ region                                         6   \n",
       "Transit 2/Department                                     18   \n",
       "Transit 2/municipality/port                              18   \n",
       "Type                                                      1   \n",
       "Type Drugs                                                6   \n",
       "Weight unit                                              10   \n",
       "Year                                                      2   \n",
       "seizure_kgs                                             213   \n",
       "\n",
       "                                                                    Valores únicos  \n",
       "Country                          [Italy, Dominican Republic, Venezuela, United ...  \n",
       "Criminal group #1                [, AGC, Autodefensas Conquistadoras de la Sier...  \n",
       "Criminal group #2                                                          [, AGC]  \n",
       "Criminal group #3                                                               []  \n",
       "Date                             [2025-03-24, 2025-03-23, 2025-03-22, 2025-03-1...  \n",
       "Date 2                           [, 2025-03-20, 2025-03-31, 2025-04-01, 2025-04...  \n",
       "Day                              [24, 23, 22, 19, 25, 26, 27, 20, 10, 21, 30, 2...  \n",
       "Department/State                 [, Zulia, Texas, Cáceres, Azores, Québec, Flor...  \n",
       "Description                      [Spanish citizen, coming from Lisbon , was sto...  \n",
       "Destition - Country              [, Spain, United States, Portugal, Belgium, Ge...  \n",
       "Destition - Municipality/Port    [, Madrid, Europe, Lisboa, Iquique, Reggio Cal...  \n",
       "Destition - Region                      [, Europe, Asia, Australia, South America]  \n",
       "Destition - department.state     [, Antwerp, Chancay, Hillsborough, São Paulo, ...  \n",
       "Destition 2 - Country            [, Netherlands, Belgium, Italy, South Korea, F...  \n",
       "Destition 2 - Municipality/Port                   [, Livorno, Amsterdam, Versilia]  \n",
       "Duration                         [, 1900-01-09, 1900-03-29, 1899-12-31, 1900-01...  \n",
       "Modus Operandi/place of seizure  [Air, Land, Maritime vessel, Container, , Rive...  \n",
       "Month                                                         [3, 1, 4, 2, 5, , 6]  \n",
       "Municipality/Port                [Florence, Santo Domingo, Lake Maracaibo , Eag...  \n",
       "Origin Area                      [, Norte de Santander, Antioquia, Santa Cruz, ...  \n",
       "Origin country                                         [, Colombia, Peru, Bolivia]  \n",
       "Origin municipality              [, Tibu, Medellín, Santa Marta, Timbiquí, Oroc...  \n",
       "Project interested               [None, Cocaine Pipeline, Dutch, MAD, Cocaine P...  \n",
       "Quantity                         [10, 2.5, 2619, 1240, 16.05, 65, 6600, 142, 55...  \n",
       "Region                           [Europe, Caribbean, South America, North Ameri...  \n",
       "Source link                      [https://www.lanazione.it/firenze/cronaca/coca...  \n",
       "Sub MO                           [Liquid cocaine, , Production laboratory, Narc...  \n",
       "Time unit                        [Individual, Month, Multi-Month, Other (explai...  \n",
       "Transit 1/Department             [Lisbon, , Santo Domingo, Paris, Puntarenas, T...  \n",
       "Transit 1/Municipality           [, Matapalo, Rio de Janeiro, Acapulco, Kingsto...  \n",
       "Transit 1/Region                 [, Central America, South America, North Ameri...  \n",
       "Transit 1/country                [Portugal, , Mexico, Dominican Republic, Franc...  \n",
       "Transit 2/ country               [, United States, Argentina, Spain, Colombia, ...  \n",
       "Transit 2/ region                [, Europe, South America, Central America, Nor...  \n",
       "Transit 2/Department             [, Buenos Aires, Jujuy, Jiménez, Valle del Cau...  \n",
       "Transit 2/municipality/port      [, Yuto, Santiago del Estero, Buenaventura, Al...  \n",
       "Type                                                                     [Seizure]  \n",
       "Type Drugs                       [Cocaine, Other (explain in Description), Coca...  \n",
       "Weight unit                      [Kilogram, Pounds (lbs), Plant, Package, Other...  \n",
       "Year                                                                      [2025, ]  \n",
       "seizure_kgs                      [9, 2.5, 2619, 1240, 16.05, 65, 6600, 142, 250...  "
      ]
     },
     "execution_count": 64,
     "metadata": {},
     "output_type": "execute_result"
    }
   ],
   "source": [
    "# Unique values in each column\n",
    "unique = df.nunique().sort_values()\n",
    "unique_values = df.apply(lambda x: x.unique())\n",
    "pd.DataFrame({'Cantidad de valores únicos': unique, 'Valores únicos': unique_values})"
   ]
  },
  {
   "cell_type": "code",
   "execution_count": 89,
   "id": "28e16d86",
   "metadata": {},
   "outputs": [
    {
     "name": "stdout",
     "output_type": "stream",
     "text": [
      "Type                               378\n",
      "Time unit                          377\n",
      "Date                               362\n",
      "Date 2                             372\n",
      "Year                               378\n",
      "Month                              378\n",
      "Day                                378\n",
      "Duration                           368\n",
      "Type Drugs                         378\n",
      "Quantity                           178\n",
      "Weight unit                        375\n",
      "seizure_kgs                        211\n",
      "Modus Operandi/place of seizure    378\n",
      "Sub MO                             350\n",
      "Region                             377\n",
      "Country                            357\n",
      "Department/State                   228\n",
      "Municipality/Port                  174\n",
      "Origin country                     378\n",
      "Origin Area                        368\n",
      "Origin municipality                366\n",
      "Transit 1/Region                   377\n",
      "Transit 1/country                  361\n",
      "Transit 1/Department               333\n",
      "Transit 1/Municipality             320\n",
      "Transit 2/ region                  376\n",
      "Transit 2/ country                 371\n",
      "Transit 2/Department               364\n",
      "Transit 2/municipality/port        362\n",
      "Destition - Region                 378\n",
      "Destition - Country                368\n",
      "Destition - department.state       354\n",
      "Destition - Municipality/Port      350\n",
      "Destition 2 - Country              373\n",
      "Destition 2 - Municipality/Port    375\n",
      "Description                          4\n",
      "Criminal group #1                  368\n",
      "Criminal group #2                  377\n",
      "Criminal group #3                  378\n",
      "Source link                         33\n",
      "Project interested                 378\n",
      "Name: Duplicate Count, dtype: int64\n"
     ]
    }
   ],
   "source": [
    "duplicate_counts = {}\n",
    "\n",
    "for col in df.columns:\n",
    "    dup_count = df[col].duplicated(keep=False).sum()\n",
    "    duplicate_counts[col] = dup_count\n",
    "\n",
    "# Show result\n",
    "duplicate_counts = pd.Series(duplicate_counts, name='Duplicate Count')\n",
    "print(duplicate_counts)"
   ]
  },
  {
   "cell_type": "markdown",
   "id": "114ab16d",
   "metadata": {},
   "source": [
    "# Por trabajar"
   ]
  },
  {
   "cell_type": "code",
   "execution_count": 40,
   "id": "615fe517",
   "metadata": {},
   "outputs": [
    {
     "name": "stdout",
     "output_type": "stream",
     "text": [
      "✅ 'Date-test' → 'Date'\n"
     ]
    }
   ],
   "source": [
    "# Update column name directly in Google Sheets\n",
    "def update_column_name(old_name, new_name):\n",
    "    # Get headers\n",
    "    headers = sheet.values().get(spreadsheetId=SPREADSHEET_ID, range='2025!1:1').execute()['values'][0]\n",
    "    \n",
    "    # Find and update column\n",
    "    if old_name in headers:\n",
    "        col_index = headers.index(old_name)\n",
    "        col_letter = chr(65 + col_index)  # Convert to A, B, C...\n",
    "        \n",
    "        # Update in sheet\n",
    "        sheet.values().update(\n",
    "            spreadsheetId=SPREADSHEET_ID,\n",
    "            range=f'2025!{col_letter}1',\n",
    "            valueInputOption='RAW',\n",
    "            body={'values': [[new_name]]}\n",
    "        ).execute()\n",
    "        \n",
    "        print(f\"✅ '{old_name}' → '{new_name}'\")\n",
    "    else:\n",
    "        print(f\"❌ '{old_name}' not found\")\n",
    "\n",
    "# Usage\n",
    "update_column_name('Date-test', 'Date')\n",
    "\n",
    "# Refresh DataFrame\n",
    "result = sheet.values().get(spreadsheetId=SPREADSHEET_ID, range=RANGE_NAME).execute()\n",
    "values = result.get('values', [])\n",
    "df = pd.DataFrame(values[1:], columns=values[0])"
   ]
  },
  {
   "cell_type": "code",
   "execution_count": 24,
   "id": "d8959e07",
   "metadata": {},
   "outputs": [
    {
     "name": "stdout",
     "output_type": "stream",
     "text": [
      "✅ Dates formatted to DD-MM-YYYY in column C\n"
     ]
    }
   ],
   "source": [
    "# Format date column to DD-MM-YYYY directly in Google Sheets\n",
    "def format_dates_to_dd_mm_yyyy(date_column_name='Date'):\n",
    "    # Get all data\n",
    "    result = sheet.values().get(spreadsheetId=SPREADSHEET_ID, range=RANGE_NAME).execute()\n",
    "    values = result.get('values', [])\n",
    "    \n",
    "    if not values:\n",
    "        print(\"❌ No data found\")\n",
    "        return\n",
    "    \n",
    "    headers = values[0]\n",
    "    if date_column_name not in headers:\n",
    "        print(f\"❌ '{date_column_name}' column not found\")\n",
    "        return\n",
    "    \n",
    "    col_index = headers.index(date_column_name)\n",
    "    col_letter = chr(65 + col_index)\n",
    "    \n",
    "    # Process dates\n",
    "    updated_values = []\n",
    "    for i, row in enumerate(values[1:], 2):  # Start from row 2\n",
    "        if col_index < len(row) and row[col_index]:\n",
    "            try:\n",
    "                # Parse date (assuming YYYY-MM-DD format)\n",
    "                date_obj = datetime.strptime(row[col_index], \"%Y-%m-%d\")\n",
    "                # Format to DD-MM-YYYY\n",
    "                formatted_date = date_obj.strftime(\"%d-%m-%Y\")\n",
    "                updated_values.append([formatted_date])\n",
    "            except ValueError:\n",
    "                # Keep original if can't parse\n",
    "                updated_values.append([row[col_index]])\n",
    "        else:\n",
    "            updated_values.append([''])\n",
    "    \n",
    "    # Update the entire date column\n",
    "    if updated_values:\n",
    "        sheet.values().update(\n",
    "            spreadsheetId=SPREADSHEET_ID,\n",
    "            range=f'2025!{col_letter}2:{col_letter}{len(updated_values)+1}',\n",
    "            valueInputOption='RAW',\n",
    "            body={'values': updated_values}\n",
    "        ).execute()\n",
    "        \n",
    "        print(f\"✅ Dates formatted to DD-MM-YYYY in column {col_letter}\")\n",
    "\n",
    "# Usage\n",
    "format_dates_to_dd_mm_yyyy('Date')  # or whatever your date column is called"
   ]
  },
  {
   "cell_type": "code",
   "execution_count": 44,
   "id": "59f4ba77",
   "metadata": {},
   "outputs": [],
   "source": [
    "def enforce_time_unit_rule():\n",
    "    # Get all data\n",
    "    result = sheet.values().get(spreadsheetId=SPREADSHEET_ID, range=RANGE_NAME).execute()\n",
    "    values = result.get('values', [])\n",
    "    \n",
    "    if not values:\n",
    "        print(\"❌ No data found\")\n",
    "        return\n",
    "    \n",
    "    headers = values[0]\n",
    "    \n",
    "    # Find required columns\n",
    "    try:\n",
    "        time_unit_col = headers.index('Time unit')\n",
    "        date2_col = headers.index('Date 2')\n",
    "    except ValueError:\n",
    "        print(\"❌ Required columns not found (Time unit and/or Date 2)\")\n",
    "        return\n",
    "    \n",
    "    # Prepare batch update requests\n",
    "    requests = []\n",
    "    violations = []\n",
    "    \n",
    "    for i, row in enumerate(values[1:], 2):  # Start from row 2 (1-indexed)\n",
    "        # Check if row has enough columns\n",
    "        if len(row) <= max(time_unit_col, date2_col):\n",
    "            continue\n",
    "            \n",
    "        time_unit = row[time_unit_col].strip().lower() if time_unit_col < len(row) and row[time_unit_col] else None\n",
    "        date2 = row[date2_col].strip() if date2_col < len(row) and row[date2_col] else None\n",
    "        \n",
    "        if time_unit == 'individual' and date2:\n",
    "            violations.append(i)\n",
    "            \n",
    "            # Add request to clear the cell\n",
    "            requests.append({\n",
    "                'repeatCell': {\n",
    "                    'range': {\n",
    "                        'sheetId': SHEET_ID,  # You need to define this\n",
    "                        'startRowIndex': i-1,  # 0-based\n",
    "                        'endRowIndex': i,\n",
    "                        'startColumnIndex': date2_col,\n",
    "                        'endColumnIndex': date2_col+1\n",
    "                    },\n",
    "                    'cell': {\n",
    "                        'userEnteredValue': {'stringValue': ''}\n",
    "                    },\n",
    "                    'fields': 'userEnteredValue'\n",
    "                }\n",
    "            })\n",
    "            \n",
    "            # Add request to format cell red\n",
    "            requests.append({\n",
    "                'repeatCell': {\n",
    "                    'range': {\n",
    "                        'sheetId': SHEET_ID,\n",
    "                        'startRowIndex': i-1,\n",
    "                        'endRowIndex': i,\n",
    "                        'startColumnIndex': date2_col,\n",
    "                        'endColumnIndex': date2_col+1\n",
    "                    },\n",
    "                    'cell': {\n",
    "                        'userEnteredFormat': {\n",
    "                            'backgroundColor': {\n",
    "                                'red': 1,\n",
    "                                'green': 0.8,\n",
    "                                'blue': 0.8\n",
    "                            }\n",
    "                        }\n",
    "                    },\n",
    "                    'fields': 'userEnteredFormat.backgroundColor'\n",
    "                }\n",
    "            })\n",
    "    \n",
    "    # Execute batch update if there are violations\n",
    "    if requests:\n",
    "        body = {\n",
    "            'requests': requests\n",
    "        }\n",
    "        sheet.batchUpdate(spreadsheetId=SPREADSHEET_ID, body=body).execute()\n",
    "        print(f\"✅ Rule enforced: {len(violations)} violations found and corrected\")\n",
    "        print(f\"   Rows with violations: {violations}\")\n",
    "    else:\n",
    "        print(\"✅ No violations found\")"
   ]
  },
  {
   "cell_type": "code",
   "execution_count": null,
   "id": "2e0f6b3e",
   "metadata": {},
   "outputs": [
    {
     "data": {
      "text/plain": [
       "{}"
      ]
     },
     "execution_count": 48,
     "metadata": {},
     "output_type": "execute_result"
    }
   ],
   "source": [
    "# ✅ GATHER DROPDOWN OPTIONS FOR EACH COLUMN\n",
    "dropdown_options = {}\n",
    "\n",
    "for col in df.columns:\n",
    "    unique_values = df[col].dropna().unique().tolist()\n",
    "    dropdown_options[col] = unique_values\n",
    "\n",
    "# Optional: Print a preview of the dropdown dictionary\n",
    "for col, options in dropdown_options.items():\n",
    "    print(f\"{col}: {options[:10]}{'...' if len(options) > 10 else ''}\")\n"
   ]
  },
  {
   "cell_type": "markdown",
   "id": "1af11c62",
   "metadata": {},
   "source": [
    "#### 4.3 Validation\n"
   ]
  },
  {
   "cell_type": "markdown",
   "id": "06976565",
   "metadata": {},
   "source": [
    "#### 4.4 Reporting"
   ]
  }
 ],
 "metadata": {
  "kernelspec": {
   "display_name": "venv-db-watch",
   "language": "python",
   "name": "python3"
  },
  "language_info": {
   "codemirror_mode": {
    "name": "ipython",
    "version": 3
   },
   "file_extension": ".py",
   "mimetype": "text/x-python",
   "name": "python",
   "nbconvert_exporter": "python",
   "pygments_lexer": "ipython3",
   "version": "3.12.10"
  }
 },
 "nbformat": 4,
 "nbformat_minor": 5
}
