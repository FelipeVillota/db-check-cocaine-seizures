{
 "cells": [
  {
   "cell_type": "markdown",
   "id": "66c0df0e",
   "metadata": {},
   "source": [
    "### **Database Monitoring (Google Sheets) - Cocaine Seizures 2025**\n",
    "#### InSight Crime - MAD Unit. \n",
    "June, 2025\n",
    "\n",
    "##### Luis Felipe Villota Macías\n",
    "\n",
    "---------------------\n",
    "\n"
   ]
  },
  {
   "cell_type": "markdown",
   "id": "c506f4d0",
   "metadata": {},
   "source": [
    "### 1. Goals"
   ]
  },
  {
   "cell_type": "markdown",
   "id": "0817cb81",
   "metadata": {},
   "source": [
    "* MONITOR & VALIDATE -> data in a shared Google Sheet using automated checks to ensure accuracy, consistency and data quality.\n",
    "\n",
    "* HIGHLIGHT & CORRECT -> invalid or suspicious entries directly in the sheet. \n",
    "\n",
    "* REPORT -> Generate weekly (every Friday) reports to support governance. \n"
   ]
  },
  {
   "cell_type": "markdown",
   "id": "80d6e936",
   "metadata": {},
   "source": [
    "### 2. Project Setup"
   ]
  },
  {
   "cell_type": "markdown",
   "id": "ac164b48",
   "metadata": {},
   "source": [
    "#### 2.1 Version Control"
   ]
  },
  {
   "cell_type": "markdown",
   "id": "db7255ac",
   "metadata": {},
   "source": [
    "I decided to create a single GitHub repository ([FelipeVillota/db-check-cocaine-seizures](https://github.com/FelipeVillota/db-check-cocaine-seizures)). I keep the repository `private` with the possibility to give access to the online repo at any time. "
   ]
  },
  {
   "cell_type": "markdown",
   "id": "ad16f5b0",
   "metadata": {},
   "source": [
    "#### 2.2 Reproducible Environment"
   ]
  },
  {
   "cell_type": "code",
   "execution_count": 2,
   "id": "a1112678",
   "metadata": {},
   "outputs": [],
   "source": [
    "# IMPORTANT\n",
    "# To create venv\n",
    "# python -m venv venv-db-watch\n",
    "\n",
    "# To activate environment, run in Terminal:\n",
    "# # (optional, temporary auth) \n",
    "# Set-ExecutionPolicy -Scope Process -ExecutionPolicy Bypass \n",
    "# venv-db-watch\\Scripts\\activate\n",
    "\n",
    "# Then select respective kernel --> also install ipykernel package to connect to kernel\n",
    "\n",
    "# Update list master list\n",
    "# pip freeze > requirements.txt"
   ]
  },
  {
   "cell_type": "code",
   "execution_count": 3,
   "id": "898046a7",
   "metadata": {},
   "outputs": [
    {
     "name": "stdout",
     "output_type": "stream",
     "text": [
      "c:\\Users\\USER\\Desktop\\ic\\db-check-cocaine-seizures\\venv-db-watch\\Scripts\\python.exe\n"
     ]
    }
   ],
   "source": [
    "# Checking venv-db-watch works\n",
    "import sys\n",
    "print(sys.executable)"
   ]
  },
  {
   "cell_type": "markdown",
   "id": "802dc17a",
   "metadata": {},
   "source": [
    "#### 2.3 Loading Libraries"
   ]
  },
  {
   "cell_type": "code",
   "execution_count": 4,
   "id": "793fd425",
   "metadata": {},
   "outputs": [],
   "source": [
    "# pip install --upgrade google-api-python-client google-auth-httplib2 google-auth-oauthlib pandas"
   ]
  },
  {
   "cell_type": "code",
   "execution_count": 5,
   "id": "735fe917",
   "metadata": {},
   "outputs": [],
   "source": [
    "import os\n",
    "import re\n",
    "import requests\n",
    "import pandas as pd\n",
    "from datetime import datetime\n",
    "from google.oauth2 import service_account\n",
    "from googleapiclient.discovery import build\n",
    "# pip freeze > requirements.txt"
   ]
  },
  {
   "cell_type": "markdown",
   "id": "92d515b3",
   "metadata": {},
   "source": [
    "### 3.  Approach"
   ]
  },
  {
   "cell_type": "markdown",
   "id": "b5904545",
   "metadata": {},
   "source": [
    "The general idea is to create a modular client (frontend) call that is able to extract the desired subset of data from the API server (backend); -and, make it easily reusable for future queries.\n"
   ]
  },
  {
   "cell_type": "markdown",
   "id": "4b99eeee",
   "metadata": {},
   "source": [
    "### 4. Execution"
   ]
  },
  {
   "cell_type": "markdown",
   "id": "db308e65",
   "metadata": {},
   "source": [
    "#### 4.1 Accessing the API"
   ]
  },
  {
   "cell_type": "code",
   "execution_count": 6,
   "id": "6dc27914",
   "metadata": {},
   "outputs": [],
   "source": [
    "# Path to downloaded JSON credentials\n",
    "SERVICE_ACCOUNT_FILE = 'C:/Users/USER/Desktop/ic/llavero/summer-sector-439022-v6-2eafffbbfb90.json'"
   ]
  },
  {
   "cell_type": "code",
   "execution_count": 7,
   "id": "3ef67d81",
   "metadata": {},
   "outputs": [
    {
     "data": {
      "text/plain": [
       "'18hdnhuqvH4vdXuL16CBI7BpaMCu8K81T2NThbK6OJzk'"
      ]
     },
     "execution_count": 7,
     "metadata": {},
     "output_type": "execute_result"
    }
   ],
   "source": [
    "# ID of the Google Sheet (from the URL)\n",
    "\n",
    "original_id = '1t61MafCmnRe2QN082Bk1V0IxBSIW8UUqH1g5mULgb2o'\n",
    "test_id = '18hdnhuqvH4vdXuL16CBI7BpaMCu8K81T2NThbK6OJzk'\n",
    "\n",
    "SPREADSHEET_ID = test_id\n",
    "SPREADSHEET_ID"
   ]
  },
  {
   "cell_type": "code",
   "execution_count": 8,
   "id": "f908e9ca",
   "metadata": {},
   "outputs": [],
   "source": [
    "\n",
    "# Range to read from your sheet (e.g. 'Sheet1!A1:Z1000')\n",
    "RANGE_NAME = '2025!A1:Z10000'  # Adjust the range as needed"
   ]
  },
  {
   "cell_type": "code",
   "execution_count": 9,
   "id": "27d1704e",
   "metadata": {},
   "outputs": [],
   "source": [
    "\n",
    "# Define scopes for Google Sheets and Drive API\n",
    "SCOPES = ['https://www.googleapis.com/auth/spreadsheets', 'https://www.googleapis.com/auth/drive']"
   ]
  },
  {
   "cell_type": "code",
   "execution_count": 10,
   "id": "63ff5acb",
   "metadata": {},
   "outputs": [
    {
     "name": "stdout",
     "output_type": "stream",
     "text": [
      "      Type   Time unit        Date Date 2  Year Month Day Duration  \\\n",
      "0  Seizure  Individual  2025-03-24         2025     3  24            \n",
      "1  Seizure  Individual  2025-03-23         2025     3  23            \n",
      "2  Seizure  Individual  2025-03-22         2025     3  22            \n",
      "3  Seizure  Individual  2025-03-22         2025     3  22            \n",
      "4  Seizure  Individual  2025-03-19         2025     3  19            \n",
      "\n",
      "                       Type Drugs Quantity  ... Department/State  \\\n",
      "0                         Cocaine       10  ...                    \n",
      "1                         Cocaine      2.5  ...                    \n",
      "2                         Cocaine     2619  ...            Zulia   \n",
      "3  Other (explain in Description)     1240  ...            Zulia   \n",
      "4                         Cocaine    16.05  ...            Texas   \n",
      "\n",
      "          Municipality/Port Origin country         Origin Area  \\\n",
      "0                  Florence                                      \n",
      "1             Santo Domingo           None                None   \n",
      "2           Lake Maracaibo        Colombia  Norte de Santander   \n",
      "3           Lake Maracaibo                  Norte de Santander   \n",
      "4  Eagle Pass Port of Entry                                      \n",
      "\n",
      "  Origin municipality Transit 1/Region Transit 1/country Transit 1/Department  \\\n",
      "0                                               Portugal               Lisbon   \n",
      "1                None             None              None                 None   \n",
      "2                Tibu             None              None                 None   \n",
      "3                Tibu             None              None                 None   \n",
      "4                                                 Mexico                 None   \n",
      "\n",
      "  Transit 1/Municipality Transit 2/ region  \n",
      "0                   None              None  \n",
      "1                   None              None  \n",
      "2                   None              None  \n",
      "3                   None              None  \n",
      "4                   None              None  \n",
      "\n",
      "[5 rows x 26 columns]\n"
     ]
    }
   ],
   "source": [
    "#Authenticate and build the service\n",
    "creds = service_account.Credentials.from_service_account_file(\n",
    "    SERVICE_ACCOUNT_FILE, scopes=SCOPES)\n",
    "service = build('sheets', 'v4', credentials=creds)\n",
    "\n",
    "# Call the Sheets API to read data\n",
    "sheet = service.spreadsheets()\n",
    "result = sheet.values().get(spreadsheetId=SPREADSHEET_ID, range=RANGE_NAME).execute()\n",
    "values = result.get('values', [])\n",
    "\n",
    "# Convert to DataFrame for easier manipulation\n",
    "df = pd.DataFrame(values[1:], columns=values[0])\n",
    "print(df.head()) "
   ]
  },
  {
   "cell_type": "markdown",
   "id": "d4b73750",
   "metadata": {},
   "source": [
    "#### 4.2 Data Validation Management"
   ]
  },
  {
   "cell_type": "code",
   "execution_count": 11,
   "id": "28eb9bb2",
   "metadata": {},
   "outputs": [
    {
     "name": "stdout",
     "output_type": "stream",
     "text": [
      "Index(['Type', 'Time unit', 'Date', 'Date 2', 'Year', 'Month', 'Day',\n",
      "       'Duration', 'Type Drugs', 'Quantity', 'Weight unit', 'seizure_kgs',\n",
      "       'Modus Operandi/place of seizure', 'Sub MO', 'Region', 'Country',\n",
      "       'Department/State', 'Municipality/Port', 'Origin country',\n",
      "       'Origin Area', 'Origin municipality', 'Transit 1/Region',\n",
      "       'Transit 1/country', 'Transit 1/Department', 'Transit 1/Municipality',\n",
      "       'Transit 2/ region'],\n",
      "      dtype='object')\n"
     ]
    }
   ],
   "source": [
    "print(df.columns)"
   ]
  },
  {
   "cell_type": "code",
   "execution_count": null,
   "id": "bcb0a087",
   "metadata": {},
   "outputs": [
    {
     "name": "stdout",
     "output_type": "stream",
     "text": [
      "<class 'pandas.core.frame.DataFrame'>\n",
      "RangeIndex: 378 entries, 0 to 377\n",
      "Data columns (total 26 columns):\n",
      " #   Column                           Non-Null Count  Dtype \n",
      "---  ------                           --------------  ----- \n",
      " 0   Type                             378 non-null    object\n",
      " 1   Time unit                        378 non-null    object\n",
      " 2   Date                             378 non-null    object\n",
      " 3   Date 2                           378 non-null    object\n",
      " 4   Year                             378 non-null    object\n",
      " 5   Month                            378 non-null    object\n",
      " 6   Day                              378 non-null    object\n",
      " 7   Duration                         378 non-null    object\n",
      " 8   Type Drugs                       378 non-null    object\n",
      " 9   Quantity                         378 non-null    object\n",
      " 10  Weight unit                      378 non-null    object\n",
      " 11  seizure_kgs                      378 non-null    object\n",
      " 12  Modus Operandi/place of seizure  378 non-null    object\n",
      " 13  Sub MO                           378 non-null    object\n",
      " 14  Region                           378 non-null    object\n",
      " 15  Country                          376 non-null    object\n",
      " 16  Department/State                 370 non-null    object\n",
      " 17  Municipality/Port                321 non-null    object\n",
      " 18  Origin country                   199 non-null    object\n",
      " 19  Origin Area                      177 non-null    object\n",
      " 20  Origin municipality              175 non-null    object\n",
      " 21  Transit 1/Region                 165 non-null    object\n",
      " 22  Transit 1/country                163 non-null    object\n",
      " 23  Transit 1/Department             128 non-null    object\n",
      " 24  Transit 1/Municipality           106 non-null    object\n",
      " 25  Transit 2/ region                37 non-null     object\n",
      "dtypes: object(26)\n",
      "memory usage: 76.9+ KB\n",
      "None\n"
     ]
    }
   ],
   "source": [
    "print(df.info())"
   ]
  },
  {
   "cell_type": "code",
   "execution_count": 14,
   "id": "25c57314",
   "metadata": {},
   "outputs": [
    {
     "name": "stdout",
     "output_type": "stream",
     "text": [
      "Type → ['Seizure']\n",
      "Time unit → ['Individual' 'Month' 'Multi-Month' 'Other (explain in Description)'\n",
      " 'Year']\n",
      "Date → ['2025-03-24' '2025-03-23' '2025-03-22' '2025-03-19' '2025-03-25'\n",
      " '2025-03-26' '2025-03-27' '2025-03-20' '2025-03-10' '2025-03-21']\n",
      "Date 2 → ['' '2025-03-20' '2025-03-31' '2025-04-01' '2025-04-03' '2025-04-24'\n",
      " '2025-05-12' '2025-05-17' '2025-04-30']\n",
      "Year → ['2025' '']\n",
      "Month → ['3' '1' '4' '2' '5' '' '6']\n",
      "Day → ['24' '23' '22' '19' '25' '26' '27' '20' '10' '21']\n",
      "Duration → ['' '10' '89' '1' '5' '92' '3' '82' '131' '136']\n",
      "Type Drugs → ['Cocaine' 'Other (explain in Description)' 'Cocaine Base' 'Coca Crops'\n",
      " 'All/Unspecified/Multiple' 'Cocaine - Crack']\n",
      "Quantity → ['10' '2.5' '2619' '1240' '16.05' '65' '6600' '142' '550' '2050']\n",
      "Weight unit → ['Kilogram' 'Pounds (lbs)' 'Plant' 'Package'\n",
      " 'Other (explain in Description)'\n",
      " 'Other currency (say which in Description)' '' 'USD' 'Euro' 'Pounds (£)']\n",
      "seizure_kgs → ['9' '2.5' '2619' '1240' '16.05' '65' '6600' '142' '250' '2050']\n",
      "Modus Operandi/place of seizure → ['Air' 'Land' 'Maritime vessel' 'Container' '' 'River vessel']\n",
      "Sub MO → ['Liquid cocaine' '' 'Production laboratory' 'Narcosub' 'Train' 'Boat'\n",
      " 'Passanger ferry' 'Go fast boat' 'Hidden in coffee' 'hidden in compost']\n",
      "Region → ['Europe' 'Caribbean' 'South America' 'North America' 'Central America'\n",
      " 'Africa' 'Asia' 'Oceania']\n",
      "Country → ['Italy' 'Dominican Republic' 'Venezuela' 'United States' 'Spain'\n",
      " 'Portugal' 'Canada' 'Colombia' 'Puerto Rico' 'Ireland']\n",
      "Department/State → ['' 'Zulia' 'Texas' 'Cáceres' 'Azores' 'Québec' 'Florida' 'Antioquia'\n",
      " 'San Juan' 'Dublin']\n",
      "Municipality/Port → ['Florence' 'Santo Domingo' 'Lake Maracaibo ' 'Eagle Pass Port of Entry'\n",
      " '' 'Cáceres' 'Puerto Colombia' 'Cartagena' 'Posorja' 'Bizkaia']\n",
      "Origin country → ['' 'Colombia' 'Peru' 'Bolivia']\n",
      "Origin Area → ['' 'Norte de Santander' 'Antioquia' 'Santa Cruz' 'Valle del Cauca'\n",
      " 'Magdalena' 'Cauca' 'Casanare' 'Chocó, Nariño' 'Bolívar']\n",
      "Origin municipality → ['' 'Tibu' 'Medellín' 'Santa Marta' 'Timbiquí' 'Orocué' 'Cartagena'\n",
      " 'Piendamó' 'Ica' 'Cochabamba']\n",
      "Transit 1/Region → ['' 'Central America' 'South America' 'North America' 'Caribbean' 'Europe'\n",
      " 'Africa' 'Asia']\n",
      "Transit 1/country → ['Portugal' 'Mexico' 'Dominican Republic' 'France' 'Ecuador' 'Bolivia'\n",
      " 'Costa Rica' 'Brazil' 'Chile' 'Jamaica']\n",
      "Transit 1/Department → ['Lisbon' 'Santo Domingo' 'Paris' 'Puntarenas' '' 'Tarapacá' 'Guerrero'\n",
      " 'Altagracia' 'Jujuy' 'Salta']\n",
      "Transit 1/Municipality → ['Matapalo' 'Rio de Janeiro' 'Acapulco' 'Kingston' 'Volcán' 'Panama City'\n",
      " '' 'Aguas Blancas' 'San Ramón de la Nueva Orán' 'Cartagena']\n",
      "Transit 2/ region → ['Europe' 'South America' 'Central America' 'North America' 'Africa']\n"
     ]
    }
   ],
   "source": [
    "for col in df.columns:\n",
    "    print(f\"{col} → {df[col].dropna().unique()[:10]}\")\n"
   ]
  },
  {
   "cell_type": "markdown",
   "id": "1af11c62",
   "metadata": {},
   "source": [
    "#### 4.3 Data Anlysis & Reporting\n"
   ]
  }
 ],
 "metadata": {
  "kernelspec": {
   "display_name": "venv-db-watch",
   "language": "python",
   "name": "python3"
  },
  "language_info": {
   "codemirror_mode": {
    "name": "ipython",
    "version": 3
   },
   "file_extension": ".py",
   "mimetype": "text/x-python",
   "name": "python",
   "nbconvert_exporter": "python",
   "pygments_lexer": "ipython3",
   "version": "3.12.10"
  }
 },
 "nbformat": 4,
 "nbformat_minor": 5
}
