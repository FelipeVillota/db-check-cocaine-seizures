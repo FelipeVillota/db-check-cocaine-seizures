{
 "cells": [
  {
   "cell_type": "markdown",
   "id": "66c0df0e",
   "metadata": {},
   "source": [
    "### **Database Monitoring (Google Sheets) - Cocaine Seizures 2025**\n",
    "#### InSight Crime - MAD Unit. \n",
    "June, 2025\n",
    "\n",
    "##### Luis Felipe Villota Macías\n",
    "\n",
    "---------------------\n",
    "\n"
   ]
  },
  {
   "cell_type": "markdown",
   "id": "c506f4d0",
   "metadata": {},
   "source": [
    "### 1. Goals"
   ]
  },
  {
   "cell_type": "markdown",
   "id": "0817cb81",
   "metadata": {},
   "source": [
    "* MONITOR & VALIDATE -> data in a shared Google Sheet using automated checks to ensure accuracy, consistency and data quality.\n",
    "\n",
    "* HIGHLIGHT & CORRECT -> signal invalid entries and intervene directly in the sheet. \n",
    "\n",
    "* REPORT -> Generate weekly (every Friday) reports to support governance. \n",
    "\n",
    "### Why?\n",
    "- Good practice for reproducibility, transparency and scalability (can be applied to other relevant dbs: e.g., homicides, etc).  \n",
    "- Google Sheets validation is basic -> we can enforce custom rules (e.g., logical dates, quantities, relationships, normalize names, etc).\n",
    "- Facilitates reporting and knowledge sharing.\n",
    "- Overall: provides quality data ready to be analyzed"
   ]
  },
  {
   "cell_type": "markdown",
   "id": "80d6e936",
   "metadata": {},
   "source": [
    "### 2. Project Setup"
   ]
  },
  {
   "cell_type": "markdown",
   "id": "ac164b48",
   "metadata": {},
   "source": [
    "#### 2.1 Version Control"
   ]
  },
  {
   "cell_type": "markdown",
   "id": "db7255ac",
   "metadata": {},
   "source": [
    "I decided to create a single GitHub repository ([FelipeVillota/db-check-cocaine-seizures](https://github.com/FelipeVillota/db-check-cocaine-seizures)). I keep the repository `private` with the possibility to give access to the online repo at any time. "
   ]
  },
  {
   "cell_type": "markdown",
   "id": "ad16f5b0",
   "metadata": {},
   "source": [
    "#### 2.2 Reproducible Environment"
   ]
  },
  {
   "cell_type": "code",
   "execution_count": 28,
   "id": "a1112678",
   "metadata": {},
   "outputs": [],
   "source": [
    "# IMPORTANT\n",
    "# To create venv\n",
    "# python -m venv venv-db-watch\n",
    "\n",
    "# To activate environment, run in Terminal:\n",
    "# # (optional, temporary auth) \n",
    "# Set-ExecutionPolicy -Scope Process -ExecutionPolicy Bypass \n",
    "# venv-db-watch\\Scripts\\activate\n",
    "\n",
    "# Then select respective kernel --> also install ipykernel package to connect to kernel\n",
    "\n",
    "# Update list master list\n",
    "# pip freeze > requirements.txt"
   ]
  },
  {
   "cell_type": "code",
   "execution_count": 29,
   "id": "898046a7",
   "metadata": {},
   "outputs": [
    {
     "name": "stdout",
     "output_type": "stream",
     "text": [
      "c:\\Users\\USER\\Desktop\\ic\\db-check-cocaine-seizures\\venv-db-watch\\Scripts\\python.exe\n"
     ]
    }
   ],
   "source": [
    "# Checking venv-db-watch works\n",
    "import sys\n",
    "print(sys.executable)"
   ]
  },
  {
   "cell_type": "markdown",
   "id": "802dc17a",
   "metadata": {},
   "source": [
    "#### 2.3 Loading Libraries"
   ]
  },
  {
   "cell_type": "code",
   "execution_count": 30,
   "id": "793fd425",
   "metadata": {},
   "outputs": [],
   "source": [
    "# pip install --upgrade google-api-python-client google-auth-httplib2 google-auth-oauthlib pandas"
   ]
  },
  {
   "cell_type": "code",
   "execution_count": 31,
   "id": "735fe917",
   "metadata": {},
   "outputs": [],
   "source": [
    "import os\n",
    "import re\n",
    "import requests\n",
    "import pandas as pd\n",
    "from datetime import datetime\n",
    "from google.oauth2 import service_account\n",
    "from googleapiclient.discovery import build\n",
    "import gspread\n",
    "from google.oauth2.service_account import Credentials\n",
    "from gspread_formatting import format_cell_ranges, CellFormat, Color\n",
    "\n",
    "# pip freeze > requirements.txt"
   ]
  },
  {
   "cell_type": "markdown",
   "id": "92d515b3",
   "metadata": {},
   "source": [
    "### 3.  Approach"
   ]
  },
  {
   "cell_type": "markdown",
   "id": "b5904545",
   "metadata": {},
   "source": [
    "The general idea is to create a modular client (frontend) call that is able to extract the desired subset of data from the API server (backend); -and, make it easily reusable for future queries.\n"
   ]
  },
  {
   "cell_type": "markdown",
   "id": "4b99eeee",
   "metadata": {},
   "source": [
    "### 4. Execution"
   ]
  },
  {
   "cell_type": "markdown",
   "id": "db308e65",
   "metadata": {},
   "source": [
    "#### 4.1 Accessing the API"
   ]
  },
  {
   "cell_type": "code",
   "execution_count": 32,
   "id": "6dc27914",
   "metadata": {},
   "outputs": [],
   "source": [
    "# Path to downloaded JSON credentials\n",
    "SERVICE_ACCOUNT_FILE = 'C:/Users/USER/Desktop/ic/llavero/summer-sector-439022-v6-2eafffbbfb90.json'"
   ]
  },
  {
   "cell_type": "code",
   "execution_count": 33,
   "id": "3ef67d81",
   "metadata": {},
   "outputs": [
    {
     "data": {
      "text/plain": [
       "'18hdnhuqvH4vdXuL16CBI7BpaMCu8K81T2NThbK6OJzk'"
      ]
     },
     "execution_count": 33,
     "metadata": {},
     "output_type": "execute_result"
    }
   ],
   "source": [
    "# ID of the Google Sheet (from the URL)\n",
    "\n",
    "original_id = '1t61MafCmnRe2QN082Bk1V0IxBSIW8UUqH1g5mULgb2o'\n",
    "test_id = '18hdnhuqvH4vdXuL16CBI7BpaMCu8K81T2NThbK6OJzk'\n",
    "\n",
    "SPREADSHEET_ID = test_id\n",
    "SPREADSHEET_ID"
   ]
  },
  {
   "cell_type": "code",
   "execution_count": 34,
   "id": "f908e9ca",
   "metadata": {},
   "outputs": [],
   "source": [
    "\n",
    "# Range to read from your sheet (e.g. 'Sheet1!A1:Z1000')\n",
    "RANGE_NAME = '2025!A1:Z10000'  # Adjust the range as needed"
   ]
  },
  {
   "cell_type": "code",
   "execution_count": 35,
   "id": "27d1704e",
   "metadata": {},
   "outputs": [],
   "source": [
    "\n",
    "# Define scopes for Google Sheets and Drive API\n",
    "SCOPES = ['https://www.googleapis.com/auth/spreadsheets', 'https://www.googleapis.com/auth/drive']"
   ]
  },
  {
   "cell_type": "code",
   "execution_count": 36,
   "id": "63ff5acb",
   "metadata": {},
   "outputs": [
    {
     "name": "stdout",
     "output_type": "stream",
     "text": [
      "      Type   Time unit        Date Date 2  Year Month Day Duration  \\\n",
      "0  Seizure  Individual  2025-03-24         2025     3  24            \n",
      "1  Seizure  Individual  2025-03-23         2025     3  23            \n",
      "2  Seizure  Individual  2025-03-22         2025     3  22            \n",
      "3  Seizure  Individual  2025-03-22         2025     3  22            \n",
      "4  Seizure  Individual  2025-03-19         2025     3  19            \n",
      "\n",
      "                       Type Drugs Quantity  ... Department/State  \\\n",
      "0                         Cocaine       10  ...                    \n",
      "1                         Cocaine      2.5  ...                    \n",
      "2                         Cocaine     2619  ...            Zulia   \n",
      "3  Other (explain in Description)     1240  ...            Zulia   \n",
      "4                         Cocaine    16.05  ...            Texas   \n",
      "\n",
      "          Municipality/Port Origin country         Origin Area  \\\n",
      "0                  Florence                                      \n",
      "1             Santo Domingo           None                None   \n",
      "2           Lake Maracaibo        Colombia  Norte de Santander   \n",
      "3           Lake Maracaibo                  Norte de Santander   \n",
      "4  Eagle Pass Port of Entry                                      \n",
      "\n",
      "  Origin municipality Transit 1/Region Transit 1/country Transit 1/Department  \\\n",
      "0                                               Portugal               Lisbon   \n",
      "1                None             None              None                 None   \n",
      "2                Tibu             None              None                 None   \n",
      "3                Tibu             None              None                 None   \n",
      "4                                                 Mexico                 None   \n",
      "\n",
      "  Transit 1/Municipality Transit 2/ region  \n",
      "0                   None              None  \n",
      "1                   None              None  \n",
      "2                   None              None  \n",
      "3                   None              None  \n",
      "4                   None              None  \n",
      "\n",
      "[5 rows x 26 columns]\n"
     ]
    }
   ],
   "source": [
    "#Authenticate and build the service\n",
    "creds = service_account.Credentials.from_service_account_file(\n",
    "    SERVICE_ACCOUNT_FILE, scopes=SCOPES)\n",
    "service = build('sheets', 'v4', credentials=creds)\n",
    "\n",
    "# Call the Sheets API to read data\n",
    "sheet = service.spreadsheets()\n",
    "result = sheet.values().get(spreadsheetId=SPREADSHEET_ID, range=RANGE_NAME).execute()\n",
    "values = result.get('values', [])\n",
    "\n",
    "# Convert to DataFrame for easier manipulation\n",
    "df = pd.DataFrame(values[1:], columns=values[0])\n",
    "print(df.head()) "
   ]
  },
  {
   "cell_type": "markdown",
   "id": "d4b73750",
   "metadata": {},
   "source": [
    "#### 4.2 Data Validation Management"
   ]
  },
  {
   "cell_type": "markdown",
   "id": "911fb133",
   "metadata": {},
   "source": [
    "✅  Implementation\n",
    "\n",
    "\n",
    "1. Define rules per column\n",
    "\n",
    "2. Create a function per rule block\n",
    "\n",
    "3. Apply them row-wise, collecting violations\n",
    "\n",
    "4. Mark validation status per row\n",
    "\n",
    "5. (Optional) Write to a new column or Sheet tab\n",
    "\n",
    "6. (Optional) Use Google Sheets API to apply color highlighting"
   ]
  },
  {
   "cell_type": "code",
   "execution_count": 37,
   "id": "bcb0a087",
   "metadata": {},
   "outputs": [
    {
     "name": "stdout",
     "output_type": "stream",
     "text": [
      "<class 'pandas.core.frame.DataFrame'>\n",
      "RangeIndex: 378 entries, 0 to 377\n",
      "Data columns (total 26 columns):\n",
      " #   Column                           Non-Null Count  Dtype \n",
      "---  ------                           --------------  ----- \n",
      " 0   Type                             378 non-null    object\n",
      " 1   Time unit                        378 non-null    object\n",
      " 2   Date                             378 non-null    object\n",
      " 3   Date 2                           378 non-null    object\n",
      " 4   Year                             378 non-null    object\n",
      " 5   Month                            378 non-null    object\n",
      " 6   Day                              378 non-null    object\n",
      " 7   Duration                         378 non-null    object\n",
      " 8   Type Drugs                       378 non-null    object\n",
      " 9   Quantity                         378 non-null    object\n",
      " 10  Weight unit                      378 non-null    object\n",
      " 11  seizure_kgs                      378 non-null    object\n",
      " 12  Modus Operandi/place of seizure  378 non-null    object\n",
      " 13  Sub MO                           378 non-null    object\n",
      " 14  Region                           378 non-null    object\n",
      " 15  Country                          376 non-null    object\n",
      " 16  Department/State                 370 non-null    object\n",
      " 17  Municipality/Port                321 non-null    object\n",
      " 18  Origin country                   199 non-null    object\n",
      " 19  Origin Area                      177 non-null    object\n",
      " 20  Origin municipality              175 non-null    object\n",
      " 21  Transit 1/Region                 165 non-null    object\n",
      " 22  Transit 1/country                163 non-null    object\n",
      " 23  Transit 1/Department             128 non-null    object\n",
      " 24  Transit 1/Municipality           106 non-null    object\n",
      " 25  Transit 2/ region                37 non-null     object\n",
      "dtypes: object(26)\n",
      "memory usage: 76.9+ KB\n",
      "None\n"
     ]
    }
   ],
   "source": [
    "# Info about the variables in the DataFrame\n",
    "print(df.info())"
   ]
  },
  {
   "cell_type": "code",
   "execution_count": 38,
   "id": "25c57314",
   "metadata": {},
   "outputs": [
    {
     "name": "stdout",
     "output_type": "stream",
     "text": [
      "Type → ['Seizure']\n",
      "Time unit → ['Individual' 'Month' 'Multi-Month' 'Other (explain in Description)'\n",
      " 'Year']\n",
      "Date → ['2025-03-24' '2025-03-23' '2025-03-22' '2025-03-19' '2025-03-25'\n",
      " '2025-03-26' '2025-03-27' '2025-03-20' '2025-03-10' '2025-03-21'\n",
      " '2025-03-30' '2025-03-29' '2025-01-01' '2025-03-28' '2025-03-31'\n",
      " '2025-04-01' '2025-04-02' '2025-04-03' '2025-04-04' '2025-04-07'\n",
      " '2025-04-08' '2025-04-09' '2025-04-06' '2025-04-05' '2025-04-13'\n",
      " '2025-04-12' '2025-04-14' '2025-04-10' '2025-02-02' '2025-04-15'\n",
      " '2025-04' '2025-04-16' '2025-04-17' '2025-04-11' '2025-04-18'\n",
      " '2025-04-21' '2025-04-20' '2025-04-22' '2025-04-19' '2025-04-23'\n",
      " '2025-04-24' '2025-04-25' '2025-02-01' '2025-04-26' '2025-02-13'\n",
      " '2025-04-29' '2025-04-30' '2025-05-03' '2025-05-05' '2025-05-06'\n",
      " '2025-05-07' '2025-05-02' '2025-05-09' '2025-04-28' '2025-05-08'\n",
      " '2025-05-04' '' '2025-05-11' '2025-05-12' '2025-05-13' '2025-05-10'\n",
      " '2025-05-15' '2025-05-14' '2025-05-17' '2025-04-27' '2025-05-18'\n",
      " '2025-05-19' '2025-05-16' '2025-05-20' '2025-05-21' '2025-05-22'\n",
      " '2025-05-23' '2025-05-25' '2025-05-24' '2025-05-26' '2025-05-27'\n",
      " '2025-05-28' '2025-05-29' '2025-05-30' '2025-05-31' '2025-06-02'\n",
      " '2025-06-01' '2025-06-03' '2025-06-04' '2025-06-05' '2025-06-06']\n",
      "Date 2 → ['' '2025-03-20' '2025-03-31' '2025-04-01' '2025-04-03' '2025-04-24'\n",
      " '2025-05-12' '2025-05-17' '2025-04-30']\n",
      "Year → ['2025' '']\n",
      "Month → ['3' '1' '4' '2' '5' '' '6']\n",
      "Day → ['24' '23' '22' '19' '25' '26' '27' '20' '10' '21' '30' '29' '1' '28' '31'\n",
      " '2' '3' '4' '7' '8' '9' '6' '5' '13' '12' '14' '15' '' '16' '17' '11'\n",
      " '18']\n",
      "Duration → ['' '10' '89' '1' '5' '92' '3' '82' '131' '136' '29' '10 months']\n",
      "Type Drugs → ['Cocaine' 'Other (explain in Description)' 'Cocaine Base' 'Coca Crops'\n",
      " 'All/Unspecified/Multiple' 'Cocaine - Crack']\n",
      "Quantity → ['10' '2.5' '2619' '1240' '16.05' '65' '6600' '142' '550' '2050' '23' '3'\n",
      " '40' '1300' '247' '898' '120' '2545' '26' '577' '53' '107' '300' '500'\n",
      " '146000' '64' '1200' '1.5' '26.4' '22300' '1800' '16000' '25' '538' '44'\n",
      " '1206' '131' '62' '357' '1170' '14' '152' '1146' '600' '875' '41' '12'\n",
      " '135000' '1237' '673.5' '452' '320' '2000' '95' '465' '5.4' '11.4' '161'\n",
      " '1' '100' '16' '521' '415' '530' '178732' '1000' '6035' '599' '400'\n",
      " '3500' '41500' '2322' '8' '30' '13' '198' '700' '140' '630' '15392' '42'\n",
      " '3589' '602' '554' '786' '90' '' '1.235' '0.15' '21' '0.924' '0.16'\n",
      " '24.7' '126' '2' '20' '0.021' '540' '12.6' '5' '732' '154' '52.49' '520'\n",
      " '8.78' '375' '4.144' '9' '0.79' '15' '19' '250' '80' '378' '66' '7' '423'\n",
      " '32' '220' '1400' '2400' '776' '553' '29' '35' '150' '40000' '27' '273'\n",
      " '71' '1152' '522' '6.2' '75' '8500' '11' '1027' '72' '59' '87.55' '68000'\n",
      " '2003' '311' '1938' '2.7' '17' '1099' '54' '25,600,000' '510' '147' '7.4'\n",
      " '24' '5000000' '514' '160' '85' '1045' '329' '2500' '1117' '48'\n",
      " '13,000,000' '43' '10.6' '135' '0.033' '647' '346' '403' '1.6' '720'\n",
      " '930,000' '1039' '40.2' '56' '33' '7000' '0.5' '2,400,000' '18' '435'\n",
      " '21.02' '235' '63' '624' '6500' '241' '2295' '270' '190602' '425' '258'\n",
      " '127' '82' '2100' '1780' '67' '58' '45.9' '7.5' '50' '380' '4.4' '1285'\n",
      " '322' '3260' '15.5' '190' '1280' '3003' '253' '61' '1.7' '4' '950' '206'\n",
      " '18.9' '170' '780' '28' '280' '301' '200' '7.9' '701' '511' '1500' '4630'\n",
      " '9993' '14559' '3984' '6' '2.2' '0.121' '20.26' '475' '4500' '1700'\n",
      " '1190' '0.7' '1,268' '860' '10.8' '187' '22' '31' '496' '105.7' '1273'\n",
      " '0.293' '45' '989000' '956000' '10.5' '1268' '3620' '110' '12.7' '676'\n",
      " '20.4' '149' '172']\n",
      "Weight unit → ['Kilogram' 'Pounds (lbs)' 'Plant' 'Package'\n",
      " 'Other (explain in Description)'\n",
      " 'Other currency (say which in Description)' '' 'USD' 'Euro' 'Pounds (£)']\n",
      "seizure_kgs → ['9' '2.5' '2619' '1240' '16.05' '65' '6600' '142' '250' '2050' '23' '3'\n",
      " '40' '1300' '247' '898' '120' '2545' '26' '262' '53' '107' '300' '500'\n",
      " '146000' '64' '1200' '1.5' '26.4' '22300' '1800' '16000' '25' '538' '44'\n",
      " '1206' '131' '62' '357' '1170' '14' '152' '1146' '600' '875' '41' '12'\n",
      " '135000' '1237' '673.5' '452' '320' '2000' '95' '465' '5.4' '11.4' '161'\n",
      " '1' '100' '16' '521' '415' '530' '178732' '1000' '6035' '599' '400'\n",
      " '3500' '41500' '2322' '8' '30' '13' '198' '700' '140' '630' '15392' '42'\n",
      " '3589' '602' '554' '786' '90' '' '1.235' '0.15' '21' '0.924' '0.16'\n",
      " '24.7' '126' '2' '20' '0.021' '540' '12.6' '5' '732' '154' '52.49' '520'\n",
      " '8.78' '375' '4.144' '0.79' '550' '15' '19' '80' '378' '66' '7' '423'\n",
      " '32' '220' '1400' '2400' '27' '10' '776' '553' '29' '35' '150' '40000'\n",
      " '273' '71' '1152' '522' '5.6' '75' '8500' '11' '1027' '72' '59' '87.55'\n",
      " '2003' '1938' '2.7' '17' '1099' '36' '2368' '31' '235' '63' '624' '6500'\n",
      " '241' '2295' '270' '190602' '425' '258' '127' '82' '2100' '1780' '160'\n",
      " '67' '58' '45.9' '33' '7.5' '50' '380' '4.4' '1285' '322' '3260' '15.5'\n",
      " '190' '1280' '3003' '253' '61' '1.7' '4' '950' '206' '18.9' '170' '780'\n",
      " '28' '280' '301' '200' '7.9' '701' '511' '1500' '4532' '6603' '1807' '6'\n",
      " '2.2' '0.5' '0.121' '7000' '20.26' '475' '4500' '1700' '1190' '720'\n",
      " '58.955' '390' '33.6' '31.5']\n",
      "Modus Operandi/place of seizure → ['Air' 'Land' 'Maritime vessel' 'Container' '' 'River vessel']\n",
      "Sub MO → ['Liquid cocaine' '' 'Production laboratory' 'Narcosub' 'Train' 'Boat'\n",
      " 'Passanger ferry' 'Go fast boat' 'Hidden in coffee' 'hidden in compost'\n",
      " 'industrial buildings' 'post packages' 'Doblefondo en carros'\n",
      " 'Escondida debajo de su ropa' 'Fluvial vessel' 'Container' 'Drug Mules'\n",
      " 'drug mule' 'Container & Go-fast' '\"seascooter\\'' 'Private Aircraft'\n",
      " 'post office' 'hidden in cassava'\n",
      " 'hidden in car catalytic converters from Brazi'\n",
      " 'attached to the hull of a ship' 'mules' 'Got to indonesia by post'\n",
      " 'ingested capsules' 'hidden in gas tank of vehicle'\n",
      " 'Hidden in hydraulic compartments of truck']\n",
      "Region → ['Europe' 'Caribbean' 'South America' 'North America' 'Central America'\n",
      " 'Africa' 'Asia' 'Oceania']\n",
      "Country → ['Italy' 'Dominican Republic' 'Venezuela' 'United States' 'Spain'\n",
      " 'Portugal' 'Canada' 'Colombia' 'Puerto Rico' 'Ireland' 'Bulgaria'\n",
      " 'El Salvador' 'Algeria' 'Ecuador' 'Peru' 'Chile' 'Argentina' 'Costa Rica'\n",
      " 'Brazil' 'Honduras' 'Mexico' 'Panama' 'Jamaica' 'Martinique' 'Greece'\n",
      " 'United Kingdom' 'South Korea' 'Bolivia' 'France' 'Trinidad and Tobago'\n",
      " 'Senegal' 'Netherlands' 'Guadeloupe' 'Switzerland' 'Guinea' 'Cameroon'\n",
      " 'Ghana' 'Paraguay' 'Sweden' 'Thailand' 'Mali' 'Morocco' 'Croatia' ''\n",
      " 'Australia' 'Russia' 'Indonesia' 'Belgium' 'Uruguay' 'Sri Lanka']\n",
      "Department/State → ['' 'Zulia' 'Texas' 'Cáceres' 'Azores' 'Québec' 'Florida' 'Antioquia'\n",
      " 'San Juan' 'Dublin' 'Burgas port'\n",
      " '920 nautical miles southwest of la Bocana El Cordoncillo' 'Atlantico'\n",
      " 'Bolivar' 'Ghardaïa' 'Guyas' 'Basque Country' 'Michigan' 'Narino' 'Arica'\n",
      " 'Jujuy' 'Puntarenas' 'Tarapacá' 'Colón' 'Guerrero' 'Altagracia' 'Colon '\n",
      " 'Jiménez' 'Bolívar' 'Valle del Cauca' 'Salta' 'Rio Grande do Norte'\n",
      " 'Hillsborough' 'Los Santos' 'Paraná' 'Mato Grosso do Sul' 'Chiapas'\n",
      " 'Michoacán' 'Buenos Aires' 'Sao Paulo' 'Coahuila' 'Magdalena' 'Cauca'\n",
      " 'Casanare' 'Chocó, Nariño' 'Guajira' 'Guayas' 'Ica' 'Cochabamba'\n",
      " 'Antartica chilena' 'La Guajira' 'Espirito Santo' 'São Paulo' 'Goiás'\n",
      " 'Toscana' 'Quintana Roo' 'Seine-Maritime ' 'Cortés'\n",
      " 'Comunidad Valenciana' 'Gangwon' 'Santa Fe' 'Tucumán' 'Punta Arenas'\n",
      " 'Pará' 'Rhode Island' 'Normandy' 'Port of Spain' 'Pernambuco'\n",
      " 'Antofagasta' 'Atlántico' 'Mato Grosso' 'Santo Domingo' 'Amazonas'\n",
      " 'Baja California/Chihuaha' 'Íle de France' 'Catalonia' 'Canary Islands'\n",
      " 'Aragon' 'Utrecht' 'Limón' 'Chimborazo' 'Goias' 'Cundinamarca'\n",
      " 'Norte de Santander' 'South Holland' 'Minas Gerais' 'Reggio Calabria'\n",
      " 'Padua' 'Parma' 'Pontevedra' 'Olancho' 'Formosa' 'Valparaiso' 'Oran'\n",
      " 'Santiago' 'Colon' 'Grande Terre' 'Ticino' 'Conakry' 'Quimper' 'Catalan'\n",
      " 'Littoral' 'Greater Accra Region' 'La Altagracia' 'Naples' 'Cassino'\n",
      " 'Lisbon' 'Armenia' 'Guna Yala' 'Santo Domingo Este' 'Luque' 'Lambare'\n",
      " 'Boqueron' 'Límon' 'Putumayo' 'Galapagos Island' 'Andalucia' 'Bankok'\n",
      " 'Bamako' 'Salerno' 'Tanger-Tetouan-Al Hoceima' 'Paris' 'Rijeka' 'Apulia'\n",
      " 'Lombardy' 'International waters' 'San Jose' 'Panamá Oeste' 'Galapagos'\n",
      " 'Cordoba' 'Landes' 'Galicia' 'Napoli' 'Las Perlas' 'Orinoquía' 'Asuncion'\n",
      " 'Busan' 'New South Wales' 'Navarra' 'Santa Cruz' 'Madrid' 'Bucaramanga'\n",
      " 'Essonne' 'Córdoba - Rosario Highway' 'Concordia' 'Essex'\n",
      " 'Alpes-Maritimes' 'Ile de France' 'Taumalipas' 'Rio de Janeiro' 'Manabí'\n",
      " 'Bahía' 'Misiones' 'Aysen' 'Mato Grosso del Sur' 'Ain' 'Occitanie'\n",
      " 'Laghouat' 'Tamaulipas' 'Sicilia' 'Lacio' 'Cerdeña' 'Mexico' 'Esmeraldas'\n",
      " 'Nariño' 'Oaxaca' 'Moselle' 'Bali' 'Algiers' 'Alicante' 'Biscay' 'Bogota'\n",
      " 'Tulcán' 'Sonora' 'Jalisco' 'Mariscal Ramón Castilla' 'Colima' 'Acapulco'\n",
      " 'Ceará' 'Espírito Santo' 'Maipu' 'Chiriqui' 'New Calcedonia'\n",
      " 'Alpes-Maritimes ' 'Madrid & Barcelona' 'Chaco' ' Seine-Saint-Denis'\n",
      " 'Cartagena' 'Rome' 'Colombo' 'Catania' 'Alsacia' 'Marseille' 'Macapa'\n",
      " 'Parana' 'Mato Grosso do sul' 'Yoro' 'Santa Elena' 'Valladolid' 'Bahia'\n",
      " 'Quindio' 'Loreto' 'Paraiba' 'Brasilia' 'Chubut']\n",
      "Municipality/Port → ['Florence' 'Santo Domingo' 'Lake Maracaibo ' 'Eagle Pass Port of Entry'\n",
      " '' 'Cáceres' 'Puerto Colombia' 'Cartagena' 'Posorja' 'Bizkaia'\n",
      " 'Ambassador Bridge' 'Tingo María ' 'Madrid, Marbella and Barcelona)'\n",
      " 'Providencia' 'Matapalo' 'Rio de Janeiro' 'Colchane' 'Tocoa' 'Acapulco'\n",
      " 'Kingston' 'Volcán' 'Piraeus' 'Madrid' 'Panama City' 'Gioia Tauro' 'Yuto'\n",
      " 'Santiago del Estero' 'Barcelona' 'Buenaventura' 'Rosario de la frontera'\n",
      " 'São José de Mipibu' 'Manchester ' 'Alto Paraiso' 'Terenos'\n",
      " 'Frontera Hidalgo' 'Gangneung' 'Aguaray' 'Juina' 'Nova Andradina'\n",
      " 'Agua Clara' 'Guia Lopes da Laguna' 'Lázaro Cárdenas' 'Zarate' 'Campinas'\n",
      " 'Santa Marta' 'Timbiquí' 'Orocué' 'Piendamó' 'Guayaquil' 'Ica'\n",
      " 'Cochabamba' 'Albania' 'Guarapari' 'Mineiros do Tietê' 'Jataí' 'Livorno'\n",
      " 'Benito Juárez' 'Tancarville' 'Miranda' 'San Pedro Sula' 'Valencia'\n",
      " 'Guarulhos' 'Rosario, Totoras, Villa Constitución' 'Santa Fe'\n",
      " 'Benjamín Paz' 'Buenos Aires' 'Punta Arenas' 'Bataguassu'\n",
      " 'Vitória do Xingu' 'Embarcación' 'Providence' 'Baldwin Park'\n",
      " 'Port of Spain' 'Petrolina' 'Campo Grande' 'Detroit' 'Pacaembu'\n",
      " 'Barranquilla' 'Daule' 'Presidente Vencesalu' 'Caceres' 'Sao Paulo'\n",
      " 'Coari' 'Oldham County' 'Tecate/Casas Grandes' 'Roissy-Fret' 'Dakar'\n",
      " 'Agaete' 'Saragossa' 'Utrecht' 'Moín' 'Colta' 'El Paso'\n",
      " 'Santa Rita do Araguaia' 'Bogotá' 'Cúcuta' 'Rotterdam' 'Barendrecht'\n",
      " 'Juiz de Fora' 'McAllen' 'Rizziconi' 'Salsomaggiore' 'Oran' 'Vigo'\n",
      " 'Dulce nombre de Culmí' 'Quilpué' 'San Ramón de la Nueva Orán' 'Santiago'\n",
      " 'Abymes' 'Conakry' 'Douala' 'Tema' 'Zaragoza' 'Salvador Mazza' 'Lisbon'\n",
      " 'El Eden' 'Colon' 'San Lorenzo' ' La Ciénaga'\n",
      " 'Silvio Pettirossi International Airport' 'Infante Rivarola'\n",
      " 'Moín Container Terminal' ' Villagarzón' 'Jaltepeque Estuary' 'Sevilla'\n",
      " ' Samut Prakan' 'Lucca' 'Angri' 'Tangier' 'Vitry-sur-Seine' 'Brajdica'\n",
      " 'Taranto' 'Milano' 'Pérez Zeledón' 'San Carlos' 'Portobelo'\n",
      " 'Villa Los Artesanos' 'Pontevedra' 'Case Nuove' 'Punta de Coco'\n",
      " 'Casanare' 'Maicao' 'Busan New Port' 'Del Rio' 'South West Rocks'\n",
      " 'Tudela' 'Mairana' 'El Cañaveral' 'Chimita' 'Gringy' 'San Blas'\n",
      " 'Villa Jardin' 'Nice' 'Paris' 'Dourados' 'Anastácio' 'Corumbá'\n",
      " 'São Carlos' 'Santo Antônio do Içá' 'Boca Chica' 'Catacamas' 'Mogi Mirim'\n",
      " ' Paraty' 'El Carmen' 'Puerto Asis' 'General Mosconi' 'Luquillo'\n",
      " 'Ciudad sagrada de Quilmes' 'Salvador' 'Quadra' 'Puerto Maciel'\n",
      " 'Quillagua' 'bourg-en-bresse' 'Sete' 'Laghouat' 'Reynosa'\n",
      " 'San Petersburgo' 'Catania' 'Anzio' 'Cagliari' 'Santa Lucia'\n",
      " 'San Martin de Porres' 'Tumaco' 'Moscu' 'Villa Tunarí' 'Asunción'\n",
      " 'Cumbitara' 'Metz' 'Pocitos' 'Bilbao' 'Bogota' 'Carchi' 'Cali' 'Brescia'\n",
      " ' San Luis Río Colorado' 'Iguatu' 'Serra' 'El Bosque' 'Camino La Farfana'\n",
      " 'Tierras Altas' 'Manacapuru' 'Olaya Herrera' 'Kuta Beach' 'Isle of Pines'\n",
      " 'Ezeiza ' 'Rosny-sous-bois' 'Colon Port' 'Colalao del Valle'\n",
      " 'San Gregorio da Sassola' 'Aeropuerto Internacional Bandaranaike'\n",
      " 'San Berillo' 'Porto Empedocle' 'abacate da pedreira' 'Casimiro de Abreu'\n",
      " 'Presidente Castelo Branco' 'Pau D’Arco' 'São José do Rio Preto'\n",
      " 'Morazán' ' Aguaray' 'San Cristobal' 'Praia Grande' 'Barcarena'\n",
      " 'Sabinopolis' 'Presidente Presente' 'Playa del Carmen'\n",
      " 'Hidalgo International Bridge' 'Rio Grande' 'Feira de Santana' 'Tumuco'\n",
      " ' Santo Antônio do Iça' 'Mariscal Ramón Castilla' 'Campina Grande'\n",
      " 'Novo Aripuanã' 'Volcan']\n",
      "Origin country → ['' 'Colombia' 'Peru' 'Bolivia']\n",
      "Origin Area → ['' 'Norte de Santander' 'Antioquia' 'Santa Cruz' 'Valle del Cauca'\n",
      " 'Magdalena' 'Cauca' 'Casanare' 'Chocó, Nariño' 'Bolívar' 'Guajira' 'Ica'\n",
      " 'Cochabamba' 'Catatumbo' 'Loreto' 'Putumayo']\n",
      "Origin municipality → ['' 'Tibu' 'Medellín' 'Santa Marta' 'Timbiquí' 'Orocué' 'Cartagena'\n",
      " 'Piendamó' 'Ica' 'Cochabamba' 'Bretaña' 'Hacarí' 'Moccoa' 'Cúcuta']\n",
      "Transit 1/Region → ['' 'Central America' 'South America' 'North America' 'Caribbean' 'Europe'\n",
      " 'Africa' 'Asia']\n",
      "Transit 1/country → ['Portugal' 'Mexico' 'Dominican Republic' 'France' 'Ecuador' 'Bolivia'\n",
      " 'Costa Rica' 'Brazil' 'Chile' 'Jamaica' 'Argentina' 'Martinique' 'Panama'\n",
      " 'Colombia' 'Barbados' 'Uruguay' 'Venezuela' 'Peru' 'Belgium' 'Curaçao'\n",
      " 'Senegal' 'Spain' 'El Salvador' 'Guadeloupe' 'Paraguay' 'Sweden' 'Mali'\n",
      " 'Puerto Rico' 'Algeria' 'Guinea' 'Italy' 'United Kingdom' 'Guatemala'\n",
      " 'Germany' 'Qatar' '']\n",
      "Transit 1/Department → ['Lisbon' 'Santo Domingo' 'Paris' 'Puntarenas' '' 'Tarapacá' 'Guerrero'\n",
      " 'Altagracia' 'Jujuy' 'Salta' 'Bolívar' 'Rio Grande do Norte' 'Los Santos'\n",
      " 'Mato Grosso do Sul' 'Chiapas' 'Michoacán' 'Sao Paulo' 'Coahuila' 'Zulia'\n",
      " 'Guayas' 'Lima' 'La Guajira' 'Espirito Santo' 'Paraná' 'Amazonas'\n",
      " 'Amazoas' 'Chimborazo' 'Magdalena' 'Goias' 'Valle del Cauca'\n",
      " 'Norte de Santander' 'Minas Gerais' 'Hidalgo' 'Pontevedra' 'Formosa'\n",
      " 'Valparaiso' 'Oran' 'Grande Terre' 'Guyas' 'Santos' 'Andalucia' 'Bahia'\n",
      " 'Bamako' 'Bouches-du-Rhone' 'Rio de Janeiro' 'Manabí' 'Tucumán' 'Bahía'\n",
      " 'Galápagos' 'Aysén' 'Antofagasta' 'Mato Grosso del Sur' 'Laghouat'\n",
      " 'Tamaulipas' 'Cerdeña' 'Mexico' 'Esmeraldas' 'Doha']\n",
      "Transit 1/Municipality → ['Matapalo' 'Rio de Janeiro' 'Acapulco' 'Kingston' 'Volcán' 'Panama City'\n",
      " '' 'Aguas Blancas' 'San Ramón de la Nueva Orán' 'Cartagena'\n",
      " 'Rosario de la frontera' 'São José de Mipibu' ' Bridgetown' 'Amambai'\n",
      " 'Corumbá' 'Frontera Hidalgo' 'Aguaray' 'Juina' 'Dourados' 'Agua Clara'\n",
      " 'Guia Lopes da Laguna' 'Lázaro Cárdenas' 'Campinas' 'Guayaquil' 'Albania'\n",
      " 'Guarapari' 'Paraguaná' 'Miranda' 'Ponta Pora' 'Santarem' 'Embarcación'\n",
      " 'Campo Grande' 'Sao Paulo' 'Tabatinga' 'Dakar' 'Colon' 'Colta'\n",
      " 'Santa Marta' 'Santa Rita do Araguaia ' 'Cali' 'Cúcuta' 'Juiz de Fora'\n",
      " 'Reynosa' 'Vigo' 'Quilpué ' 'Abymes' 'Montevideo' 'Huelva' 'Salvador'\n",
      " 'Marseille' 'Nova Andradina' 'Anastácio' 'São Carlos'\n",
      " 'Santo Antônio do Içá' 'Boca Chica' 'Mogi Mirim' ' Paraty' 'El Carmen'\n",
      " 'General Mosconi' 'Luquillo' 'Ciudad Sagrada de Quilmes' 'Quadra'\n",
      " 'Quillagua' 'Laghouat' 'Conakry' 'Cagliari' 'Santa Lucia'\n",
      " 'San Martin de Porres' 'Asuncion' 'Frankfurt']\n",
      "Transit 2/ region → ['Europe' 'South America' 'Central America' 'North America' 'Africa']\n"
     ]
    }
   ],
   "source": [
    "# Unique values in each column \n",
    "for col in df.columns:\n",
    "    print(f\"{col} → {df[col].dropna().unique()}\")"
   ]
  },
  {
   "cell_type": "code",
   "execution_count": 40,
   "id": "615fe517",
   "metadata": {},
   "outputs": [
    {
     "name": "stdout",
     "output_type": "stream",
     "text": [
      "✅ 'Date-test' → 'Date'\n"
     ]
    }
   ],
   "source": [
    "# Update column name directly in Google Sheets\n",
    "def update_column_name(old_name, new_name):\n",
    "    # Get headers\n",
    "    headers = sheet.values().get(spreadsheetId=SPREADSHEET_ID, range='2025!1:1').execute()['values'][0]\n",
    "    \n",
    "    # Find and update column\n",
    "    if old_name in headers:\n",
    "        col_index = headers.index(old_name)\n",
    "        col_letter = chr(65 + col_index)  # Convert to A, B, C...\n",
    "        \n",
    "        # Update in sheet\n",
    "        sheet.values().update(\n",
    "            spreadsheetId=SPREADSHEET_ID,\n",
    "            range=f'2025!{col_letter}1',\n",
    "            valueInputOption='RAW',\n",
    "            body={'values': [[new_name]]}\n",
    "        ).execute()\n",
    "        \n",
    "        print(f\"✅ '{old_name}' → '{new_name}'\")\n",
    "    else:\n",
    "        print(f\"❌ '{old_name}' not found\")\n",
    "\n",
    "# Usage\n",
    "update_column_name('Date-test', 'Date')\n",
    "\n",
    "# Refresh DataFrame\n",
    "result = sheet.values().get(spreadsheetId=SPREADSHEET_ID, range=RANGE_NAME).execute()\n",
    "values = result.get('values', [])\n",
    "df = pd.DataFrame(values[1:], columns=values[0])"
   ]
  },
  {
   "cell_type": "code",
   "execution_count": 24,
   "id": "d8959e07",
   "metadata": {},
   "outputs": [
    {
     "name": "stdout",
     "output_type": "stream",
     "text": [
      "✅ Dates formatted to DD-MM-YYYY in column C\n"
     ]
    }
   ],
   "source": [
    "# Format date column to DD-MM-YYYY directly in Google Sheets\n",
    "def format_dates_to_dd_mm_yyyy(date_column_name='Date'):\n",
    "    # Get all data\n",
    "    result = sheet.values().get(spreadsheetId=SPREADSHEET_ID, range=RANGE_NAME).execute()\n",
    "    values = result.get('values', [])\n",
    "    \n",
    "    if not values:\n",
    "        print(\"❌ No data found\")\n",
    "        return\n",
    "    \n",
    "    headers = values[0]\n",
    "    if date_column_name not in headers:\n",
    "        print(f\"❌ '{date_column_name}' column not found\")\n",
    "        return\n",
    "    \n",
    "    col_index = headers.index(date_column_name)\n",
    "    col_letter = chr(65 + col_index)\n",
    "    \n",
    "    # Process dates\n",
    "    updated_values = []\n",
    "    for i, row in enumerate(values[1:], 2):  # Start from row 2\n",
    "        if col_index < len(row) and row[col_index]:\n",
    "            try:\n",
    "                # Parse date (assuming YYYY-MM-DD format)\n",
    "                date_obj = datetime.strptime(row[col_index], \"%Y-%m-%d\")\n",
    "                # Format to DD-MM-YYYY\n",
    "                formatted_date = date_obj.strftime(\"%d-%m-%Y\")\n",
    "                updated_values.append([formatted_date])\n",
    "            except ValueError:\n",
    "                # Keep original if can't parse\n",
    "                updated_values.append([row[col_index]])\n",
    "        else:\n",
    "            updated_values.append([''])\n",
    "    \n",
    "    # Update the entire date column\n",
    "    if updated_values:\n",
    "        sheet.values().update(\n",
    "            spreadsheetId=SPREADSHEET_ID,\n",
    "            range=f'2025!{col_letter}2:{col_letter}{len(updated_values)+1}',\n",
    "            valueInputOption='RAW',\n",
    "            body={'values': updated_values}\n",
    "        ).execute()\n",
    "        \n",
    "        print(f\"✅ Dates formatted to DD-MM-YYYY in column {col_letter}\")\n",
    "\n",
    "# Usage\n",
    "format_dates_to_dd_mm_yyyy('Date')  # or whatever your date column is called"
   ]
  },
  {
   "cell_type": "code",
   "execution_count": 44,
   "id": "59f4ba77",
   "metadata": {},
   "outputs": [],
   "source": [
    "def enforce_time_unit_rule():\n",
    "    # Get all data\n",
    "    result = sheet.values().get(spreadsheetId=SPREADSHEET_ID, range=RANGE_NAME).execute()\n",
    "    values = result.get('values', [])\n",
    "    \n",
    "    if not values:\n",
    "        print(\"❌ No data found\")\n",
    "        return\n",
    "    \n",
    "    headers = values[0]\n",
    "    \n",
    "    # Find required columns\n",
    "    try:\n",
    "        time_unit_col = headers.index('Time unit')\n",
    "        date2_col = headers.index('Date 2')\n",
    "    except ValueError:\n",
    "        print(\"❌ Required columns not found (Time unit and/or Date 2)\")\n",
    "        return\n",
    "    \n",
    "    # Prepare batch update requests\n",
    "    requests = []\n",
    "    violations = []\n",
    "    \n",
    "    for i, row in enumerate(values[1:], 2):  # Start from row 2 (1-indexed)\n",
    "        # Check if row has enough columns\n",
    "        if len(row) <= max(time_unit_col, date2_col):\n",
    "            continue\n",
    "            \n",
    "        time_unit = row[time_unit_col].strip().lower() if time_unit_col < len(row) and row[time_unit_col] else None\n",
    "        date2 = row[date2_col].strip() if date2_col < len(row) and row[date2_col] else None\n",
    "        \n",
    "        if time_unit == 'individual' and date2:\n",
    "            violations.append(i)\n",
    "            \n",
    "            # Add request to clear the cell\n",
    "            requests.append({\n",
    "                'repeatCell': {\n",
    "                    'range': {\n",
    "                        'sheetId': SHEET_ID,  # You need to define this\n",
    "                        'startRowIndex': i-1,  # 0-based\n",
    "                        'endRowIndex': i,\n",
    "                        'startColumnIndex': date2_col,\n",
    "                        'endColumnIndex': date2_col+1\n",
    "                    },\n",
    "                    'cell': {\n",
    "                        'userEnteredValue': {'stringValue': ''}\n",
    "                    },\n",
    "                    'fields': 'userEnteredValue'\n",
    "                }\n",
    "            })\n",
    "            \n",
    "            # Add request to format cell red\n",
    "            requests.append({\n",
    "                'repeatCell': {\n",
    "                    'range': {\n",
    "                        'sheetId': SHEET_ID,\n",
    "                        'startRowIndex': i-1,\n",
    "                        'endRowIndex': i,\n",
    "                        'startColumnIndex': date2_col,\n",
    "                        'endColumnIndex': date2_col+1\n",
    "                    },\n",
    "                    'cell': {\n",
    "                        'userEnteredFormat': {\n",
    "                            'backgroundColor': {\n",
    "                                'red': 1,\n",
    "                                'green': 0.8,\n",
    "                                'blue': 0.8\n",
    "                            }\n",
    "                        }\n",
    "                    },\n",
    "                    'fields': 'userEnteredFormat.backgroundColor'\n",
    "                }\n",
    "            })\n",
    "    \n",
    "    # Execute batch update if there are violations\n",
    "    if requests:\n",
    "        body = {\n",
    "            'requests': requests\n",
    "        }\n",
    "        sheet.batchUpdate(spreadsheetId=SPREADSHEET_ID, body=body).execute()\n",
    "        print(f\"✅ Rule enforced: {len(violations)} violations found and corrected\")\n",
    "        print(f\"   Rows with violations: {violations}\")\n",
    "    else:\n",
    "        print(\"✅ No violations found\")"
   ]
  },
  {
   "cell_type": "code",
   "execution_count": null,
   "id": "2e0f6b3e",
   "metadata": {},
   "outputs": [
    {
     "data": {
      "text/plain": [
       "{}"
      ]
     },
     "execution_count": 48,
     "metadata": {},
     "output_type": "execute_result"
    }
   ],
   "source": [
    "# ✅ GATHER DROPDOWN OPTIONS FOR EACH COLUMN\n",
    "dropdown_options = {}\n",
    "\n",
    "for col in df.columns:\n",
    "    unique_values = df[col].dropna().unique().tolist()\n",
    "    dropdown_options[col] = unique_values\n",
    "\n",
    "# Optional: Print a preview of the dropdown dictionary\n",
    "for col, options in dropdown_options.items():\n",
    "    print(f\"{col}: {options[:10]}{'...' if len(options) > 10 else ''}\")\n"
   ]
  },
  {
   "cell_type": "markdown",
   "id": "1af11c62",
   "metadata": {},
   "source": [
    "#### 4.3 Data Anlysis & Reporting\n"
   ]
  }
 ],
 "metadata": {
  "kernelspec": {
   "display_name": "venv-db-watch",
   "language": "python",
   "name": "python3"
  },
  "language_info": {
   "codemirror_mode": {
    "name": "ipython",
    "version": 3
   },
   "file_extension": ".py",
   "mimetype": "text/x-python",
   "name": "python",
   "nbconvert_exporter": "python",
   "pygments_lexer": "ipython3",
   "version": "3.12.10"
  }
 },
 "nbformat": 4,
 "nbformat_minor": 5
}
